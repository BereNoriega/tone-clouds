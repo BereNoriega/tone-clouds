{
 "cells": [
  {
   "cell_type": "code",
   "execution_count": 77,
   "id": "9b463d03",
   "metadata": {},
   "outputs": [],
   "source": [
    "from os import mkdir\n",
    "import numpy as np\n",
    "import random\n",
    "import matplotlib.pyplot as plt\n",
    "from scipy.io.wavfile import write"
   ]
  },
  {
   "cell_type": "code",
   "execution_count": 79,
   "id": "3cf838b8",
   "metadata": {},
   "outputs": [
    {
     "ename": "FileExistsError",
     "evalue": "[WinError 183] No se puede crear un archivo que ya existe: 'C:/Users/Laptop Elitebook/Documents/NEUROCIENCIAS/practicas-tesis/Audios/set_a'",
     "output_type": "error",
     "traceback": [
      "\u001b[1;31m---------------------------------------------------------------------------\u001b[0m",
      "\u001b[1;31mFileExistsError\u001b[0m                           Traceback (most recent call last)",
      "\u001b[1;32mC:\\Users\\LAPTOP~1\\AppData\\Local\\Temp/ipykernel_12532/1069753561.py\u001b[0m in \u001b[0;36m<module>\u001b[1;34m\u001b[0m\n\u001b[0;32m      2\u001b[0m \u001b[1;33m\u001b[0m\u001b[0m\n\u001b[0;32m      3\u001b[0m \u001b[0msetID\u001b[0m\u001b[1;33m=\u001b[0m \u001b[1;34m'a'\u001b[0m\u001b[1;33m\u001b[0m\u001b[1;33m\u001b[0m\u001b[0m\n\u001b[1;32m----> 4\u001b[1;33m \u001b[0mmkdir\u001b[0m\u001b[1;33m(\u001b[0m\u001b[1;34mf\"C:/Users/Laptop Elitebook/Documents/NEUROCIENCIAS/practicas-tesis/Audios/set_{setID}\"\u001b[0m\u001b[1;33m)\u001b[0m\u001b[1;33m\u001b[0m\u001b[1;33m\u001b[0m\u001b[0m\n\u001b[0m",
      "\u001b[1;31mFileExistsError\u001b[0m: [WinError 183] No se puede crear un archivo que ya existe: 'C:/Users/Laptop Elitebook/Documents/NEUROCIENCIAS/practicas-tesis/Audios/set_a'"
     ]
    }
   ],
   "source": [
    "#Creating the folder in a specified path\n",
    "\n",
    "setID= 'a'\n",
    "mkdir(f\"C:/Users/Laptop Elitebook/Documents/NEUROCIENCIAS/practicas-tesis/Audios/set_{setID}\")\n"
   ]
  },
  {
   "cell_type": "code",
   "execution_count": 80,
   "id": "b5b31b11",
   "metadata": {},
   "outputs": [],
   "source": [
    "output_path = f\"C:/Users/Laptop Elitebook/Documents/NEUROCIENCIAS/practicas-tesis/Audios/set_{setID}\"\n"
   ]
  },
  {
   "cell_type": "code",
   "execution_count": 87,
   "id": "3f0fca15",
   "metadata": {},
   "outputs": [],
   "source": [
    "#Defining variables\n",
    "\n",
    "ntokenreps = 10  #how many times the target repeats in a trial\n",
    "tonedur = 2  #original/correct is 0.05 \n",
    "griddt = 0.025 #time resolution of our grid\n",
    "gridfs = 1/griddt\n",
    "minf = 200\n",
    "maxf = 12800\n",
    "noct = 6\n",
    "spectral_density = [4] #tones per octave   #Should we leave it as a list, make it an array or just like the number?\n",
    "temporal_density = [4] #tones per second\n",
    "temp_dens_ptonepergriddt = [temp / gridfs for temp in temporal_density] #probability of a tone in each griddt\n",
    "tempi = [0.5] #ms, the inter-repeat interval of tokens \n",
    "tokendur = 0.2 #rget duration\n",
    "\n",
    "\n",
    "fs = 44100 #generate sounds with this fs\n",
    "fs48 = 48828 #convert to this fs for TDT equipment\n",
    "maxf48k = fs48/2\n",
    "trialseed = 888\n",
    "mintokenstart = 1 \n",
    "maxtokenstart = 1.5 #irst token starts between 1-1.5s into (random) tone cloud\n",
    "np.random.seed(trialseed)  #command to set the seed\n",
    "ntrialspercond = 60\n",
    "stimdb = 85\n",
    "targetrms = (10**(-94/20))*(10**(stimdb/20)) #convertion of dB to amplitude. the number we would use\n",
    "targetrms_wav = 0.1 #0.4"
   ]
  },
  {
   "cell_type": "code",
   "execution_count": 88,
   "id": "1147c6d5",
   "metadata": {},
   "outputs": [],
   "source": [
    "#compute hann envelope (for creating a smooth on and off ramp to sounds)\n",
    "\n",
    "hanndur = 0.05 #s #original/correct is 0.005\n",
    "thann = np.arange(1/fs, hanndur+1/fs, 1/fs)\n",
    "ramp = np.cos(2*np.pi*0.5/hanndur*thann)\n",
    "ttone = np.arange(1/fs, tonedur+1/fs, 1/fs)\n",
    "env = np.ones(ttone.shape)\n",
    "env[:len(ramp)] = np.flip(ramp)\n",
    "env[-len(ramp):] = ramp\n",
    "env=(env+1)/2\n",
    "#plt.plot(ttone, env)"
   ]
  },
  {
   "cell_type": "code",
   "execution_count": 89,
   "id": "c6d917b2",
   "metadata": {},
   "outputs": [],
   "source": [
    "#now loop through conditions and trials to generate\n",
    "trialct = 0 \n",
    "sp_dens = [] \n",
    "tp_dens = []\n",
    "trialnr = []\n",
    "tempo = []\n",
    "play_grid = []\n",
    "latency_grid = []\n",
    "\n",
    "#to save params for manipulations/variations\n",
    "g_play = []\n",
    "g_latency = []\n",
    "g_freq = []\n",
    "t_play = []\n",
    "t_latency = []\n",
    "t_freq = []\n",
    "t_startid = []\n",
    "t_ioi = []\n",
    "g_freqlist = []\n",
    "g_seqdur = []\n",
    "g_setIDs = []\n",
    "g_specdens = []\n",
    "g_tempdens = []"
   ]
  },
  {
   "cell_type": "code",
   "execution_count": 90,
   "id": "222b6124",
   "metadata": {},
   "outputs": [],
   "source": [
    "for s in range(len(spectral_density)):\n",
    "    specdens = spectral_density[s]\n",
    "    freq_list = np.logspace(np.log10(minf),np.log10(maxf),specdens*noct+1)\n",
    "    for t in range(len(temporal_density)):\n",
    "        tempdens = temp_dens_ptonepergriddt[s]\n",
    "        for n in range(ntrialspercond):\n",
    "            for N in range(len(tempi)):\n",
    "                trialct = trialct+1\n",
    "                startt = round((maxtokenstart-mintokenstart)/griddt*np.random.rand()) + mintokenstart/griddt # time of first token start in units of n griddt\n",
    "                #generating sound\n",
    "                ftone = np.random.uniform(minf, maxf) #pick a random tone frequency between minf and maxf\n",
    "                amp = np.sin(2*np.pi*ftone*ttone) #make the tone\n",
    "                amp = amp*env #hanning env already calculated outside\n",
    "                wav_filename = f\"{output_path}/trial_{trialct}_freq_{int(ftone)}_Hz.wav\"\n",
    "                write(wav_filename, fs, amp.astype(np.float32))\n",
    "                txt_filename = f\"{output_path}/trial_{trialct}_freq_{int(ftone)}.txt\"\n",
    "                np.savetxt(txt_filename, amp, fmt='%0.6f')\n",
    "                "
   ]
  }
 ],
 "metadata": {
  "kernelspec": {
   "display_name": "Python 3 (ipykernel)",
   "language": "python",
   "name": "python3"
  },
  "language_info": {
   "codemirror_mode": {
    "name": "ipython",
    "version": 3
   },
   "file_extension": ".py",
   "mimetype": "text/x-python",
   "name": "python",
   "nbconvert_exporter": "python",
   "pygments_lexer": "ipython3",
   "version": "3.9.6"
  }
 },
 "nbformat": 4,
 "nbformat_minor": 5
}
