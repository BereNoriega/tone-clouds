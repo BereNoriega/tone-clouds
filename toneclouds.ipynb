{
 "cells": [
  {
   "cell_type": "code",
   "execution_count": 6,
   "id": "9b463d03",
   "metadata": {},
   "outputs": [],
   "source": [
    "import os\n",
    "from os import mkdir\n",
    "import numpy as np\n",
    "import random\n",
    "import matplotlib.pyplot as plt\n",
    "from scipy.io.wavfile import write\n"
   ]
  },
  {
   "cell_type": "code",
   "execution_count": 45,
   "id": "3f0fca15",
   "metadata": {},
   "outputs": [],
   "source": [
    "#Defining variables\n",
    "\n",
    "ntokenreps = 10  #how many times the target repeats in a trial\n",
    "tonedur = 0.05 \n",
    "minf = 200\n",
    "maxf = 12800\n",
    "noct = 6\n",
    "spectral_density = [1] #tones per octave   \n",
    "temporal_density = [10] #tones per second\n",
    "tempi = 0.5 #s, the inter-repeat interval of tokens \n",
    "tempilist = [0.5]\n",
    "tokendur = 0.2 #target duration\n",
    "\n",
    "\n",
    "fs = 44100 #generate sounds with this fs\n",
    "fs48 = 48828 #convert to this fs for TDT equipment\n",
    "maxf48k = fs48/2\n",
    "trialseed = 888\n",
    "\n",
    "tokenstartrange=np.linspace(1,1.5, num=6) #range from where I can choose to strat my token\n",
    "tokenstart=np.random.choice(tokenstartrange)\n",
    "mintokenstart = 1 \n",
    "maxtokenstart = 1.5 #first token starts between 1-1.5s into (random) tone cloud\n",
    "np.random.seed(trialseed)  #command to set the seed\n",
    "ntrialspercond = 60\n",
    "stimdb = 85\n",
    "wrongtotaltime=tokenstart+(tempi*ntokenreps)\n",
    "totaltime=maxtokenstart+(tempi*ntokenreps)\n",
    "targetrms = (10**(-94/20))*(10**(stimdb/20)) #convertion of dB to amplitude. the number we would use\n",
    "targetrms_wav = 0.1 #0.4\n",
    "\n",
    "timegrid=np.linspace(0,totaltime, num=int(totaltime/(1/(temporal_density[0]))+1))                     \n"
   ]
  },
  {
   "cell_type": "code",
   "execution_count": 42,
   "id": "4270ae84",
   "metadata": {},
   "outputs": [],
   "source": [
    "trialct = 0\n",
    "for s in range(len(spectral_density)):\n",
    "    specdens = spectral_density[s]\n",
    "    freq_list = np.logspace(np.log10(minf),np.log10(maxf),specdens*noct+1)\n",
    "    for t in range(len(temporal_density)):\n",
    "        for n in range(ntrialspercond):\n",
    "            for N in range(len(tempilist)):\n",
    "                trialct = trialct+1\n",
    "                startt =(maxtokenstart-mintokenstart) + mintokenstart # time of first token start \n",
    "                startt_ms = startt*1000\n",
    "                seqdur = startt+ntokenreps\n",
    "                "
   ]
  },
  {
   "cell_type": "code",
   "execution_count": 43,
   "id": "9635f562",
   "metadata": {},
   "outputs": [],
   "source": [
    "#compute hann envelope (for creating a smooth on and off ramp to sounds)\n",
    "\n",
    "hanndur = 0.005\n",
    "thann = np.arange(1/fs, hanndur+1/fs, 1/fs)\n",
    "ramp = np.cos(2*np.pi*0.5/hanndur*thann)\n",
    "ttone = np.arange(1/fs, tonedur+1/fs, 1/fs)\n",
    "env = np.ones(ttone.shape)\n",
    "env[:len(ramp)] = np.flip(ramp)\n",
    "env[-len(ramp):] = ramp\n",
    "env=(env+1)/2\n",
    "#plt.plot(ttone, env)"
   ]
  },
  {
   "cell_type": "code",
   "execution_count": 44,
   "id": "603272ea",
   "metadata": {},
   "outputs": [
    {
     "ename": "ValueError",
     "evalue": "operands could not be broadcast together with shapes (28,) (221,) ",
     "output_type": "error",
     "traceback": [
      "\u001b[1;31m---------------------------------------------------------------------------\u001b[0m",
      "\u001b[1;31mValueError\u001b[0m                                Traceback (most recent call last)",
      "\u001b[1;32mC:\\Users\\LAPTOP~1\\AppData\\Local\\Temp/ipykernel_7576/2500367274.py\u001b[0m in \u001b[0;36m<module>\u001b[1;34m\u001b[0m\n\u001b[0;32m     34\u001b[0m     \u001b[0mplt\u001b[0m\u001b[1;33m.\u001b[0m\u001b[0mshow\u001b[0m\u001b[1;33m(\u001b[0m\u001b[1;33m)\u001b[0m\u001b[1;33m\u001b[0m\u001b[1;33m\u001b[0m\u001b[0m\n\u001b[0;32m     35\u001b[0m \u001b[1;33m\u001b[0m\u001b[0m\n\u001b[1;32m---> 36\u001b[1;33m \u001b[0mgrid_creation\u001b[0m\u001b[1;33m(\u001b[0m\u001b[0mtimegrid\u001b[0m\u001b[1;33m,\u001b[0m\u001b[0mfreq_list\u001b[0m\u001b[1;33m)\u001b[0m\u001b[1;33m\u001b[0m\u001b[1;33m\u001b[0m\u001b[0m\n\u001b[0m",
      "\u001b[1;32mC:\\Users\\LAPTOP~1\\AppData\\Local\\Temp/ipykernel_7576/2500367274.py\u001b[0m in \u001b[0;36mgrid_creation\u001b[1;34m(timegrid, freq_list)\u001b[0m\n\u001b[0;32m     18\u001b[0m             \u001b[0mtoneendsamp\u001b[0m \u001b[1;33m=\u001b[0m \u001b[0mtonestartsamp\u001b[0m\u001b[1;33m+\u001b[0m\u001b[0mlen\u001b[0m\u001b[1;33m(\u001b[0m\u001b[0mamp\u001b[0m\u001b[1;33m)\u001b[0m\u001b[1;33m\u001b[0m\u001b[1;33m\u001b[0m\u001b[0m\n\u001b[0;32m     19\u001b[0m \u001b[1;33m\u001b[0m\u001b[0m\n\u001b[1;32m---> 20\u001b[1;33m             \u001b[0msoundmat\u001b[0m\u001b[1;33m[\u001b[0m\u001b[0mtonestartsamp\u001b[0m\u001b[1;33m:\u001b[0m\u001b[0mtoneendsamp\u001b[0m\u001b[1;33m]\u001b[0m\u001b[1;33m=\u001b[0m\u001b[0msoundmat\u001b[0m\u001b[1;33m[\u001b[0m\u001b[0mtonestartsamp\u001b[0m\u001b[1;33m:\u001b[0m\u001b[0mtoneendsamp\u001b[0m\u001b[1;33m]\u001b[0m\u001b[1;33m+\u001b[0m\u001b[0mamp\u001b[0m\u001b[1;33m\u001b[0m\u001b[1;33m\u001b[0m\u001b[0m\n\u001b[0m\u001b[0;32m     21\u001b[0m \u001b[1;33m\u001b[0m\u001b[0m\n\u001b[0;32m     22\u001b[0m             \u001b[0mplt\u001b[0m\u001b[1;33m.\u001b[0m\u001b[0mplot\u001b[0m\u001b[1;33m(\u001b[0m\u001b[1;33m[\u001b[0m\u001b[0mftimetone\u001b[0m\u001b[1;33m,\u001b[0m \u001b[0mftimetone\u001b[0m \u001b[1;33m+\u001b[0m \u001b[0mtonedur\u001b[0m\u001b[1;33m]\u001b[0m\u001b[1;33m,\u001b[0m\u001b[1;33m[\u001b[0m\u001b[0mftone\u001b[0m\u001b[1;33m,\u001b[0m \u001b[0mftone\u001b[0m\u001b[1;33m]\u001b[0m\u001b[1;33m,\u001b[0m \u001b[0mcolor\u001b[0m\u001b[1;33m=\u001b[0m\u001b[1;34m'blue'\u001b[0m\u001b[1;33m,\u001b[0m \u001b[0mlinewidth\u001b[0m\u001b[1;33m=\u001b[0m\u001b[1;36m2\u001b[0m\u001b[1;33m)\u001b[0m\u001b[1;33m\u001b[0m\u001b[1;33m\u001b[0m\u001b[0m\n",
      "\u001b[1;31mValueError\u001b[0m: operands could not be broadcast together with shapes (28,) (221,) "
     ]
    },
    {
     "data": {
      "image/png": "[encoded data removed]",
      "text/plain": [
       "<Figure size 432x288 with 1 Axes>"
      ]
     },
     "metadata": {
      "needs_background": "light"
     },
     "output_type": "display_data"
    }
   ],
   "source": [
    "soundmat=np.zeros(int(totaltime*fs))\n",
    "\n",
    "def grid_creation(timegrid,freq_list):\n",
    "    for t in range(len(timegrid)-1):     \n",
    "        for f in range(len(freq_list)-1):\n",
    "            start_time = timegrid[t]\n",
    "            end_time = timegrid[t+1]\n",
    "            ftimetone = np.random.uniform(start_time, end_time)\n",
    "        \n",
    "            fstart_time = freq_list[f]\n",
    "            fend_time = freq_list[f+1]\n",
    "            ftone = np.random.uniform(fstart_time, fend_time)\n",
    "            \n",
    "            amp = np.sin(2*np.pi*ftone*ttone) #make the tone\n",
    "            amp = amp*env #hanning env already calculated outside\n",
    "            \n",
    "            tonestartsamp = int(ftimetone*fs)+1\n",
    "            toneendsamp = tonestartsamp+len(amp)\n",
    "            \n",
    "            soundmat[tonestartsamp:toneendsamp]=soundmat[tonestartsamp:toneendsamp]+amp\n",
    "\n",
    "            plt.plot([ftimetone, ftimetone + tonedur],[ftone, ftone], color='blue', linewidth=2)\n",
    "            \n",
    "    for t in timegrid:\n",
    "        linetime=plt.axvline(x=t, color='gray', linestyle='--', linewidth=0.5)\n",
    "    for f in freq_list:\n",
    "        linefreq=plt.axhline(y=f, color='gray', linestyle='--', linewidth=0.5)\n",
    "    \n",
    "    plt.xlabel('Time (s)')\n",
    "    plt.ylabel('Frequency (Hz)')\n",
    "    plt.title('Grid')\n",
    "    plt.xlim(0, 1)\n",
    "    plt.ylim(minf, maxf+800)\n",
    "    plt.show()\n",
    "    \n",
    "grid_creation(timegrid,freq_list)"
   ]
  },
  {
   "cell_type": "code",
   "execution_count": 128,
   "id": "74e06b22",
   "metadata": {},
   "outputs": [
    {
     "data": {
      "text/plain": [
       "[<matplotlib.lines.Line2D at 0x13bc9ada730>]"
      ]
     },
     "execution_count": 128,
     "metadata": {},
     "output_type": "execute_result"
    },
    {
     "data": {
      "image/png": "[encoded data removed]",
      "text/plain": [
       "<Figure size 432x288 with 1 Axes>"
      ]
     },
     "metadata": {
      "needs_background": "light"
     },
     "output_type": "display_data"
    }
   ],
   "source": [
    "plt.plot(soundmat)"
   ]
  },
  {
   "cell_type": "code",
   "execution_count": 5,
   "id": "440c76bc",
   "metadata": {},
   "outputs": [],
   "source": [
    "def grid_creation(timegrid,freq_list):\n",
    "    for t in timegrid:\n",
    "        linetime=plt.axvline(x=t, color='gray', linestyle='--', linewidth=0.5)\n",
    "    for f in freq_list:\n",
    "        linefreq=plt.axhline(y=f, color='gray', linestyle='--', linewidth=0.5)\n",
    "    \n",
    "    plt.xlabel('Time (s)')\n",
    "    plt.ylabel('Frequency (Hz)')\n",
    "    plt.title('Grid')\n",
    "    plt.xlim(0, totaltime)\n",
    "    plt.ylim(minf, maxf+800)\n",
    "    plt.show()\n",
    "    "
   ]
  },
  {
   "cell_type": "code",
   "execution_count": 6,
   "id": "fef3fab1",
   "metadata": {},
   "outputs": [
    {
     "data": {
      "image/png": "[encoded data removed]",
      "text/plain": [
       "<Figure size 432x288 with 1 Axes>"
      ]
     },
     "metadata": {
      "needs_background": "light"
     },
     "output_type": "display_data"
    }
   ],
   "source": [
    "grid_creation(timegrid,freq_list)"
   ]
  },
  {
   "cell_type": "code",
   "execution_count": 134,
   "id": "3cf838b8",
   "metadata": {},
   "outputs": [],
   "source": [
    "#Creating the folder in a specified path\n",
    "example_num=1\n",
    "setID= f\"tonecloud_{example_num}\"\n",
    "#mkdir(f\"C:/Users/Laptop Elitebook/Documents/NEUROCIENCIAS/practicas-tesis/Audios/set_{setID}\")\n"
   ]
  },
  {
   "cell_type": "code",
   "execution_count": 140,
   "id": "ed0f1186",
   "metadata": {},
   "outputs": [
    {
     "name": "stdout",
     "output_type": "stream",
     "text": [
      "Collecting soundfileNote: you may need to restart the kernel to use updated packages.\n",
      "  Obtaining dependency information for soundfile from https://files.pythonhosted.org/packages/50/ff/26a4ee48d0b66625a4e4028a055b9f25bc9d7c7b2d17d21a45137621a50d/soundfile-0.12.1-py2.py3-none-win_amd64.whl.metadata\n",
      "  Downloading soundfile-0.12.1-py2.py3-none-win_amd64.whl.metadata (14 kB)\n",
      "Requirement already satisfied: cffi>=1.0 in c:\\python39\\lib\\site-packages (from soundfile) (1.14.6)\n",
      "Requirement already satisfied: pycparser in c:\\python39\\lib\\site-packages (from cffi>=1.0->soundfile) (2.20)\n",
      "Downloading soundfile-0.12.1-py2.py3-none-win_amd64.whl (1.0 MB)\n",
      "   ---------------------------------------- 1.0/1.0 MB 3.2 MB/s eta 0:00:00\n",
      "Installing collected packages: soundfile\n",
      "Successfully installed soundfile-0.12.1\n",
      "\n"
     ]
    },
    {
     "name": "stderr",
     "output_type": "stream",
     "text": [
      "\n",
      "[notice] A new release of pip is available: 23.2.1 -> 24.2\n",
      "[notice] To update, run: c:\\python39\\python.exe -m pip install --upgrade pip\n"
     ]
    }
   ],
   "source": [
    "pip install soundfile"
   ]
  },
  {
   "cell_type": "code",
   "execution_count": 147,
   "id": "4bb85355",
   "metadata": {},
   "outputs": [],
   "source": [
    "filename=\"first_tonecloud\"\n",
    "output_path = f\"C:/Users/Laptop Elitebook/Documents/NEUROCIENCIAS/practicas-tesis/Audios/set_{setID}\"\n",
    "\n",
    "def saving_tonecloud (soundmat,fs,output_path,filename):\n",
    "    import soundfile as sf\n",
    "    import os\n",
    "    path_filename = os.path.join(output_path, f\"{filename}.wav\")\n",
    "    sf.write(path_filename, soundmat, fs)\n",
    "    \n",
    "    print(f\"{filename} succesfully saved in {output_path}\")\n",
    "    return path_filename\n",
    "        \n"
   ]
  },
  {
   "cell_type": "code",
   "execution_count": 148,
   "id": "e0a5e540",
   "metadata": {},
   "outputs": [
    {
     "name": "stdout",
     "output_type": "stream",
     "text": [
      "first_tonecloud succesfully saved in C:/Users/Laptop Elitebook/Documents/NEUROCIENCIAS/practicas-tesis/Audios/set_tonecloud_1\n"
     ]
    },
    {
     "data": {
      "text/plain": [
       "'C:/Users/Laptop Elitebook/Documents/NEUROCIENCIAS/practicas-tesis/Audios/set_tonecloud_1\\\\first_tonecloud.wav'"
      ]
     },
     "execution_count": 148,
     "metadata": {},
     "output_type": "execute_result"
    }
   ],
   "source": [
    "saving_tonecloud (soundmat,fs,output_path,filename)"
   ]
  },
  {
   "cell_type": "code",
   "execution_count": 124,
   "id": "ee5a8f6b",
   "metadata": {},
   "outputs": [
    {
     "data": {
      "text/plain": [
       "(221,)"
      ]
     },
     "execution_count": 124,
     "metadata": {},
     "output_type": "execute_result"
    }
   ],
   "source": [
    "soundmat[tonestartsamp:toneendsamp].shape"
   ]
  },
  {
   "cell_type": "code",
   "execution_count": 116,
   "id": "1ec13ae3",
   "metadata": {},
   "outputs": [
    {
     "ename": "IndexError",
     "evalue": "index 1 is out of bounds for axis 0 with size 1",
     "output_type": "error",
     "traceback": [
      "\u001b[1;31m---------------------------------------------------------------------------\u001b[0m",
      "\u001b[1;31mIndexError\u001b[0m                                Traceback (most recent call last)",
      "\u001b[1;32mC:\\Users\\LAPTOP~1\\AppData\\Local\\Temp/ipykernel_9192/2958328035.py\u001b[0m in \u001b[0;36m<module>\u001b[1;34m\u001b[0m\n\u001b[1;32m----> 1\u001b[1;33m \u001b[0msoundmat\u001b[0m\u001b[1;33m[\u001b[0m\u001b[1;36m1\u001b[0m\u001b[1;33m,\u001b[0m\u001b[0mtonestartsamp\u001b[0m\u001b[1;33m:\u001b[0m\u001b[0mtoneendsamp\u001b[0m\u001b[1;33m]\u001b[0m\u001b[1;33m\u001b[0m\u001b[1;33m\u001b[0m\u001b[0m\n\u001b[0m",
      "\u001b[1;31mIndexError\u001b[0m: index 1 is out of bounds for axis 0 with size 1"
     ]
    }
   ],
   "source": [
    "\n",
    "soundmat[1,tonestartsamp:toneendsamp]"
   ]
  },
  {
   "cell_type": "code",
   "execution_count": 122,
   "id": "f95feb44",
   "metadata": {},
   "outputs": [
    {
     "data": {
      "text/plain": [
       "0.0"
      ]
     },
     "execution_count": 122,
     "metadata": {},
     "output_type": "execute_result"
    }
   ],
   "source": [
    "a=soundmat[tonestartsamp]\n",
    "a"
   ]
  },
  {
   "cell_type": "code",
   "execution_count": 105,
   "id": "add184cb",
   "metadata": {},
   "outputs": [
    {
     "data": {
      "text/plain": [
       "(1, 286650)"
      ]
     },
     "execution_count": 105,
     "metadata": {},
     "output_type": "execute_result"
    }
   ],
   "source": [
    "soundmat.shape"
   ]
  },
  {
   "cell_type": "code",
   "execution_count": 101,
   "id": "ca3a2a38",
   "metadata": {},
   "outputs": [],
   "source": [
    "tonestartsamp = int(ftimetone*fs)+1\n",
    "toneendsamp = tonestartsamp+len(amp)"
   ]
  },
  {
   "cell_type": "code",
   "execution_count": 102,
   "id": "9f050658",
   "metadata": {},
   "outputs": [
    {
     "name": "stdout",
     "output_type": "stream",
     "text": [
      "45881 46102\n"
     ]
    }
   ],
   "source": [
    "print(tonestartsamp,toneendsamp)"
   ]
  },
  {
   "cell_type": "code",
   "execution_count": 68,
   "id": "ffbff22f",
   "metadata": {},
   "outputs": [
    {
     "data": {
      "text/plain": [
       "array([ 3.99965999e-02,  7.99170156e-02,  1.19685234e-01,  1.59225586e-01,\n",
       "        1.98462913e-01,  2.37322741e-01,  2.75731441e-01,  3.13616402e-01,\n",
       "        3.50906187e-01,  3.87530697e-01,  4.23421324e-01,  4.58511106e-01,\n",
       "        4.92734875e-01,  5.26029398e-01,  5.58333520e-01,  5.89588299e-01,\n",
       "        6.19737128e-01,  6.48725864e-01,  6.76502942e-01,  7.03019484e-01,\n",
       "        7.28229405e-01,  7.52089508e-01,  7.74559574e-01,  7.95602442e-01,\n",
       "        8.15184088e-01,  8.33273687e-01,  8.49843675e-01,  8.64869797e-01,\n",
       "        8.78331155e-01,  8.90210236e-01,  9.00492944e-01,  9.09168615e-01,\n",
       "        9.16230025e-01,  9.21673399e-01,  9.25498395e-01,  9.27708093e-01,\n",
       "        9.28308974e-01,  9.27310885e-01,  9.24726998e-01,  9.20573770e-01,\n",
       "        9.14870878e-01,  9.07641166e-01,  8.98910568e-01,  8.88708034e-01,\n",
       "        8.77065446e-01,  8.64017526e-01,  8.49601738e-01,  8.33858187e-01,\n",
       "        8.16829509e-01,  7.98560755e-01,  7.79099270e-01,  7.58494573e-01,\n",
       "        7.36798220e-01,  7.14063675e-01,  6.90346173e-01,  6.65702574e-01,\n",
       "        6.40191224e-01,  6.13871805e-01,  5.86805184e-01,  5.59053265e-01,\n",
       "        5.30678837e-01,  5.01745415e-01,  4.72317088e-01,  4.42458365e-01,\n",
       "        4.12234018e-01,  3.81708930e-01,  3.50947939e-01,  3.20015684e-01,\n",
       "        2.88976460e-01,  2.57894063e-01,  2.26831647e-01,  1.95851583e-01,\n",
       "        1.65015310e-01,  1.34383209e-01,  1.04014461e-01,  7.39669230e-02,\n",
       "        4.42970016e-02,  1.50595339e-02, -1.36923278e-02, -4.19072250e-02,\n",
       "       -6.95356971e-02, -9.65302797e-02, -1.22845596e-01, -1.48438445e-01,\n",
       "       -1.73267877e-01, -1.97295271e-01, -2.20484398e-01, -2.42801482e-01,\n",
       "       -2.64215253e-01, -2.84696990e-01, -3.04220565e-01, -3.22762467e-01,\n",
       "       -3.40301832e-01, -3.56820461e-01, -3.72302823e-01, -3.86736065e-01,\n",
       "       -4.00110007e-01, -4.12417126e-01, -4.23652544e-01, -4.33814000e-01,\n",
       "       -4.42901819e-01, -4.50918876e-01, -4.57870549e-01, -4.63764671e-01,\n",
       "       -4.68611474e-01, -4.72423523e-01, -4.75215654e-01, -4.77004897e-01,\n",
       "       -4.77810401e-01, -4.77653349e-01, -4.76556873e-01, -4.74545959e-01,\n",
       "       -4.71647358e-01, -4.67889481e-01, -4.63302302e-01, -4.57917247e-01,\n",
       "       -4.51767093e-01, -4.44885854e-01, -4.37308669e-01, -4.29071689e-01,\n",
       "       -4.20211963e-01, -4.10767324e-01, -4.00776265e-01, -3.90277832e-01,\n",
       "       -3.79311502e-01, -3.67917065e-01, -3.56134515e-01, -3.44003929e-01,\n",
       "       -3.31565360e-01, -3.18858721e-01, -3.05923677e-01, -2.92799541e-01,\n",
       "       -2.79525165e-01, -2.66138843e-01, -2.52678210e-01, -2.39180148e-01,\n",
       "       -2.25680695e-01, -2.12214959e-01, -1.98817032e-01, -1.85519914e-01,\n",
       "       -1.72355436e-01, -1.59354194e-01, -1.46545480e-01, -1.33957225e-01,\n",
       "       -1.21615945e-01, -1.09546688e-01, -9.77729922e-02, -8.63168485e-02,\n",
       "       -7.51986643e-02, -6.44372370e-02, -5.40497317e-02, -4.40516640e-02,\n",
       "       -3.44568888e-02, -2.52775944e-02, -1.65243019e-02, -8.20587018e-03,\n",
       "       -3.29506237e-04,  7.09921978e-03,  1.40763539e-02,  2.05995330e-02,\n",
       "        2.66679545e-02,  3.22823417e-02,  3.74449039e-02,  4.21592935e-02,\n",
       "        4.64305573e-02,  5.02650854e-02,  5.36705556e-02,  5.66558743e-02,\n",
       "        5.92311145e-02,  6.14074506e-02,  6.31970906e-02,  6.46132056e-02,\n",
       "        6.56698572e-02,  6.63819232e-02,  6.67650209e-02,  6.68354298e-02,\n",
       "        6.66100130e-02,  6.61061372e-02,  6.53415931e-02,  6.43345145e-02,\n",
       "        6.31032985e-02,  6.16665248e-02,  6.00428769e-02,  5.82510630e-02,\n",
       "        5.63097386e-02,  5.42374305e-02,  5.20524623e-02,  4.97728816e-02,\n",
       "        4.74163899e-02,  4.50002742e-02,  4.25413419e-02,  4.00558577e-02,\n",
       "        3.75594842e-02,  3.50672254e-02,  3.25933739e-02,  3.01514609e-02,\n",
       "        2.77542108e-02,  2.54134991e-02,  2.31403144e-02,  2.09447250e-02,\n",
       "        1.88358484e-02,  1.68218267e-02,  1.49098052e-02,  1.31059158e-02,\n",
       "        1.14152646e-02,  9.84192457e-03,  8.38893197e-03,  7.05828758e-03,\n",
       "        5.85096231e-03,  4.76690719e-03,  3.80506773e-03,  2.96340249e-03,\n",
       "        2.23890587e-03,  1.62763492e-03,  1.12474026e-03,  7.24500633e-04,\n",
       "        4.20361341e-04,  2.04976110e-04,  7.02523845e-05,  7.39979868e-06,\n",
       "        6.98166915e-06])"
      ]
     },
     "execution_count": 68,
     "metadata": {},
     "output_type": "execute_result"
    }
   ],
   "source": [
    "amp"
   ]
  },
  {
   "cell_type": "code",
   "execution_count": 71,
   "id": "467c6622",
   "metadata": {},
   "outputs": [
    {
     "data": {
      "text/plain": [
       "221"
      ]
     },
     "execution_count": 71,
     "metadata": {},
     "output_type": "execute_result"
    }
   ],
   "source": [
    "len(amp)"
   ]
  },
  {
   "cell_type": "code",
   "execution_count": 55,
   "id": "378ef7d1",
   "metadata": {},
   "outputs": [
    {
     "data": {
      "text/plain": [
       "0.09221500124509842"
      ]
     },
     "execution_count": 55,
     "metadata": {},
     "output_type": "execute_result"
    }
   ],
   "source": [
    "ftimetone"
   ]
  },
  {
   "cell_type": "code",
   "execution_count": 56,
   "id": "61594d83",
   "metadata": {},
   "outputs": [
    {
     "ename": "ValueError",
     "evalue": "operands could not be broadcast together with shapes (0,286650) (221,) ",
     "output_type": "error",
     "traceback": [
      "\u001b[1;31m---------------------------------------------------------------------------\u001b[0m",
      "\u001b[1;31mValueError\u001b[0m                                Traceback (most recent call last)",
      "\u001b[1;32mC:\\Users\\LAPTOP~1\\AppData\\Local\\Temp/ipykernel_9192/2572186879.py\u001b[0m in \u001b[0;36m<module>\u001b[1;34m\u001b[0m\n\u001b[0;32m      9\u001b[0m \u001b[0mamp\u001b[0m \u001b[1;33m=\u001b[0m \u001b[0mamp\u001b[0m\u001b[1;33m*\u001b[0m\u001b[0menv\u001b[0m \u001b[1;31m#hanning env already calculated outside\u001b[0m\u001b[1;33m\u001b[0m\u001b[1;33m\u001b[0m\u001b[0m\n\u001b[0;32m     10\u001b[0m \u001b[0mtoneendsamp\u001b[0m \u001b[1;33m=\u001b[0m \u001b[0mint\u001b[0m\u001b[1;33m(\u001b[0m\u001b[0mftimetone\u001b[0m\u001b[1;33m+\u001b[0m\u001b[0mlen\u001b[0m\u001b[1;33m(\u001b[0m\u001b[0mamp\u001b[0m\u001b[1;33m)\u001b[0m\u001b[1;33m)\u001b[0m\u001b[1;33m\u001b[0m\u001b[1;33m\u001b[0m\u001b[0m\n\u001b[1;32m---> 11\u001b[1;33m \u001b[0msoundmat\u001b[0m\u001b[1;33m[\u001b[0m\u001b[0mtonestartsamp\u001b[0m\u001b[1;33m,\u001b[0m\u001b[0mtoneendsamp\u001b[0m\u001b[1;33m]\u001b[0m\u001b[1;33m=\u001b[0m\u001b[0msoundmat\u001b[0m\u001b[1;33m[\u001b[0m\u001b[0mtonestartsamp\u001b[0m\u001b[1;33m:\u001b[0m\u001b[0mtoneendsamp\u001b[0m\u001b[1;33m]\u001b[0m\u001b[1;33m+\u001b[0m\u001b[0mamp\u001b[0m\u001b[1;33m\u001b[0m\u001b[1;33m\u001b[0m\u001b[0m\n\u001b[0m",
      "\u001b[1;31mValueError\u001b[0m: operands could not be broadcast together with shapes (0,286650) (221,) "
     ]
    }
   ],
   "source": [
    "start_time = timegrid[0]\n",
    "end_time = timegrid[0+1]\n",
    "fstart_time = freq_list[0]\n",
    "fend_time = freq_list[0+1]\n",
    "ftone = np.random.uniform(fstart_time, fend_time)\n",
    "ftimetone = np.random.uniform(start_time, end_time)\n",
    "tonestartsamp = int(ftimetone*fs)+1\n",
    "amp = np.sin(2*np.pi*ftone*ttone) #make the tone\n",
    "amp = amp*env #hanning env already calculated outside\n",
    "toneendsamp = int(ftimetone+len(amp))\n",
    "soundmat[tonestartsamp,toneendsamp]=soundmat[tonestartsamp:toneendsamp]+amp"
   ]
  },
  {
   "cell_type": "code",
   "execution_count": 17,
   "id": "44a2bfdd",
   "metadata": {},
   "outputs": [
    {
     "data": {
      "text/plain": [
       "1360"
      ]
     },
     "execution_count": 17,
     "metadata": {},
     "output_type": "execute_result"
    }
   ],
   "source": [
    "tonestartsamp"
   ]
  },
  {
   "cell_type": "code",
   "execution_count": 18,
   "id": "bda6897d",
   "metadata": {},
   "outputs": [
    {
     "data": {
      "text/plain": [
       "221"
      ]
     },
     "execution_count": 18,
     "metadata": {},
     "output_type": "execute_result"
    }
   ],
   "source": [
    "toneendsamp"
   ]
  },
  {
   "cell_type": "code",
   "execution_count": 41,
   "id": "5f651309",
   "metadata": {},
   "outputs": [
    {
     "ename": "IndexError",
     "evalue": "index 4184 is out of bounds for axis 0 with size 1",
     "output_type": "error",
     "traceback": [
      "\u001b[1;31m---------------------------------------------------------------------------\u001b[0m",
      "\u001b[1;31mIndexError\u001b[0m                                Traceback (most recent call last)",
      "\u001b[1;32mC:\\Users\\LAPTOP~1\\AppData\\Local\\Temp/ipykernel_9192/3645756936.py\u001b[0m in \u001b[0;36m<module>\u001b[1;34m\u001b[0m\n\u001b[1;32m----> 1\u001b[1;33m \u001b[0msoundmat\u001b[0m\u001b[1;33m[\u001b[0m\u001b[0mtonestartsamp\u001b[0m\u001b[1;33m,\u001b[0m\u001b[0mtoneendsamp\u001b[0m\u001b[1;33m]\u001b[0m\u001b[1;33m\u001b[0m\u001b[1;33m\u001b[0m\u001b[0m\n\u001b[0m",
      "\u001b[1;31mIndexError\u001b[0m: index 4184 is out of bounds for axis 0 with size 1"
     ]
    }
   ],
   "source": [
    "soundmat[tonestartsamp,toneendsamp]"
   ]
  },
  {
   "cell_type": "code",
   "execution_count": 25,
   "id": "00959846",
   "metadata": {},
   "outputs": [
    {
     "data": {
      "text/plain": [
       "array([], shape=(0, 286650), dtype=int32)"
      ]
     },
     "execution_count": 25,
     "metadata": {},
     "output_type": "execute_result"
    }
   ],
   "source": [
    "soundmat[tonestartsamp:toneendsamp]"
   ]
  },
  {
   "cell_type": "code",
   "execution_count": 49,
   "id": "ab2d404f",
   "metadata": {},
   "outputs": [
    {
     "ename": "IndexError",
     "evalue": "index 4067 is out of bounds for axis 0 with size 1",
     "output_type": "error",
     "traceback": [
      "\u001b[1;31m---------------------------------------------------------------------------\u001b[0m",
      "\u001b[1;31mIndexError\u001b[0m                                Traceback (most recent call last)",
      "\u001b[1;32mC:\\Users\\LAPTOP~1\\AppData\\Local\\Temp/ipykernel_9192/1987932089.py\u001b[0m in \u001b[0;36m<module>\u001b[1;34m\u001b[0m\n\u001b[1;32m----> 1\u001b[1;33m \u001b[0mprint\u001b[0m\u001b[1;33m(\u001b[0m\u001b[0msoundmat\u001b[0m\u001b[1;33m[\u001b[0m\u001b[0mtonestartsamp\u001b[0m\u001b[1;33m]\u001b[0m\u001b[1;33m,\u001b[0m\u001b[0msoundmat\u001b[0m\u001b[1;33m[\u001b[0m\u001b[0mtoneendsamp\u001b[0m\u001b[1;33m]\u001b[0m\u001b[1;33m)\u001b[0m\u001b[1;33m\u001b[0m\u001b[1;33m\u001b[0m\u001b[0m\n\u001b[0m",
      "\u001b[1;31mIndexError\u001b[0m: index 4067 is out of bounds for axis 0 with size 1"
     ]
    }
   ],
   "source": [
    "print(soundmat[tonestartsamp],soundmat[toneendsamp])\n"
   ]
  },
  {
   "cell_type": "code",
   "execution_count": 66,
   "id": "c9eaebab",
   "metadata": {},
   "outputs": [
    {
     "data": {
      "text/plain": [
       "(1, 286650)"
      ]
     },
     "execution_count": 66,
     "metadata": {},
     "output_type": "execute_result"
    }
   ],
   "source": [
    "soundmat.shape"
   ]
  },
  {
   "cell_type": "code",
   "execution_count": 215,
   "id": "6bee6532",
   "metadata": {},
   "outputs": [
    {
     "ename": "NameError",
     "evalue": "name 'tonestartsamp' is not defined",
     "output_type": "error",
     "traceback": [
      "\u001b[1;31m---------------------------------------------------------------------------\u001b[0m",
      "\u001b[1;31mNameError\u001b[0m                                 Traceback (most recent call last)",
      "\u001b[1;32mC:\\Users\\LAPTOP~1\\AppData\\Local\\Temp/ipykernel_10984/1538590289.py\u001b[0m in \u001b[0;36m<module>\u001b[1;34m\u001b[0m\n\u001b[1;32m----> 1\u001b[1;33m \u001b[0mtonestartsamp\u001b[0m\u001b[1;33m\u001b[0m\u001b[1;33m\u001b[0m\u001b[0m\n\u001b[0m",
      "\u001b[1;31mNameError\u001b[0m: name 'tonestartsamp' is not defined"
     ]
    }
   ],
   "source": [
    "tonestartsamp"
   ]
  },
  {
   "cell_type": "code",
   "execution_count": 202,
   "id": "80b5009b",
   "metadata": {},
   "outputs": [
    {
     "data": {
      "text/plain": [
       "286650"
      ]
     },
     "execution_count": 202,
     "metadata": {},
     "output_type": "execute_result"
    }
   ],
   "source": [
    "int(totaltime*fs)"
   ]
  },
  {
   "cell_type": "code",
   "execution_count": 192,
   "id": "991c03b2",
   "metadata": {
    "scrolled": true
   },
   "outputs": [
    {
     "data": {
      "image/png": "[encoded data removed]",
      "text/plain": [
       "<Figure size 432x288 with 1 Axes>"
      ]
     },
     "metadata": {
      "needs_background": "light"
     },
     "output_type": "display_data"
    }
   ],
   "source": [
    "def grid_creation(timegrid,freq_list):\n",
    "    for t in range(len(timegrid)-1):     \n",
    "        for f in range(len(freq_list)-1):\n",
    "            start_time = timegrid[t]\n",
    "            end_time = timegrid[t+1]\n",
    "            ftimetone = np.random.uniform(start_time, end_time)\n",
    "        \n",
    "            fstart_time = freq_list[f]\n",
    "            fend_time = freq_list[f+1]\n",
    "            ftone = np.random.uniform(fstart_time, fend_time)\n",
    "            \n",
    "            amp = np.sin(2*np.pi*ftone*ttone) #make the tone\n",
    "            amp = amp*env #hanning env already calculated outside\n",
    "\n",
    "            plt.plot([ftimetone, ftimetone + tonedur],[ftone, ftone], color='blue', linewidth=2)\n",
    "            \n",
    "    for t in timegrid:\n",
    "        linetime=plt.axvline(x=t, color='gray', linestyle='--', linewidth=0.5)\n",
    "    for f in freq_list:\n",
    "        linefreq=plt.axhline(y=f, color='gray', linestyle='--', linewidth=0.5)\n",
    "    \n",
    "    plt.xlabel('Time (s)')\n",
    "    plt.ylabel('Frequency (Hz)')\n",
    "    plt.title('Grid')\n",
    "    plt.xlim(0, 1)\n",
    "    plt.ylim(minf, maxf+800)\n",
    "    plt.show()\n",
    "grid_creation(timegrid,freq_list)"
   ]
  },
  {
   "cell_type": "code",
   "execution_count": 184,
   "id": "ec8bfc94",
   "metadata": {},
   "outputs": [
    {
     "data": {
      "image/png": "[encoded data removed]",
      "text/plain": [
       "<Figure size 432x288 with 1 Axes>"
      ]
     },
     "metadata": {
      "needs_background": "light"
     },
     "output_type": "display_data"
    }
   ],
   "source": [
    "fixed_freq=freq_list[5]\n",
    "\n",
    "trialtimetones=[]\n",
    "t=0\n",
    "def grid_creation_freqfixed(timegrid,freq_list):\n",
    "    for t in range(len(timegrid)-1): \n",
    "        start_time = timegrid[t]\n",
    "        end_time = timegrid[t+1]  \n",
    "        ftimetone = np.random.uniform(start_time, end_time)\n",
    "        trialtones.append(start_time)\n",
    "            \n",
    "        plt.plot([ftimetone, ftimetone + tonedur], [fixed_freq, fixed_freq], color='blue', linewidth=2)\n",
    "            \n",
    "    for t in timegrid:\n",
    "        linetime=plt.axvline(x=t, color='gray', linestyle='--', linewidth=0.5)\n",
    "    for f in freq_list:\n",
    "        linefreq=plt.axhline(y=f, color='gray', linestyle='--', linewidth=0.5)\n",
    "    \n",
    "    plt.xlabel('Time (s)')\n",
    "    plt.ylabel('Frequency (Hz)')\n",
    "    plt.title('Grid -Fixed Frequency')\n",
    "    plt.xlim(0.5, 1)\n",
    "    plt.ylim(7000, 5800)\n",
    "    plt.show()\n",
    "grid_creation_freqfixed(timegrid,freq_list)\n"
   ]
  },
  {
   "cell_type": "code",
   "execution_count": 185,
   "id": "2847bfc9",
   "metadata": {},
   "outputs": [
    {
     "data": {
      "image/png": "[encoded data removed]",
      "text/plain": [
       "<Figure size 432x288 with 1 Axes>"
      ]
     },
     "metadata": {
      "needs_background": "light"
     },
     "output_type": "display_data"
    }
   ],
   "source": [
    "fixed_time=timegrid[2]\n",
    "def grid_creation_timefixed(timegrid,freq_list):\n",
    "    for f in range(len(freq_list)-1):\n",
    "        fstart_time = freq_list[f]\n",
    "        fend_time = freq_list[f+1]\n",
    "        ftone = np.random.uniform(fstart_time, fend_time)\n",
    "        amp = np.sin(2*np.pi*ftone*ttone) #make the tone\n",
    "        amp = amp*env #hanning env already calculated outside\n",
    "            \n",
    "        plt.plot([fixed_time,fixed_time+0.005], [ftone,ftone], color='blue', linewidth=2)\n",
    "            \n",
    "    for t in timegrid:\n",
    "        linetime=plt.axvline(x=t, color='gray', linestyle='--', linewidth=0.5)\n",
    "    for f in freq_list:\n",
    "        linefreq=plt.axhline(y=f, color='gray', linestyle='--', linewidth=0.5)\n",
    "    \n",
    "    plt.xlabel('Time (s)')\n",
    "    plt.ylabel('Frequency (Hz)')\n",
    "    plt.title('Grid - Fixed Time')\n",
    "    plt.xlim(0.02, 1)\n",
    "    plt.ylim(minf, maxf+800)\n",
    "    plt.show()\n",
    "grid_creation_timefixed(timegrid,freq_list)"
   ]
  },
  {
   "cell_type": "code",
   "execution_count": null,
   "id": "cca7a90a",
   "metadata": {},
   "outputs": [],
   "source": [
    "np.zeros()"
   ]
  },
  {
   "cell_type": "markdown",
   "id": "5c4c080a",
   "metadata": {},
   "source": [
    "### Intentos fallidos y borradores:\n",
    "(No están en orden cronológico)"
   ]
  },
  {
   "cell_type": "code",
   "execution_count": 33,
   "id": "4a2dbcbe",
   "metadata": {},
   "outputs": [
    {
     "data": {
      "text/plain": [
       "array([  200.,   400.,   800.,  1600.,  3200.,  6400., 12800.])"
      ]
     },
     "execution_count": 33,
     "metadata": {},
     "output_type": "execute_result"
    }
   ],
   "source": [
    "freq_list #así se ve freq_list"
   ]
  },
  {
   "cell_type": "code",
   "execution_count": 130,
   "id": "22f2cd38",
   "metadata": {},
   "outputs": [
    {
     "data": {
      "text/plain": [
       "array([0.        , 0.1001503 , 0.2003006 , 0.3004509 , 0.4006012 ,\n",
       "       0.5007515 , 0.6009018 , 0.7010521 , 0.8012024 , 0.90135271,\n",
       "       1.00150301, 1.10165331, 1.20180361, 1.30195391, 1.40210421,\n",
       "       1.50225451, 1.60240481, 1.70255511, 1.80270541, 1.90285571,\n",
       "       2.00300601, 2.10315631, 2.20330661, 2.30345691, 2.40360721,\n",
       "       2.50375752, 2.60390782, 2.70405812, 2.80420842, 2.90435872,\n",
       "       3.00450902, 3.10465932, 3.20480962, 3.30495992, 3.40511022,\n",
       "       3.50526052, 3.60541082, 3.70556112, 3.80571142, 3.90586172,\n",
       "       4.00601202, 4.10616232, 4.20631263, 4.30646293, 4.40661323,\n",
       "       4.50676353, 4.60691383, 4.70706413, 4.80721443, 4.90736473,\n",
       "       5.00751503, 5.10766533, 5.20781563, 5.30796593, 5.40811623,\n",
       "       5.50826653, 5.60841683, 5.70856713, 5.80871743, 5.90886774,\n",
       "       6.00901804])"
      ]
     },
     "execution_count": 130,
     "metadata": {},
     "output_type": "execute_result"
    }
   ],
   "source": [
    "timegrid #así se ve timegrid"
   ]
  },
  {
   "cell_type": "code",
   "execution_count": 73,
   "id": "cda9edb5",
   "metadata": {},
   "outputs": [],
   "source": [
    "def grid_creation(timegrid,freq_list):\n",
    "    for s in range(spectral_density[0]):\n",
    "        for td in range(temporal_density[0]):\n",
    "            for t in timegrid:\n",
    "                linetime=plt.axvline(x=t, color='gray', linestyle='--', linewidth=0.5)\n",
    "                td=td+1\n",
    "                ftone = np.random.uniform(minf, maxf) #pick a random tone frequency between minf and maxf\n",
    "                ftimetone=np.random.uniform(0, timegrid)\n",
    "                amp = np.sin(2*np.pi*ftone*ttone) #make the tone\n",
    "                amp = amp*env #hanning env already calculated outside\n",
    "                plt.scatter(td,ftone)\n",
    "            for f in freq_list:\n",
    "                linefreq=plt.axhline(y=f, color='gray', linestyle='--', linewidth=0.5)\n",
    "    \n",
    "            plt.xlabel('Time (s)')\n",
    "            plt.ylabel('Frequency (Hz)')\n",
    "            plt.title('Grid')\n",
    "            plt.xlim(0, totaltime)\n",
    "            plt.ylim(minf, maxf+800)\n",
    "            plt.show()"
   ]
  },
  {
   "cell_type": "code",
   "execution_count": 74,
   "id": "3e23d92f",
   "metadata": {},
   "outputs": [
    {
     "data": {
      "image/png": "[encoded data removed]",
      "text/plain": [
       "<Figure size 432x288 with 1 Axes>"
      ]
     },
     "metadata": {
      "needs_background": "light"
     },
     "output_type": "display_data"
    },
    {
     "data": {
      "image/png": "[encoded data removed]",
      "text/plain": [
       "<Figure size 432x288 with 1 Axes>"
      ]
     },
     "metadata": {
      "needs_background": "light"
     },
     "output_type": "display_data"
    },
    {
     "data": {
      "image/png": "[encoded data removed]",
      "text/plain": [
       "<Figure size 432x288 with 1 Axes>"
      ]
     },
     "metadata": {
      "needs_background": "light"
     },
     "output_type": "display_data"
    },
    {
     "data": {
      "image/png": "[encoded data removed]",
      "text/plain": [
       "<Figure size 432x288 with 1 Axes>"
      ]
     },
     "metadata": {
      "needs_background": "light"
     },
     "output_type": "display_data"
    },
    {
     "data": {
      "image/png": "[encoded data removed]",
      "text/plain": [
       "<Figure size 432x288 with 1 Axes>"
      ]
     },
     "metadata": {
      "needs_background": "light"
     },
     "output_type": "display_data"
    },
    {
     "data": {
      "image/png": "[encoded data removed]",
      "text/plain": [
       "<Figure size 432x288 with 1 Axes>"
      ]
     },
     "metadata": {
      "needs_background": "light"
     },
     "output_type": "display_data"
    },
    {
     "data": {
      "image/png": "[encoded data removed]",
      "text/plain": [
       "<Figure size 432x288 with 1 Axes>"
      ]
     },
     "metadata": {
      "needs_background": "light"
     },
     "output_type": "display_data"
    },
    {
     "data": {
      "image/png": "[encoded data removed]",
      "text/plain": [
       "<Figure size 432x288 with 1 Axes>"
      ]
     },
     "metadata": {
      "needs_background": "light"
     },
     "output_type": "display_data"
    },
    {
     "data": {
      "image/png": "[encoded data removed]",
      "text/plain": [
       "<Figure size 432x288 with 1 Axes>"
      ]
     },
     "metadata": {
      "needs_background": "light"
     },
     "output_type": "display_data"
    },
    {
     "data": {
      "image/png": "[encoded data removed]",
      "text/plain": [
       "<Figure size 432x288 with 1 Axes>"
      ]
     },
     "metadata": {
      "needs_background": "light"
     },
     "output_type": "display_data"
    }
   ],
   "source": [
    "grid_creation(timegrid,freq_list)"
   ]
  },
  {
   "cell_type": "code",
   "execution_count": 80,
   "id": "7a664427",
   "metadata": {},
   "outputs": [],
   "source": [
    "ftimetones = []  \n",
    "td=0\n",
    "def grid_creation(timegrid,freq_list):\n",
    "    for t in range(int(totaltime)): \n",
    "        start_time = t  \n",
    "        end_time = t + 1  \n",
    "\n",
    "        for i in range(temporal_density[0]):  \n",
    "            ftimetone = np.random.uniform(start_time, end_time)  \n",
    "                 \n",
    "        for s in range(spectral_density[0]):\n",
    "                linetime=plt.axvline(x=t, color='gray', linestyle='--', linewidth=0.5)\n",
    "                ftone = np.random.uniform(minf, maxf) #pick a random tone frequency between minf and maxf\n",
    "                amp = np.sin(2*np.pi*ftone*ttone) #make the tone\n",
    "                amp = amp*env #hanning env already calculated outside\n",
    "                plt.scatter(ftimetone,ftone)\n",
    "                for f in freq_list:\n",
    "                    linefreq=plt.axhline(y=f, color='gray', linestyle='--', linewidth=0.5)\n",
    "    \n",
    "                plt.xlabel('Time (s)')\n",
    "                plt.ylabel('Frequency (Hz)')\n",
    "                plt.title('Grid')\n",
    "                plt.xlim(0, totaltime)\n",
    "                plt.ylim(minf, maxf+800)\n",
    "                plt.show()"
   ]
  },
  {
   "cell_type": "code",
   "execution_count": 81,
   "id": "c116627f",
   "metadata": {},
   "outputs": [
    {
     "data": {
      "image/png": "[encoded data removed]",
      "text/plain": [
       "<Figure size 432x288 with 1 Axes>"
      ]
     },
     "metadata": {
      "needs_background": "light"
     },
     "output_type": "display_data"
    },
    {
     "data": {
      "image/png": "[encoded data removed]",
      "text/plain": [
       "<Figure size 432x288 with 1 Axes>"
      ]
     },
     "metadata": {
      "needs_background": "light"
     },
     "output_type": "display_data"
    },
    {
     "data": {
      "image/png": "[encoded data removed]",
      "text/plain": [
       "<Figure size 432x288 with 1 Axes>"
      ]
     },
     "metadata": {
      "needs_background": "light"
     },
     "output_type": "display_data"
    },
    {
     "data": {
      "image/png": "[encoded data removed]",
      "text/plain": [
       "<Figure size 432x288 with 1 Axes>"
      ]
     },
     "metadata": {
      "needs_background": "light"
     },
     "output_type": "display_data"
    },
    {
     "data": {
      "image/png": "[encoded data removed]",
      "text/plain": [
       "<Figure size 432x288 with 1 Axes>"
      ]
     },
     "metadata": {
      "needs_background": "light"
     },
     "output_type": "display_data"
    },
    {
     "data": {
      "image/png": "[encoded data removed]",
      "text/plain": [
       "<Figure size 432x288 with 1 Axes>"
      ]
     },
     "metadata": {
      "needs_background": "light"
     },
     "output_type": "display_data"
    }
   ],
   "source": [
    "grid_creation(timegrid,freq_list)\n"
   ]
  },
  {
   "cell_type": "code",
   "execution_count": 114,
   "id": "94750ef6",
   "metadata": {},
   "outputs": [
    {
     "data": {
      "text/plain": [
       "60"
      ]
     },
     "execution_count": 114,
     "metadata": {},
     "output_type": "execute_result"
    }
   ],
   "source": [
    "len(timegrid)"
   ]
  },
  {
   "cell_type": "code",
   "execution_count": 123,
   "id": "3dc46eb0",
   "metadata": {},
   "outputs": [
    {
     "data": {
      "text/plain": [
       "array([0.        , 0.1028158 , 0.2056316 , 0.3084474 , 0.4112632 ,\n",
       "       0.51407901, 0.61689481, 0.71971061, 0.82252641, 0.92534221,\n",
       "       1.02815801, 1.13097381, 1.23378961, 1.33660541, 1.43942122,\n",
       "       1.54223702, 1.64505282, 1.74786862, 1.85068442, 1.95350022,\n",
       "       2.05631602, 2.15913182, 2.26194762, 2.36476343, 2.46757923,\n",
       "       2.57039503, 2.67321083, 2.77602663, 2.87884243, 2.98165823,\n",
       "       3.08447403, 3.18728983, 3.29010563, 3.39292144, 3.49573724,\n",
       "       3.59855304, 3.70136884, 3.80418464, 3.90700044, 4.00981624,\n",
       "       4.11263204, 4.21544784, 4.31826365, 4.42107945, 4.52389525,\n",
       "       4.62671105, 4.72952685, 4.83234265, 4.93515845, 5.03797425,\n",
       "       5.14079005, 5.24360586, 5.34642166, 5.44923746, 5.55205326,\n",
       "       5.65486906, 5.75768486, 5.86050066, 5.96331646, 6.06613226])"
      ]
     },
     "execution_count": 123,
     "metadata": {},
     "output_type": "execute_result"
    }
   ],
   "source": [
    "timegrid"
   ]
  },
  {
   "cell_type": "code",
   "execution_count": 125,
   "id": "57eb31ff",
   "metadata": {},
   "outputs": [
    {
     "data": {
      "image/png": "[encoded data removed]",
      "text/plain": [
       "<Figure size 432x288 with 1 Axes>"
      ]
     },
     "metadata": {
      "needs_background": "light"
     },
     "output_type": "display_data"
    }
   ],
   "source": [
    "def grid_creation_ffixed(timegrid,freq_list):\n",
    "    for t in range(len(timegrid)-1): \n",
    "        start_time = t\n",
    "        end_time = t+1\n",
    "\n",
    "        for i in range(temporal_density[0]):  \n",
    "            ftimetone = np.random.uniform(start_time, end_time)\n",
    "            \n",
    "            plt.plot([ftimetone, ftimetone + tonedur], [6000, 6000], color='blue', linewidth=2)\n",
    "            \n",
    "    for t in timegrid:\n",
    "        linetime=plt.axvline(x=t, color='gray', linestyle='--', linewidth=0.5)\n",
    "    for f in freq_list:\n",
    "        linefreq=plt.axhline(y=f, color='gray', linestyle='--', linewidth=0.5)\n",
    "    \n",
    "    plt.xlabel('Time (s)')\n",
    "    plt.ylabel('Frequency (Hz)')\n",
    "    plt.title('Grid')\n",
    "    plt.xlim(0.2, 1)\n",
    "    plt.ylim(7000, 5800)\n",
    "    plt.show()\n",
    "grid_creation_ffixed(timegrid,freq_list)"
   ]
  },
  {
   "cell_type": "code",
   "execution_count": 126,
   "id": "99b0a541",
   "metadata": {},
   "outputs": [
    {
     "data": {
      "text/plain": [
       "array([0.        , 0.10307712, 0.20615424, 0.30923137, 0.41230849,\n",
       "       0.51538561, 0.61846273, 0.72153985, 0.82461698, 0.9276941 ,\n",
       "       1.03077122, 1.13384834, 1.23692546, 1.34000259, 1.44307971,\n",
       "       1.54615683, 1.64923395, 1.75231107, 1.8553882 , 1.95846532,\n",
       "       2.06154244, 2.16461956, 2.26769668, 2.37077381, 2.47385093,\n",
       "       2.57692805, 2.68000517, 2.78308229, 2.88615942, 2.98923654,\n",
       "       3.09231366, 3.19539078, 3.2984679 , 3.40154503, 3.50462215,\n",
       "       3.60769927, 3.71077639, 3.81385351, 3.91693064, 4.02000776,\n",
       "       4.12308488, 4.226162  , 4.32923912, 4.43231625, 4.53539337,\n",
       "       4.63847049, 4.74154761, 4.84462473, 4.94770186, 5.05077898,\n",
       "       5.1538561 , 5.25693322, 5.36001034, 5.46308747, 5.56616459,\n",
       "       5.66924171, 5.77231883, 5.87539595, 5.97847308, 6.0815502 ,\n",
       "       6.18462732, 6.28770444, 6.39078156])"
      ]
     },
     "execution_count": 126,
     "metadata": {},
     "output_type": "execute_result"
    }
   ],
   "source": [
    "timegrid"
   ]
  },
  {
   "cell_type": "code",
   "execution_count": 11,
   "id": "6807e73a",
   "metadata": {},
   "outputs": [
    {
     "data": {
      "image/png": "[encoded data removed]",
      "text/plain": [
       "<Figure size 432x288 with 1 Axes>"
      ]
     },
     "metadata": {
      "needs_background": "light"
     },
     "output_type": "display_data"
    }
   ],
   "source": [
    "grid_creation_ffixed(timegrid,freq_list)"
   ]
  },
  {
   "cell_type": "code",
   "execution_count": 75,
   "id": "3326bfaa",
   "metadata": {},
   "outputs": [],
   "source": [
    "def grid_creation_t(timegrid,freq_list):\n",
    "    for t in range(int(totaltime)): \n",
    "        start_time = t  \n",
    "        end_time = t + 1  \n",
    "\n",
    "        for i in range(temporal_density[0]):  \n",
    "            ftimetone = np.random.uniform(start_time, end_time)\n",
    "            plt.scatter(ftimetone,600)\n",
    "            \n",
    "    for t in timegrid:\n",
    "        linetime=plt.axvline(x=t, color='gray', linestyle='--', linewidth=0.5)\n",
    "    for f in freq_list:\n",
    "        linefreq=plt.axhline(y=f, color='gray', linestyle='--', linewidth=0.5)\n",
    "    \n",
    "    plt.xlabel('Time (s)')\n",
    "    plt.ylabel('Frequency (Hz)')\n",
    "    plt.title('Grid')\n",
    "    plt.xlim(0, totaltime)\n",
    "    plt.ylim(minf, maxf+800)\n",
    "    plt.show()"
   ]
  },
  {
   "cell_type": "code",
   "execution_count": null,
   "id": "94b5d0d6",
   "metadata": {},
   "outputs": [],
   "source": [
    "def grid_creation(timegrid,freq_list):\n",
    "    for td in range(temporal_density[0]):\n",
    "        for s in range(spectral_density[0]):\n",
    "                td=td+1\n",
    "                ftone = np.random.uniform(minf, maxf) #pick a random tone frequency between minf and maxf\n",
    "                ftimetone=np.random.uniform(0, timegrid)\n",
    "                amp = np.sin(2*np.pi*ftone*ttone) #make the tone\n",
    "                amp = amp*env #hanning env already calculated outside\n",
    "                plt.scatter(td,ftone)\n",
    "        for f in freq_list:\n",
    "            linefreq=plt.axhline(y=f, color='gray', linestyle='--', linewidth=0.5)\n",
    "    \n",
    "        plt.xlabel('Time (s)')\n",
    "        plt.ylabel('Frequency (Hz)')\n",
    "        plt.title('Grid')\n",
    "        plt.xlim(0, totaltime)\n",
    "        plt.ylim(minf, maxf+800)\n",
    "        plt.show()"
   ]
  },
  {
   "cell_type": "code",
   "execution_count": 55,
   "id": "ea6e8c4e",
   "metadata": {},
   "outputs": [],
   "source": [
    "ftimetones=[]\n",
    "time=0\n",
    "for t in range(int(temporal_density[0]*totaltime)):\n",
    "    for i in range(temporal_density[0]):\n",
    "        ftimetone=np.random.uniform(0, totaltime)\n",
    "        ftimetones.append(ftimetone)\n",
    "        \n",
    "        "
   ]
  },
  {
   "cell_type": "code",
   "execution_count": 21,
   "id": "40c32897",
   "metadata": {},
   "outputs": [
    {
     "name": "stdout",
     "output_type": "stream",
     "text": [
      "[0.8746844079883702, 0.2677773557125669, 0.28448631315506523, 0.027195176237154284, 0.385699284822557, 0.44032308190500347, 0.4161966031956361, 0.5799528372699668, 0.3662295328140369, 0.3493414663609782, 1.1669068706863623, 1.131852857424184, 1.161308738330991, 1.2102767762956455, 1.5834007445310618, 1.8317984562824403, 1.0152022332748318, 1.4983105831351222, 1.690234391689628, 1.6014576448610756, 2.608499732938063, 2.6124200003115017, 2.98272273809991, 2.15832489589502, 2.7937408305105005, 2.2556224246136853, 2.068479912759321, 2.0004160662586807, 2.054079108977743, 2.6952899602720235, 3.3868469585243943, 3.2881464538518, 3.9687748075525406, 3.452602399757453, 3.8990411925911803, 3.631717823273557, 3.5988139964869417, 3.576094121854113, 3.4128946058277987, 3.5462517199497765, 4.471268056893366, 4.9121863962545556, 4.209987667515014, 4.635223476179962, 4.616198260643526, 4.473220401397325, 4.539355673334283, 4.238741536553418, 4.536740958109805, 4.50121341207096, 5.412683830487397, 5.667954451426117, 5.780493253315901, 5.290630957771626, 5.473132328089124, 5.744419402355256, 5.589493008315929, 5.867641460067046, 5.564155305650951, 5.081784681336809]\n"
     ]
    }
   ],
   "source": [
    "ftimetones = []  \n",
    "\n",
    "for t in range(int(totaltime)): \n",
    "    start_time = t  \n",
    "    end_time = t + 1  \n",
    "\n",
    "    for i in range(temporal_density[0]):  \n",
    "        ftimetone = np.random.uniform(start_time, end_time)  \n",
    "        ftimetones.append(ftimetone)  \n",
    "\n",
    "print(ftimetones)"
   ]
  },
  {
   "cell_type": "code",
   "execution_count": 22,
   "id": "1c6a2b2d",
   "metadata": {},
   "outputs": [
    {
     "data": {
      "text/plain": [
       "60"
      ]
     },
     "execution_count": 22,
     "metadata": {},
     "output_type": "execute_result"
    }
   ],
   "source": [
    "len(ftimetones)"
   ]
  },
  {
   "cell_type": "code",
   "execution_count": 33,
   "id": "4a7236c1",
   "metadata": {},
   "outputs": [
    {
     "data": {
      "text/plain": [
       "array([0.        , 0.07183239, 0.12108094, 0.17903891, 0.12067538,\n",
       "       0.48560671, 0.38147877, 0.51125067, 0.0587691 , 0.27762847,\n",
       "       0.06233391, 0.03300629, 0.5538293 , 0.84328641, 0.840885  ,\n",
       "       1.19456566, 0.15844045, 1.72119333, 0.88282739, 0.28883695,\n",
       "       1.34665292, 0.45354467, 0.82469741, 1.96020407, 0.92038718,\n",
       "       1.38514473, 0.90291202, 2.03594254, 1.77489901, 2.86711138,\n",
       "       2.28559622, 0.38199684, 3.20278849, 1.76319104, 3.25716151,\n",
       "       0.93642415, 0.16316485, 0.73997124, 1.78694962, 1.78280832,\n",
       "       1.43398305, 4.13980446, 0.15324854, 0.29317391, 1.5954257 ,\n",
       "       0.94001139, 4.4325264 , 0.96198592, 2.94593482, 0.88444471,\n",
       "       2.47178946, 2.23672054, 1.71099874, 2.00094044, 0.31447585,\n",
       "       2.19879858, 4.91337426, 0.87109194, 2.47311488, 5.55993692,\n",
       "       3.84814324])"
      ]
     },
     "execution_count": 33,
     "metadata": {},
     "output_type": "execute_result"
    }
   ],
   "source": [
    "ftimetone=np.random.uniform(0, timegrid)\n",
    "ftimetone"
   ]
  },
  {
   "cell_type": "code",
   "execution_count": 30,
   "id": "997892d2",
   "metadata": {},
   "outputs": [
    {
     "ename": "ValueError",
     "evalue": "x and y must be the same size",
     "output_type": "error",
     "traceback": [
      "\u001b[1;31m---------------------------------------------------------------------------\u001b[0m",
      "\u001b[1;31mValueError\u001b[0m                                Traceback (most recent call last)",
      "\u001b[1;32mC:\\Users\\LAPTOP~1\\AppData\\Local\\Temp/ipykernel_9284/3964952822.py\u001b[0m in \u001b[0;36m<module>\u001b[1;34m\u001b[0m\n\u001b[1;32m----> 1\u001b[1;33m \u001b[0mgrid_creation\u001b[0m\u001b[1;33m(\u001b[0m\u001b[0mtimegrid\u001b[0m\u001b[1;33m,\u001b[0m\u001b[0mfreq_list\u001b[0m\u001b[1;33m)\u001b[0m\u001b[1;33m\u001b[0m\u001b[1;33m\u001b[0m\u001b[0m\n\u001b[0m",
      "\u001b[1;32mC:\\Users\\LAPTOP~1\\AppData\\Local\\Temp/ipykernel_9284/4040642462.py\u001b[0m in \u001b[0;36mgrid_creation\u001b[1;34m(timegrid, freq_list)\u001b[0m\n\u001b[0;32m      9\u001b[0m                 \u001b[0mamp\u001b[0m \u001b[1;33m=\u001b[0m \u001b[0mnp\u001b[0m\u001b[1;33m.\u001b[0m\u001b[0msin\u001b[0m\u001b[1;33m(\u001b[0m\u001b[1;36m2\u001b[0m\u001b[1;33m*\u001b[0m\u001b[0mnp\u001b[0m\u001b[1;33m.\u001b[0m\u001b[0mpi\u001b[0m\u001b[1;33m*\u001b[0m\u001b[0mftone\u001b[0m\u001b[1;33m*\u001b[0m\u001b[0mttone\u001b[0m\u001b[1;33m)\u001b[0m \u001b[1;31m#make the tone\u001b[0m\u001b[1;33m\u001b[0m\u001b[1;33m\u001b[0m\u001b[0m\n\u001b[0;32m     10\u001b[0m                 \u001b[0mamp\u001b[0m \u001b[1;33m=\u001b[0m \u001b[0mamp\u001b[0m\u001b[1;33m*\u001b[0m\u001b[0menv\u001b[0m \u001b[1;31m#hanning env already calculated outside\u001b[0m\u001b[1;33m\u001b[0m\u001b[1;33m\u001b[0m\u001b[0m\n\u001b[1;32m---> 11\u001b[1;33m                 \u001b[0mplt\u001b[0m\u001b[1;33m.\u001b[0m\u001b[0mscatter\u001b[0m\u001b[1;33m(\u001b[0m\u001b[0mftimetone\u001b[0m\u001b[1;33m,\u001b[0m\u001b[0mftone\u001b[0m\u001b[1;33m)\u001b[0m\u001b[1;33m\u001b[0m\u001b[1;33m\u001b[0m\u001b[0m\n\u001b[0m\u001b[0;32m     12\u001b[0m         \u001b[1;32mfor\u001b[0m \u001b[0mf\u001b[0m \u001b[1;32min\u001b[0m \u001b[0mfreq_list\u001b[0m\u001b[1;33m:\u001b[0m\u001b[1;33m\u001b[0m\u001b[1;33m\u001b[0m\u001b[0m\n\u001b[0;32m     13\u001b[0m             \u001b[0mlinefreq\u001b[0m\u001b[1;33m=\u001b[0m\u001b[0mplt\u001b[0m\u001b[1;33m.\u001b[0m\u001b[0maxhline\u001b[0m\u001b[1;33m(\u001b[0m\u001b[0my\u001b[0m\u001b[1;33m=\u001b[0m\u001b[0mf\u001b[0m\u001b[1;33m,\u001b[0m \u001b[0mcolor\u001b[0m\u001b[1;33m=\u001b[0m\u001b[1;34m'gray'\u001b[0m\u001b[1;33m,\u001b[0m \u001b[0mlinestyle\u001b[0m\u001b[1;33m=\u001b[0m\u001b[1;34m'--'\u001b[0m\u001b[1;33m,\u001b[0m \u001b[0mlinewidth\u001b[0m\u001b[1;33m=\u001b[0m\u001b[1;36m0.5\u001b[0m\u001b[1;33m)\u001b[0m\u001b[1;33m\u001b[0m\u001b[1;33m\u001b[0m\u001b[0m\n",
      "\u001b[1;32mc:\\python39\\lib\\site-packages\\matplotlib\\pyplot.py\u001b[0m in \u001b[0;36mscatter\u001b[1;34m(x, y, s, c, marker, cmap, norm, vmin, vmax, alpha, linewidths, edgecolors, plotnonfinite, data, **kwargs)\u001b[0m\n\u001b[0;32m   3066\u001b[0m         \u001b[0mvmin\u001b[0m\u001b[1;33m=\u001b[0m\u001b[1;32mNone\u001b[0m\u001b[1;33m,\u001b[0m \u001b[0mvmax\u001b[0m\u001b[1;33m=\u001b[0m\u001b[1;32mNone\u001b[0m\u001b[1;33m,\u001b[0m \u001b[0malpha\u001b[0m\u001b[1;33m=\u001b[0m\u001b[1;32mNone\u001b[0m\u001b[1;33m,\u001b[0m \u001b[0mlinewidths\u001b[0m\u001b[1;33m=\u001b[0m\u001b[1;32mNone\u001b[0m\u001b[1;33m,\u001b[0m \u001b[1;33m*\u001b[0m\u001b[1;33m,\u001b[0m\u001b[1;33m\u001b[0m\u001b[1;33m\u001b[0m\u001b[0m\n\u001b[0;32m   3067\u001b[0m         edgecolors=None, plotnonfinite=False, data=None, **kwargs):\n\u001b[1;32m-> 3068\u001b[1;33m     __ret = gca().scatter(\n\u001b[0m\u001b[0;32m   3069\u001b[0m         \u001b[0mx\u001b[0m\u001b[1;33m,\u001b[0m \u001b[0my\u001b[0m\u001b[1;33m,\u001b[0m \u001b[0ms\u001b[0m\u001b[1;33m=\u001b[0m\u001b[0ms\u001b[0m\u001b[1;33m,\u001b[0m \u001b[0mc\u001b[0m\u001b[1;33m=\u001b[0m\u001b[0mc\u001b[0m\u001b[1;33m,\u001b[0m \u001b[0mmarker\u001b[0m\u001b[1;33m=\u001b[0m\u001b[0mmarker\u001b[0m\u001b[1;33m,\u001b[0m \u001b[0mcmap\u001b[0m\u001b[1;33m=\u001b[0m\u001b[0mcmap\u001b[0m\u001b[1;33m,\u001b[0m \u001b[0mnorm\u001b[0m\u001b[1;33m=\u001b[0m\u001b[0mnorm\u001b[0m\u001b[1;33m,\u001b[0m\u001b[1;33m\u001b[0m\u001b[1;33m\u001b[0m\u001b[0m\n\u001b[0;32m   3070\u001b[0m         \u001b[0mvmin\u001b[0m\u001b[1;33m=\u001b[0m\u001b[0mvmin\u001b[0m\u001b[1;33m,\u001b[0m \u001b[0mvmax\u001b[0m\u001b[1;33m=\u001b[0m\u001b[0mvmax\u001b[0m\u001b[1;33m,\u001b[0m \u001b[0malpha\u001b[0m\u001b[1;33m=\u001b[0m\u001b[0malpha\u001b[0m\u001b[1;33m,\u001b[0m \u001b[0mlinewidths\u001b[0m\u001b[1;33m=\u001b[0m\u001b[0mlinewidths\u001b[0m\u001b[1;33m,\u001b[0m\u001b[1;33m\u001b[0m\u001b[1;33m\u001b[0m\u001b[0m\n",
      "\u001b[1;32mc:\\python39\\lib\\site-packages\\matplotlib\\__init__.py\u001b[0m in \u001b[0;36minner\u001b[1;34m(ax, data, *args, **kwargs)\u001b[0m\n\u001b[0;32m   1359\u001b[0m     \u001b[1;32mdef\u001b[0m \u001b[0minner\u001b[0m\u001b[1;33m(\u001b[0m\u001b[0max\u001b[0m\u001b[1;33m,\u001b[0m \u001b[1;33m*\u001b[0m\u001b[0margs\u001b[0m\u001b[1;33m,\u001b[0m \u001b[0mdata\u001b[0m\u001b[1;33m=\u001b[0m\u001b[1;32mNone\u001b[0m\u001b[1;33m,\u001b[0m \u001b[1;33m**\u001b[0m\u001b[0mkwargs\u001b[0m\u001b[1;33m)\u001b[0m\u001b[1;33m:\u001b[0m\u001b[1;33m\u001b[0m\u001b[1;33m\u001b[0m\u001b[0m\n\u001b[0;32m   1360\u001b[0m         \u001b[1;32mif\u001b[0m \u001b[0mdata\u001b[0m \u001b[1;32mis\u001b[0m \u001b[1;32mNone\u001b[0m\u001b[1;33m:\u001b[0m\u001b[1;33m\u001b[0m\u001b[1;33m\u001b[0m\u001b[0m\n\u001b[1;32m-> 1361\u001b[1;33m             \u001b[1;32mreturn\u001b[0m \u001b[0mfunc\u001b[0m\u001b[1;33m(\u001b[0m\u001b[0max\u001b[0m\u001b[1;33m,\u001b[0m \u001b[1;33m*\u001b[0m\u001b[0mmap\u001b[0m\u001b[1;33m(\u001b[0m\u001b[0msanitize_sequence\u001b[0m\u001b[1;33m,\u001b[0m \u001b[0margs\u001b[0m\u001b[1;33m)\u001b[0m\u001b[1;33m,\u001b[0m \u001b[1;33m**\u001b[0m\u001b[0mkwargs\u001b[0m\u001b[1;33m)\u001b[0m\u001b[1;33m\u001b[0m\u001b[1;33m\u001b[0m\u001b[0m\n\u001b[0m\u001b[0;32m   1362\u001b[0m \u001b[1;33m\u001b[0m\u001b[0m\n\u001b[0;32m   1363\u001b[0m         \u001b[0mbound\u001b[0m \u001b[1;33m=\u001b[0m \u001b[0mnew_sig\u001b[0m\u001b[1;33m.\u001b[0m\u001b[0mbind\u001b[0m\u001b[1;33m(\u001b[0m\u001b[0max\u001b[0m\u001b[1;33m,\u001b[0m \u001b[1;33m*\u001b[0m\u001b[0margs\u001b[0m\u001b[1;33m,\u001b[0m \u001b[1;33m**\u001b[0m\u001b[0mkwargs\u001b[0m\u001b[1;33m)\u001b[0m\u001b[1;33m\u001b[0m\u001b[1;33m\u001b[0m\u001b[0m\n",
      "\u001b[1;32mc:\\python39\\lib\\site-packages\\matplotlib\\axes\\_axes.py\u001b[0m in \u001b[0;36mscatter\u001b[1;34m(self, x, y, s, c, marker, cmap, norm, vmin, vmax, alpha, linewidths, edgecolors, plotnonfinite, **kwargs)\u001b[0m\n\u001b[0;32m   4496\u001b[0m         \u001b[0my\u001b[0m \u001b[1;33m=\u001b[0m \u001b[0mnp\u001b[0m\u001b[1;33m.\u001b[0m\u001b[0mma\u001b[0m\u001b[1;33m.\u001b[0m\u001b[0mravel\u001b[0m\u001b[1;33m(\u001b[0m\u001b[0my\u001b[0m\u001b[1;33m)\u001b[0m\u001b[1;33m\u001b[0m\u001b[1;33m\u001b[0m\u001b[0m\n\u001b[0;32m   4497\u001b[0m         \u001b[1;32mif\u001b[0m \u001b[0mx\u001b[0m\u001b[1;33m.\u001b[0m\u001b[0msize\u001b[0m \u001b[1;33m!=\u001b[0m \u001b[0my\u001b[0m\u001b[1;33m.\u001b[0m\u001b[0msize\u001b[0m\u001b[1;33m:\u001b[0m\u001b[1;33m\u001b[0m\u001b[1;33m\u001b[0m\u001b[0m\n\u001b[1;32m-> 4498\u001b[1;33m             \u001b[1;32mraise\u001b[0m \u001b[0mValueError\u001b[0m\u001b[1;33m(\u001b[0m\u001b[1;34m\"x and y must be the same size\"\u001b[0m\u001b[1;33m)\u001b[0m\u001b[1;33m\u001b[0m\u001b[1;33m\u001b[0m\u001b[0m\n\u001b[0m\u001b[0;32m   4499\u001b[0m \u001b[1;33m\u001b[0m\u001b[0m\n\u001b[0;32m   4500\u001b[0m         \u001b[1;32mif\u001b[0m \u001b[0ms\u001b[0m \u001b[1;32mis\u001b[0m \u001b[1;32mNone\u001b[0m\u001b[1;33m:\u001b[0m\u001b[1;33m\u001b[0m\u001b[1;33m\u001b[0m\u001b[0m\n",
      "\u001b[1;31mValueError\u001b[0m: x and y must be the same size"
     ]
    },
    {
     "data": {
      "image/png": "[encoded data removed]",
      "text/plain": [
       "<Figure size 432x288 with 1 Axes>"
      ]
     },
     "metadata": {
      "needs_background": "light"
     },
     "output_type": "display_data"
    }
   ],
   "source": [
    "grid_creation(timegrid,freq_list)"
   ]
  },
  {
   "cell_type": "code",
   "execution_count": null,
   "id": "89b1257f",
   "metadata": {},
   "outputs": [],
   "source": [
    "def tones(timegrid, freq_list, temporal_density, spectral_density):\n",
    "    "
   ]
  },
  {
   "cell_type": "code",
   "execution_count": null,
   "id": "4cb7f3a3",
   "metadata": {},
   "outputs": [],
   "source": [
    "timetones = []  \n",
    "freqtones = []\n",
    "for g in timegrid:\n",
    "    for f in freq_list:\n",
    "        linetime=plt.axvline(x=g, color='gray', linestyle='--', linewidth=0.5)\n",
    "        linefreq=plt.axhline(y=f, color='gray', linestyle='--', linewidth=0.5)\n",
    "        for t in range(temporal_density[0]):\n",
    "            for s in range(spectral_density[0]):\n",
    "                t=timetones\n",
    "                ftone = np.random.uniform(minf, maxf) #pick a random tone frequency between minf and maxf\n",
    "                amp = np.sin(2*np.pi*ftone*ttone) #make the tone\n",
    "                amp = amp*env #hanning env already calculated outside\n",
    "                timetones.append(t)  \n",
    "                freqtones.append(ftone)\n",
    "                    \n",
    "for t, f in zip(timetones, freqtones):\n",
    "    plt.plot([t], [f], 'bo')  \n",
    "\n",
    "plt.xlabel('Time (s)')\n",
    "plt.ylabel('Frequency (Hz)')\n",
    "plt.title('Grid')\n",
    "plt.xlim(0, totaltime)\n",
    "plt.ylim(minf, maxf+800)\n",
    "plt.show()"
   ]
  },
  {
   "cell_type": "code",
   "execution_count": null,
   "id": "1dee8b55",
   "metadata": {},
   "outputs": [],
   "source": [
    "timetones"
   ]
  },
  {
   "cell_type": "code",
   "execution_count": 69,
   "id": "53828ac1",
   "metadata": {},
   "outputs": [
    {
     "data": {
      "text/plain": [
       "[array([2.35202666e-06, 4.62251049e-06, 6.05925710e-05, ...,\n",
       "        7.88778941e-05, 6.91200619e-06, 4.81987181e-06]),\n",
       " array([ 5.54913468e-06,  9.98038551e-06,  1.11605840e-04, ...,\n",
       "        -1.12317353e-04, -1.22211865e-05, -9.50026329e-06]),\n",
       " array([2.59278522e-06, 5.07612808e-06, 6.61046160e-05, ...,\n",
       "        9.73103427e-05, 1.19407713e-05, 1.25648923e-05]),\n",
       " array([ 1.19267378e-05,  8.13348901e-06, -5.74186941e-05, ...,\n",
       "        -1.14179509e-04, -4.31010958e-06,  9.74774394e-06]),\n",
       " array([ 4.88404883e-06,  9.01528900e-06,  1.05808942e-04, ...,\n",
       "        -3.74221092e-05, -8.45197163e-06, -1.14430358e-05]),\n",
       " array([ 1.24069458e-05,  5.18538303e-06, -9.21546930e-05, ...,\n",
       "        -4.40771719e-05,  1.04217553e-05,  9.25331790e-06]),\n",
       " array([5.95510641e-06, 1.05166447e-05, 1.13550588e-04, ...,\n",
       "        1.06190194e-04, 8.23027839e-06, 2.73526089e-06]),\n",
       " array([3.94985625e-06, 7.50711229e-06, 9.28605756e-05, ...,\n",
       "        2.11205686e-06, 4.17219819e-06, 7.69501532e-06]),\n",
       " array([ 1.14827767e-05,  9.76598285e-06, -2.85912159e-05, ...,\n",
       "        -1.14160310e-04, -5.60530904e-06,  7.91765068e-06]),\n",
       " array([ 1.06612830e-05,  1.15585061e-05,  1.68290159e-05, ...,\n",
       "        -7.93480899e-05,  2.88680178e-06,  1.19464995e-05]),\n",
       " array([ 8.47292297e-06,  1.26128734e-05,  9.27213429e-05, ...,\n",
       "         6.22091560e-05, -1.96000333e-06, -9.83004183e-06]),\n",
       " array([ 4.27807360e-06,  8.05503975e-06,  9.79930737e-05, ...,\n",
       "        -6.24162139e-05, -1.01114806e-05, -1.21031946e-05]),\n",
       " array([ 9.65544510e-06,  1.25269083e-05,  5.93699105e-05, ...,\n",
       "         1.14002972e-04,  7.68044830e-06, -2.70286445e-06]),\n",
       " array([ 1.26366925e-05,  2.24962229e-06, -1.10122146e-04, ...,\n",
       "         3.07775156e-07, -1.26336026e-05, -2.28327060e-06]),\n",
       " array([4.15568808e-06, 7.85285951e-06, 9.61490385e-05, ...,\n",
       "        4.23775781e-06, 4.59772566e-06, 8.21728468e-06]),\n",
       " array([ 4.98198895e-06,  9.16361060e-06,  1.06854090e-04, ...,\n",
       "         6.45745689e-06, -4.31413117e-06, -8.65270733e-06]),\n",
       " array([ 1.25339363e-05, -3.88283086e-06, -1.01976376e-04, ...,\n",
       "         1.12446726e-04, -4.11070627e-06, -1.12210664e-05]),\n",
       " array([ 1.26778346e-05,  9.66382092e-07, -1.13433701e-04, ...,\n",
       "         7.62451889e-05, -9.11413002e-06, -9.16670901e-06]),\n",
       " array([ 5.81443965e-06,  1.03357369e-05,  1.13021295e-04, ...,\n",
       "        -5.38783181e-05, -1.94561899e-07,  5.64082947e-06]),\n",
       " array([8.38342926e-06, 1.25847710e-05, 9.45704121e-05, ...,\n",
       "        6.67464695e-05, 1.23684652e-05, 1.11503758e-05]),\n",
       " array([ 1.25496719e-05,  3.68367204e-06, -1.03212228e-04, ...,\n",
       "         7.02180360e-05,  1.10410538e-05, -4.56141659e-06]),\n",
       " array([ 1.23187959e-05,  5.89296193e-06, -8.54950401e-05, ...,\n",
       "         4.60875326e-05,  1.24955561e-05,  8.56508794e-07]),\n",
       " array([ 3.25387506e-06,  6.29007650e-06,  8.01467198e-05, ...,\n",
       "        -4.20095041e-05, -1.48611378e-06,  1.79506921e-06]),\n",
       " array([ 1.01455950e-05,  1.21833394e-05,  4.03615661e-05, ...,\n",
       "        -4.17852223e-05,  6.65404977e-06,  1.26334763e-05]),\n",
       " array([ 1.54519676e-06,  3.06738708e-06,  4.08937800e-05, ...,\n",
       "        -1.06367691e-04, -1.11693187e-05, -1.03533053e-05]),\n",
       " array([ 4.92422896e-06,  9.07638340e-06,  1.06245393e-04, ...,\n",
       "        -1.14064482e-04, -1.14595807e-05, -8.44814273e-06]),\n",
       " array([4.40160383e-06, 8.25642772e-06, 9.97671534e-05, ...,\n",
       "        1.12785635e-04, 1.24394633e-05, 1.08014994e-05]),\n",
       " array([ 1.23188642e-05, -5.89245547e-06, -8.55001571e-05, ...,\n",
       "         5.12154906e-05, -1.23711026e-05,  2.26639930e-07]),\n",
       " array([ 1.13675609e-05,  1.00957610e-05, -2.16110697e-05, ...,\n",
       "         5.39144976e-05, -7.36023501e-06, -1.25274761e-05]),\n",
       " array([ 1.26506272e-05,  1.91587185e-06, -1.11240542e-04, ...,\n",
       "         1.01701550e-04,  6.60618921e-06, -1.03000815e-05]),\n",
       " array([ 1.05431130e-05,  1.17292579e-05,  2.25508617e-05, ...,\n",
       "        -4.78802476e-05,  6.61196256e-06,  1.26760439e-05]),\n",
       " array([ 1.09708536e-05,  1.10200013e-05,  8.86609749e-07, ...,\n",
       "         1.13991576e-04,  5.73208889e-06, -6.90839144e-06]),\n",
       " array([ 1.26506795e-05, -1.91450670e-06, -1.11244743e-04, ...,\n",
       "         1.07179390e-04, -5.26258709e-06, -1.11128037e-05]),\n",
       " array([ 1.26316077e-05,  2.35927739e-06, -1.09714856e-04, ...,\n",
       "        -2.92805752e-05,  1.19053601e-05,  5.47713931e-06]),\n",
       " array([ 7.38168990e-06,  1.20072256e-05,  1.09342142e-04, ...,\n",
       "        -1.12807203e-04, -1.13355606e-05, -5.90412448e-06]),\n",
       " array([ 1.23689889e-05, -5.50448534e-06, -8.92712730e-05, ...,\n",
       "         5.17146986e-05, -1.23061723e-05, -2.69741493e-07]),\n",
       " array([1.73491134e-06, 3.43722738e-06, 4.56731415e-05, ...,\n",
       "        6.51051032e-05, 8.59142906e-06, 9.78729828e-06]),\n",
       " array([ 1.26751428e-05,  1.09816411e-06, -1.13216158e-04, ...,\n",
       "        -3.97555972e-05, -1.20733692e-05,  3.37141109e-06]),\n",
       " array([ 1.26230833e-05, -2.53202274e-06, -1.09033050e-04, ...,\n",
       "        -1.86334478e-05,  1.26615105e-05, -4.69277603e-07]),\n",
       " array([ 1.03442650e-05,  1.19782877e-05,  3.17343883e-05, ...,\n",
       "         1.14179394e-04,  7.32545269e-06, -4.20441718e-06]),\n",
       " array([ 1.25617448e-05, -3.52231812e-06, -1.04163244e-04, ...,\n",
       "         4.81207626e-05,  1.06420099e-05, -8.33095600e-06]),\n",
       " array([5.98749076e-06, 1.05575296e-05, 1.13650187e-04, ...,\n",
       "        1.01982027e-04, 7.29774320e-06, 1.53613138e-06]),\n",
       " array([ 9.90140324e-06,  1.23814782e-05,  5.02304673e-05, ...,\n",
       "        -4.90424523e-05,  5.53439278e-06,  1.23699773e-05]),\n",
       " array([ 1.10391086e-05,  1.08814862e-05, -2.81685187e-06, ...,\n",
       "         3.54557185e-05,  1.24350921e-05,  8.31787958e-06]),\n",
       " array([ 1.26086057e-05, -2.79992960e-06, -1.07877905e-04, ...,\n",
       "        -1.13933032e-04,  2.23382385e-06,  1.21636000e-05]),\n",
       " array([ 7.70837608e-06,  1.22449079e-05,  1.05682546e-04, ...,\n",
       "        -3.08014366e-05,  4.70424887e-06,  1.08952900e-05]),\n",
       " array([ 1.12678891e-05,  1.03568000e-05, -1.57360581e-05, ...,\n",
       "         1.01629022e-04,  5.37624657e-08, -1.12430802e-05]),\n",
       " array([ 3.21948633e-06,  6.22820450e-06,  7.94599728e-05, ...,\n",
       "        -3.03735413e-05, -1.60994874e-07,  3.06350211e-06]),\n",
       " array([ 1.25796270e-05,  3.26711902e-06, -1.05576390e-04, ...,\n",
       "         6.15544965e-05,  1.14832445e-05, -3.85724796e-06]),\n",
       " array([6.36563522e-06, 1.10127647e-05, 1.14177527e-04, ...,\n",
       "        1.10722004e-04, 9.08751703e-06, 3.41885140e-06]),\n",
       " array([ 3.65705301e-06,  7.00365842e-06,  8.77985322e-05, ...,\n",
       "        -1.47806849e-05, -5.19892592e-06, -8.31416059e-06]),\n",
       " array([ 1.26476807e-05,  1.99127498e-06, -1.11003779e-04, ...,\n",
       "         7.83717282e-05,  9.88334324e-06, -7.15221200e-06]),\n",
       " array([ 7.34681879e-06,  1.19792922e-05,  1.09669508e-04, ...,\n",
       "        -2.96598537e-05, -9.78146394e-06, -1.26534311e-05]),\n",
       " array([ 1.26290947e-05, -2.41155023e-06, -1.09513735e-04, ...,\n",
       "         1.12577153e-04, -3.30272745e-06, -1.18783336e-05]),\n",
       " array([ 4.19107302e-07,  8.37757123e-07,  1.12990501e-05, ...,\n",
       "        -5.78270279e-05, -6.78331755e-06, -7.13378800e-06]),\n",
       " array([ 4.68727123e-06,  8.71128765e-06,  1.03520310e-04, ...,\n",
       "        -1.03660371e-04, -1.26684235e-05, -1.20260405e-05]),\n",
       " array([ 1.26378333e-05, -2.22424631e-06, -1.10213585e-04, ...,\n",
       "        -8.98684300e-05, -6.91692900e-06,  1.12030917e-05]),\n",
       " array([ 2.81524292e-06,  5.49011603e-06,  7.10188331e-05, ...,\n",
       "         3.19377234e-05,  7.57417095e-07, -2.07168711e-06]),\n",
       " array([ 1.26260624e-05, -2.47308993e-06, -1.09271187e-04, ...,\n",
       "         8.94482304e-05,  6.87394590e-06, -1.12854409e-05]),\n",
       " array([ 1.25465851e-05,  3.72368191e-06, -1.02969469e-04, ...,\n",
       "        -1.95489177e-05, -1.26836632e-05, -1.59218967e-06]),\n",
       " array([ 8.29156866e-06,  1.25515620e-05,  9.63746878e-05, ...,\n",
       "        -1.13390630e-04, -1.05093700e-05, -3.30942713e-06]),\n",
       " array([ 7.54684892e-06,  1.21329076e-05,  1.07627063e-04, ...,\n",
       "         8.31992543e-05,  2.26266000e-06, -5.60704426e-06]),\n",
       " array([ 1.23571706e-05,  5.59914033e-06, -8.83783774e-05, ...,\n",
       "        -7.82647844e-05, -1.09676642e-05,  3.72683836e-06]),\n",
       " array([ 1.23693655e-05, -5.50143422e-06, -8.92997663e-05, ...,\n",
       "         7.89944184e-05, -1.08832124e-05, -3.93700605e-06]),\n",
       " array([5.91595791e-06, 1.04668353e-05, 1.13419002e-04, ...,\n",
       "        5.85883590e-05, 1.08367075e-05, 1.26628558e-05]),\n",
       " array([ 1.24494401e-05, -4.79629628e-06, -9.54112564e-05, ...,\n",
       "        -1.11397284e-04, -3.47205245e-07,  1.25116597e-05]),\n",
       " array([1.02130900e-05, 1.21183103e-05, 3.74914152e-05, ...,\n",
       "        4.57205417e-05, 1.23725161e-05, 9.60033872e-06]),\n",
       " array([ 1.26685541e-05,  1.36773308e-06, -1.12684195e-04, ...,\n",
       "        -1.05094212e-04,  4.32189528e-06,  1.21441338e-05]),\n",
       " array([ 1.09269241e-05,  1.11051372e-05,  3.23388657e-06, ...,\n",
       "        -8.97518360e-05,  1.68679583e-06,  1.16870703e-05]),\n",
       " array([6.11382122e-06, 1.07142177e-05, 1.13957747e-04, ...,\n",
       "        1.09369711e-04, 8.89264901e-06, 3.43139677e-06]),\n",
       " array([ 7.89149847e-06,  1.23582087e-05,  1.03151339e-04, ...,\n",
       "         8.15121071e-05,  1.56580949e-06, -6.60512533e-06]),\n",
       " array([ 1.26184538e-05,  2.62084344e-06, -1.08663282e-04, ...,\n",
       "         1.13025489e-04, -4.85356991e-07, -1.26596208e-05]),\n",
       " array([ 1.02490651e-05,  1.20817319e-05,  3.59361299e-05, ...,\n",
       "        -1.14157136e-04, -7.67969753e-06,  3.63162757e-06]),\n",
       " array([9.72256256e-06, 1.24922940e-05, 5.69545258e-05, ...,\n",
       "        8.42334198e-05, 1.25766468e-05, 6.79985478e-06]),\n",
       " array([ 1.06757037e-05,  1.15364319e-05,  1.61171291e-05, ...,\n",
       "        -7.50221610e-05, -1.25518975e-05, -5.22781611e-06]),\n",
       " array([ 1.29493631e-06,  2.57634692e-06,  3.44764606e-05, ...,\n",
       "        -9.27166744e-05, -9.49264318e-06, -8.58393389e-06]),\n",
       " array([ 1.79181867e-06,  3.54771681e-06,  4.70908527e-05, ...,\n",
       "        -1.04694323e-04, -1.22315277e-05, -1.25847543e-05]),\n",
       " array([ 7.92749125e-06,  1.23787090e-05,  1.02612331e-04, ...,\n",
       "        -9.05048710e-05, -1.26846920e-05, -9.75059979e-06]),\n",
       " array([ 5.79691766e-06,  1.03128305e-05,  1.12944475e-04, ...,\n",
       "         7.96206774e-05,  3.71457882e-06, -2.23873247e-06]),\n",
       " array([ 7.06107785e-06,  1.17328127e-05,  1.11905567e-04, ...,\n",
       "        -3.67463256e-05,  3.29316746e-06,  9.55504889e-06]),\n",
       " array([ 1.23798325e-05,  5.41575470e-06, -9.00925718e-05, ...,\n",
       "         4.65817244e-05, -1.01705909e-05, -9.62520907e-06]),\n",
       " array([ 9.57153372e-06,  1.25650659e-05,  6.23076135e-05, ...,\n",
       "        -1.09667983e-04, -1.06624494e-05, -1.81142571e-06]),\n",
       " array([ 1.06009518e-05,  1.16479069e-05,  1.97751029e-05, ...,\n",
       "        -1.02523378e-04, -1.59222098e-06,  9.64240235e-06]),\n",
       " array([ 4.00704397e-06,  7.60387384e-06,  9.37972605e-05, ...,\n",
       "        -9.91202178e-05, -1.24389733e-05, -1.25907984e-05]),\n",
       " array([ 1.17556440e-05,  8.84220032e-06, -4.59419886e-05, ...,\n",
       "        -4.44618357e-05, -1.26857340e-05, -4.60141164e-06]),\n",
       " array([ 1.20403431e-05,  7.59017707e-06, -6.52975635e-05, ...,\n",
       "         1.03622329e-04, -1.42740335e-06, -1.24138101e-05]),\n",
       " array([6.70715536e-06, 1.13865067e-05, 1.13606081e-04, ...,\n",
       "        1.08041676e-04, 8.02079824e-06, 1.61159618e-06]),\n",
       " array([7.59859806e-06, 1.21699879e-05, 1.07033126e-04, ...,\n",
       "        9.34409383e-05, 1.26813713e-05, 9.92792878e-06]),\n",
       " array([ 1.16257052e-05,  9.30967336e-06, -3.75347781e-05, ...,\n",
       "         1.04857479e-04,  6.41081869e-08, -1.15998884e-05]),\n",
       " array([ 7.35657490e-06,  1.19871556e-05,  1.09579129e-04, ...,\n",
       "        -8.19231464e-05, -2.29200138e-06,  5.36818294e-06]),\n",
       " array([ 8.50160977e-06,  1.26209747e-05,  9.21094054e-05, ...,\n",
       "         1.79399822e-05, -6.91637518e-06, -1.22610303e-05]),\n",
       " array([ 7.47597962e-06,  1.20803318e-05,  1.08396482e-04, ...,\n",
       "        -4.21635633e-05,  3.16236920e-06,  9.79502741e-06]),\n",
       " array([ 8.97790836e-06,  1.26870379e-05,  8.05531019e-05, ...,\n",
       "        -8.85041630e-05, -1.26207450e-05, -8.00074607e-06]),\n",
       " array([ 8.15211106e-06,  1.24929595e-05,  9.89347175e-05, ...,\n",
       "        -1.00289483e-04, -1.24356007e-05, -7.91367515e-06]),\n",
       " array([ 8.06880482e-06,  1.24533851e-05,  1.00362238e-04, ...,\n",
       "        -1.02302805e-04, -1.23554767e-05, -7.70206713e-06]),\n",
       " array([9.34056033e-06, 1.26421464e-05, 6.99292178e-05, ...,\n",
       "        8.29203468e-05, 1.26564234e-05, 7.91637619e-06]),\n",
       " array([ 1.26625163e-05,  1.57426914e-06, -1.12197359e-04, ...,\n",
       "        -4.16310291e-05,  1.15032794e-05,  6.05597325e-06]),\n",
       " array([ 1.03855882e-06,  2.07014655e-06,  2.77896096e-05, ...,\n",
       "        -1.13579712e-04, -1.26843602e-05, -1.26631845e-05]),\n",
       " array([8.88464070e-06, 1.26847181e-05, 8.30266718e-05, ...,\n",
       "        8.56217150e-06, 9.53877714e-06, 1.26672527e-05]),\n",
       " array([ 8.99857575e-06,  1.26868138e-05,  7.99908318e-05, ...,\n",
       "         3.49736757e-05, -5.82660490e-06, -1.21008456e-05]),\n",
       " array([3.25803754e-06, 6.29755535e-06, 8.02294959e-05, ...,\n",
       "        4.14009094e-05, 7.48230307e-06, 9.86250415e-06]),\n",
       " array([ 1.26115015e-05,  2.74855310e-06, -1.08108674e-04, ...,\n",
       "         2.34605498e-05, -1.20583486e-05, -5.23481481e-06]),\n",
       " array([ 9.47119875e-06,  1.26034690e-05,  6.57016482e-05, ...,\n",
       "        -6.73064631e-06, -9.95233319e-06, -1.24958471e-05]),\n",
       " array([ 1.26294168e-05,  2.40491668e-06, -1.09539507e-04, ...,\n",
       "         1.04309156e-04, -4.03310195e-06, -1.23582890e-05]),\n",
       " array([ 1.22679720e-05,  6.25417149e-06, -8.17137801e-05, ...,\n",
       "         7.77803470e-05, -6.77825789e-06, -1.20980866e-05]),\n",
       " array([ 3.82994800e-06,  7.30253439e-06,  9.08406046e-05, ...,\n",
       "        -1.53590407e-05, -5.42213693e-06, -8.63173182e-06]),\n",
       " array([ 8.61270029e-06,  1.26480962e-05,  8.96507988e-05, ...,\n",
       "        -8.48510320e-05, -1.26859548e-05, -9.20162265e-06]),\n",
       " array([ 1.20141411e-05,  7.72146880e-06, -6.34619442e-05, ...,\n",
       "         3.10587508e-05,  1.26701232e-05,  4.69197835e-06]),\n",
       " array([ 1.81981479e-06,  3.60199289e-06,  4.77854673e-05, ...,\n",
       "         2.39782528e-05,  8.57555428e-07, -9.66965221e-07]),\n",
       " array([ 6.61901884e-06,  1.12936369e-05,  1.13851907e-04, ...,\n",
       "         4.19272174e-05, -2.18215410e-06, -8.38201666e-06]),\n",
       " array([ 1.25825359e-05,  3.22351158e-06, -1.05806780e-04, ...,\n",
       "        -1.11258425e-04, -4.41152242e-06,  1.12322805e-05]),\n",
       " array([ 1.11370229e-05,  1.06688203e-05, -8.25021772e-06, ...,\n",
       "        -7.75574041e-05, -1.23012009e-05, -3.16627517e-06]),\n",
       " array([2.95168268e-06, 5.74137568e-06, 7.39413128e-05, ...,\n",
       "        1.01119117e-04, 9.55669996e-06, 7.35308628e-06]),\n",
       " array([ 1.24673631e-05, -4.62014462e-06, -9.67938304e-05, ...,\n",
       "         6.32981283e-05,  9.07298008e-06, -1.03956204e-05]),\n",
       " array([ 4.41694433e-06,  8.28124404e-06,  9.99812261e-05, ...,\n",
       "        -1.02453514e-04, -1.26216447e-05, -1.22799703e-05]),\n",
       " array([ 5.25522380e-06,  9.56636815e-06,  1.09426880e-04, ...,\n",
       "        -1.14094351e-04, -1.17418906e-05, -8.69681961e-06]),\n",
       " array([6.26464211e-06, 1.08952845e-05, 1.14153235e-04, ...,\n",
       "        4.94050529e-05, 1.04215331e-05, 1.26351932e-05]),\n",
       " array([ 7.41026248e-06,  1.20297548e-05,  1.09064930e-04, ...,\n",
       "        -1.07941061e-04, -1.21512740e-05, -7.73241428e-06]),\n",
       " array([ 8.56615507e-06,  1.26375631e-05,  9.06981718e-05, ...,\n",
       "        -7.52296407e-05,  2.77868775e-07,  8.76906880e-06]),\n",
       " array([ 1.21437418e-06,  2.41759683e-06,  3.23864738e-05, ...,\n",
       "        -7.37728117e-05, -9.08648111e-06, -9.89226520e-06]),\n",
       " array([ 1.26851453e-05, -4.39891344e-07, -1.14025160e-04, ...,\n",
       "        -1.00187737e-04,  6.27751131e-06,  1.09146579e-05]),\n",
       " array([1.03185788e-05, 1.20071658e-05, 3.28804177e-05, ...,\n",
       "        1.94615083e-05, 1.14257564e-05, 1.11330648e-05]),\n",
       " array([ 6.93799695e-06,  1.16173479e-05,  1.12628516e-04, ...,\n",
       "        -8.34776098e-05, -3.03224905e-06,  4.19824610e-06]),\n",
       " array([ 1.08798246e-05,  1.11930550e-05,  5.71911506e-06, ...,\n",
       "         1.06107699e-04,  2.04673246e-06, -9.68448532e-06]),\n",
       " array([ 7.19638258e-06,  1.18533710e-05,  1.10945093e-04, ...,\n",
       "         2.26231606e-05, -4.98345861e-06, -1.07221692e-05]),\n",
       " array([ 1.10974918e-05,  1.07567251e-05, -6.03942244e-06, ...,\n",
       "         9.17673630e-05, -1.66142813e-06, -1.18071299e-05]),\n",
       " array([9.76742326e-06, 1.24670753e-05, 5.53073602e-05, ...,\n",
       "        4.74570550e-05, 1.22491077e-05, 1.03614966e-05]),\n",
       " array([ 1.25764213e-05, -3.31445294e-06, -1.05322660e-04, ...,\n",
       "         5.91188324e-05,  9.89376330e-06, -9.17643325e-06]),\n",
       " array([ 1.26783744e-05,  9.37705501e-07, -1.13477348e-04, ...,\n",
       "        -1.12020822e-04,  1.99342677e-06,  1.25946150e-05]),\n",
       " array([ 4.24839905e-06,  8.00625704e-06,  9.75537579e-05, ...,\n",
       "        -1.12332546e-04, -1.25222783e-05, -1.11168565e-05]),\n",
       " array([ 1.23006774e-05, -6.02512829e-06, -8.41421480e-05, ...,\n",
       "        -1.82997944e-06, -1.22492978e-05,  6.20329946e-06]),\n",
       " array([ 1.60678970e-06,  3.18770278e-06,  4.24540776e-05, ...,\n",
       "        -1.76352576e-05, -3.53126933e-06, -5.04612979e-06]),\n",
       " array([ 1.25859017e-05,  3.17224199e-06, -1.06073533e-04, ...,\n",
       "         3.80009204e-05, -1.13362667e-05, -7.07974224e-06]),\n",
       " array([ 3.59892076e-06,  6.90217091e-06,  8.67424021e-05, ...,\n",
       "        -9.47929160e-05, -8.09400780e-06, -4.99014695e-06]),\n",
       " array([ 1.19438190e-05,  8.05591737e-06, -5.85900873e-05, ...,\n",
       "         8.89990282e-05,  1.08171787e-05, -2.59309920e-06]),\n",
       " array([ 9.19823510e-06,  1.26703618e-05,  7.42916132e-05, ...,\n",
       "         8.40012700e-05,  1.98450377e-07, -9.06042929e-06]),\n",
       " array([ 3.03500157e-06,  5.89376240e-06,  7.56899228e-05, ...,\n",
       "        -1.07756563e-04, -1.26293005e-05, -1.25518685e-05]),\n",
       " array([ 2.74767517e-06,  5.36492584e-06,  6.95453125e-05, ...,\n",
       "        -2.91034921e-05, -5.81399829e-06, -8.11819148e-06]),\n",
       " array([3.51169477e-06, 6.74898149e-06, 8.51271721e-05, ...,\n",
       "        9.90315913e-05, 8.82607608e-06, 5.95858955e-06]),\n",
       " array([ 2.82592244e-06,  5.50985774e-06,  7.12501649e-05, ...,\n",
       "        -1.14049650e-04, -1.22194558e-05, -1.11523388e-05]),\n",
       " array([ 3.79621456e-06,  7.24457652e-06,  9.02589139e-05, ...,\n",
       "        -3.11851031e-05, -6.95825023e-06, -9.81377729e-06]),\n",
       " array([ 4.59169275e-06,  8.56083755e-06,  1.02320169e-04, ...,\n",
       "        -9.51659170e-05, -7.32033755e-06, -3.07382526e-06]),\n",
       " array([ 1.20819270e-05,  7.37364551e-06, -6.82335624e-05, ...,\n",
       "         1.71417787e-05,  1.25262185e-05,  5.74009178e-06]),\n",
       " array([ 1.10857384e-05,  1.07823205e-05, -5.38659863e-06, ...,\n",
       "        -1.04024371e-04, -1.01915281e-05,  1.64606970e-06]),\n",
       " array([ 1.12968966e-05,  1.02830162e-05, -1.74303088e-05, ...,\n",
       "         5.38333846e-05,  1.26848922e-05,  5.56475156e-06]),\n",
       " array([1.81207639e-06, 3.58699582e-06, 4.75936592e-05, ...,\n",
       "        1.14179476e-04, 1.25541932e-05, 1.21639228e-05]),\n",
       " array([ 1.18306550e-05,  8.54585831e-06, -5.09163650e-05, ...,\n",
       "         1.05371124e-04,  8.78531005e-06, -5.36224142e-06]),\n",
       " array([ 1.22842887e-05, -6.14137280e-06, -8.29230863e-05, ...,\n",
       "         9.90161163e-05, -8.86736228e-06, -6.56903871e-06]),\n",
       " array([9.81455749e-06, 1.24387409e-05, 5.35482981e-05, ...,\n",
       "        7.63171308e-05, 1.26737846e-05, 7.58249047e-06]),\n",
       " array([ 1.21149465e-05,  7.19403189e-06, -7.05848414e-05, ...,\n",
       "         3.88858273e-05,  1.26735924e-05,  3.20497031e-06]),\n",
       " array([5.72228602e-06, 1.02143607e-05, 1.12590611e-04, ...,\n",
       "        4.36189975e-05, 9.61400260e-06, 1.23144102e-05]),\n",
       " array([9.88181828e-06, 1.23949735e-05, 5.09874056e-05, ...,\n",
       "        4.53483044e-05, 1.22291865e-05, 1.03004561e-05]),\n",
       " array([ 9.78801824e-06,  1.24549285e-05,  5.45423402e-05, ...,\n",
       "        -2.74068054e-05,  7.56434042e-06,  1.26706759e-05]),\n",
       " array([ 1.26227221e-05,  2.53907058e-06, -1.09004186e-04, ...,\n",
       "         5.07481454e-05, -1.07402929e-05, -7.79929203e-06]),\n",
       " array([ 7.14215202e-06,  1.18058666e-05,  1.11351096e-04, ...,\n",
       "        -9.30858814e-05, -1.26845976e-05, -1.06242177e-05]),\n",
       " array([ 1.26277728e-05,  2.43857822e-06, -1.09407978e-04, ...,\n",
       "        -9.53071737e-05,  5.93139910e-06,  1.17354704e-05]),\n",
       " array([6.07375910e-06, 1.06650164e-05, 1.13874261e-04, ...,\n",
       "        2.42518181e-05, 8.30103988e-06, 1.18811988e-05]),\n",
       " array([ 1.26206476e-05, -2.57915491e-06, -1.08838462e-04, ...,\n",
       "        -8.74302166e-05, -7.12453581e-06,  1.11707670e-05]),\n",
       " array([ 1.18866296e-05,  8.31041797e-06, -5.46865073e-05, ...,\n",
       "        -2.83600498e-05, -1.26157043e-05, -5.66892001e-06]),\n",
       " array([3.23121989e-06, 6.24933241e-06, 7.96948703e-05, ...,\n",
       "        1.10146119e-04, 1.09840271e-05, 9.00475732e-06]),\n",
       " array([ 7.84275807e-06,  1.23295099e-05,  1.03859392e-04, ...,\n",
       "        -9.50468957e-05, -1.26473822e-05, -9.32168094e-06]),\n",
       " array([2.34623981e-06, 4.61154068e-06, 6.04577574e-05, ...,\n",
       "        1.11566575e-04, 1.26819551e-05, 1.25297115e-05]),\n",
       " array([ 1.04155077e-05,  1.18943418e-05,  2.85077834e-05, ...,\n",
       "        -1.01558911e-04, -1.12033714e-05, -1.50936410e-06]),\n",
       " array([ 1.01639624e-05,  1.21661016e-05,  3.95866718e-05, ...,\n",
       "        -1.11085854e-04, -5.03737780e-06,  6.31362909e-06]),\n",
       " array([3.47502116e-06, 6.68425418e-06, 8.44373016e-05, ...,\n",
       "        1.12334058e-04, 1.13823695e-05, 9.41217048e-06]),\n",
       " array([ 1.00525470e-05,  1.22655304e-05,  4.42167334e-05, ...,\n",
       "        -1.06630918e-04, -1.08227469e-05, -1.35700270e-06]),\n",
       " array([ 1.26519273e-05, -1.88161206e-06, -1.11345055e-04, ...,\n",
       "        -9.39047142e-05,  7.97315402e-06,  9.24843169e-06]),\n",
       " array([ 1.25122658e-05,  4.13955739e-06, -1.00281220e-04, ...,\n",
       "         1.22452215e-05, -1.22150277e-05, -5.40184537e-06]),\n",
       " array([5.04337185e-06, 9.25552549e-06, 1.07476515e-04, ...,\n",
       "        9.73104696e-05, 7.28330467e-06, 2.55357866e-06]),\n",
       " array([ 6.32467128e-06,  1.09654841e-05,  1.14178098e-04, ...,\n",
       "        -1.29250183e-05,  5.03903602e-06,  1.01726584e-05]),\n",
       " array([7.62845986e-06, 1.21908747e-05, 1.06677983e-04, ...,\n",
       "        1.04569199e-04, 1.23475074e-05, 8.11308839e-06]),\n",
       " array([ 9.49871636e-06,  1.25937038e-05,  6.47835994e-05, ...,\n",
       "        -9.42106211e-05, -1.23060628e-05, -5.84757309e-06]),\n",
       " array([ 1.23842971e-05,  5.37867669e-06, -9.04312913e-05, ...,\n",
       "        -5.42905215e-07,  1.23710572e-05,  5.43325123e-06]),\n",
       " array([1.05406942e-06, 2.10085036e-06, 2.81969884e-05, ...,\n",
       "        9.78355774e-05, 1.13768333e-05, 1.18040126e-05]),\n",
       " array([ 1.26631687e-05, -1.55329897e-06, -1.12249933e-04, ...,\n",
       "         1.13497349e-04, -2.15572145e-06, -1.23468165e-05]),\n",
       " array([ 1.26802430e-05,  8.30794117e-07, -1.13628449e-04, ...,\n",
       "         1.13860557e-04, -5.32816753e-07, -1.26865105e-05]),\n",
       " array([ 1.14693924e-05,  9.80593974e-06, -2.77698931e-05, ...,\n",
       "        -7.84026103e-05,  4.61389880e-06,  1.26564221e-05]),\n",
       " array([ 6.77373621e-06,  1.14549530e-05,  1.13374069e-04, ...,\n",
       "         1.83323105e-05, -4.96349590e-06, -1.04306779e-05]),\n",
       " array([ 1.25564612e-05, -3.59392200e-06, -1.03746739e-04, ...,\n",
       "         6.71294088e-05,  9.08961468e-06, -1.00607135e-05]),\n",
       " array([ 1.68149628e-06,  3.33332471e-06,  4.43355679e-05, ...,\n",
       "        -7.10122947e-05, -9.13764023e-06, -1.02235366e-05]),\n",
       " array([ 7.87485328e-06,  1.23485286e-05,  1.03395965e-04, ...,\n",
       "        -1.11211212e-04, -7.90470348e-06, -3.81172291e-08]),\n",
       " array([ 1.24407490e-05,  4.87897200e-06, -9.47427633e-05, ...,\n",
       "        -3.48943220e-05, -1.26058364e-05, -1.06643735e-06]),\n",
       " array([ 1.26868364e-05,  1.48099058e-07, -1.14162106e-04, ...,\n",
       "        -1.09346410e-04, -3.72304612e-06,  1.21065514e-05]),\n",
       " array([ 8.18767579e-06,  1.25088243e-05,  9.83022086e-05, ...,\n",
       "        -3.16050870e-05,  5.18516521e-06,  1.14334962e-05]),\n",
       " array([ 7.58834124e-06,  1.21627273e-05,  1.07153010e-04, ...,\n",
       "        -1.08869507e-04, -7.40742854e-06,  2.24263908e-07]),\n",
       " array([2.52090339e-06, 4.94127609e-06, 6.44791866e-05, ...,\n",
       "        8.52888792e-05, 1.09639384e-05, 1.20137850e-05]),\n",
       " array([ 4.10526428e-06,  7.76881152e-06,  9.53648453e-05, ...,\n",
       "        -2.28766572e-05, -6.42720537e-06, -9.62092134e-06]),\n",
       " array([ 3.83323219e-06,  7.30816763e-06,  9.08969247e-05, ...,\n",
       "        -7.64088957e-05, -1.09417818e-05, -1.23706578e-05]),\n",
       " array([ 1.25175208e-05,  4.07899114e-06, -1.00691567e-04, ...,\n",
       "         8.44569685e-05, -6.89468736e-06, -1.16311454e-05]),\n",
       " array([3.50147317e-06, 6.73095964e-06, 8.49355269e-05, ...,\n",
       "        2.76882238e-05, 6.35404434e-06, 9.13794718e-06]),\n",
       " array([ 7.26634071e-06,  1.19130114e-05,  1.10379363e-04, ...,\n",
       "        -1.02925017e-04, -6.22918191e-06,  1.22388844e-06]),\n",
       " array([ 1.26243098e-05, -2.50793514e-06, -1.09131077e-04, ...,\n",
       "        -8.53154522e-05, -7.44842494e-06,  1.09595135e-05]),\n",
       " array([4.36763865e-06, 8.20132937e-06, 9.92882393e-05, ...,\n",
       "        1.12752486e-04, 1.24510626e-05, 1.08514932e-05]),\n",
       " array([ 1.23703780e-05, -5.49322124e-06, -8.93763748e-05, ...,\n",
       "         1.14165772e-04, -3.00916857e-06, -1.13492559e-05]),\n",
       " array([ 1.26453001e-05, -2.05010965e-06, -1.10812600e-04, ...,\n",
       "         1.09254747e-04,  2.68969541e-06, -1.25758919e-05]),\n",
       " array([ 7.38023385e-06,  1.20060689e-05,  1.09356052e-04, ...,\n",
       "        -1.02002284e-04, -1.25353804e-05, -9.05842402e-06]),\n",
       " array([ 1.08262516e-05,  1.12889659e-05,  8.50655672e-06, ...,\n",
       "         3.43339910e-05, -8.33615859e-06, -1.25074632e-05]),\n",
       " array([ 1.25633410e-05,  3.50036683e-06, -1.04289169e-04, ...,\n",
       "        -1.14150616e-04, -2.05007740e-06,  1.21126434e-05]),\n",
       " array([ 3.04200487e-06,  5.90653388e-06,  7.58356234e-05, ...,\n",
       "        -6.95803226e-05, -5.09396873e-06, -2.15933794e-06]),\n",
       " array([3.19937611e-06, 6.19195263e-06, 7.90559982e-05, ...,\n",
       "        7.67394630e-05, 5.88228912e-06, 2.85746645e-06]),\n",
       " array([4.99995188e-06, 9.19059245e-06, 1.07038856e-04, ...,\n",
       "        2.20658835e-05, 7.15910978e-06, 1.07075709e-05]),\n",
       " array([ 1.20435272e-05,  7.57395854e-06, -6.55213865e-05, ...,\n",
       "        -6.62350610e-05, -1.21242298e-05, -2.65010715e-07]),\n",
       " array([4.38342405e-07, 8.76161392e-07, 1.18160077e-05, ...,\n",
       "        7.62620212e-05, 8.79501710e-06, 9.10568762e-06]),\n",
       " array([ 1.26816830e-05, -7.37843564e-07, -1.13744937e-04, ...,\n",
       "        -3.44308118e-05,  1.22026523e-05,  3.11580251e-06]),\n",
       " array([2.03184566e-06, 4.01123926e-06, 5.29819524e-05, ...,\n",
       "        7.01133906e-05, 6.08643309e-06, 4.22510470e-06]),\n",
       " array([ 1.25114003e-05, -4.14943484e-06, -1.00213685e-04, ...,\n",
       "         9.69812273e-05,  4.81645177e-06, -1.23734439e-05]),\n",
       " array([4.25805314e-06, 8.02214461e-06, 9.76972341e-05, ...,\n",
       "        3.24281840e-06, 4.59576079e-06, 8.29805831e-06]),\n",
       " array([ 4.24380390e-06,  7.99868912e-06,  9.74852793e-05, ...,\n",
       "        -5.90894320e-05, -9.81882267e-06, -1.19407273e-05]),\n",
       " array([ 1.26441859e-05,  2.07705618e-06, -1.10723151e-04, ...,\n",
       "        -5.52931972e-05,  1.05580400e-05,  7.87826214e-06]),\n",
       " array([ 1.06201231e-05,  1.16200088e-05,  1.88445602e-05, ...,\n",
       "        -1.10776271e-04, -4.16028007e-06,  7.75692012e-06]),\n",
       " array([ 1.22285613e-05,  6.51547261e-06, -7.88109353e-05, ...,\n",
       "         1.09069418e-04,  6.84604158e-06, -8.47161007e-06]),\n",
       " array([9.01397852e-06, 1.26864701e-05, 7.95684356e-05, ...,\n",
       "        3.85561139e-05, 1.14993162e-05, 1.19002311e-05]),\n",
       " array([1.52557385e-06, 3.02900876e-06, 4.03950170e-05, ...,\n",
       "        1.13804658e-04, 1.24301021e-05, 1.20344303e-05]),\n",
       " array([ 1.26793774e-05,  8.81943060e-07, -1.13558444e-04, ...,\n",
       "        -3.76699699e-05, -1.21150243e-05,  3.34300563e-06]),\n",
       " array([ 1.15917775e-05,  9.42312105e-06, -3.53830961e-05, ...,\n",
       "        -6.73567969e-06,  1.12673835e-05,  9.90785074e-06]),\n",
       " array([9.44942271e-07, 1.88463528e-06, 2.53238737e-05, ...,\n",
       "        8.73109748e-05, 1.02835304e-05, 1.08083870e-05]),\n",
       " array([ 1.18400423e-05,  8.50726375e-06, -5.15451653e-05, ...,\n",
       "        -6.28231605e-05,  7.37888680e-06,  1.22824380e-05]),\n",
       " array([ 3.87935886e-06,  7.38710948e-06,  9.16820616e-05, ...,\n",
       "        -3.20314284e-05,  3.34878414e-07,  4.19684645e-06]),\n",
       " array([ 1.25349017e-05, -3.87094221e-06, -1.02052083e-04, ...,\n",
       "         7.01141871e-05,  8.69025851e-06, -1.04743947e-05]),\n",
       " array([ 5.67175669e-06,  1.01468701e-05,  1.12326712e-04, ...,\n",
       "         3.35690087e-07, -5.63836686e-06, -1.01244353e-05]),\n",
       " array([6.21828125e-07, 1.24216156e-06, 1.67350167e-05, ...,\n",
       "        1.06598938e-04, 1.20532910e-05, 1.22328824e-05]),\n",
       " array([ 1.25769588e-05,  3.30656723e-06, -1.05365195e-04, ...,\n",
       "        -1.87509174e-05, -1.26800883e-05, -1.25017492e-06]),\n",
       " array([3.81959172e-06, 7.28475979e-06, 9.06626434e-05, ...,\n",
       "        1.12328666e-04, 1.25872681e-05, 1.15251661e-05]),\n",
       " array([1.06247964e-05, 1.16131366e-05, 1.86169308e-05, ...,\n",
       "        1.79712501e-05, 1.15836800e-05, 1.06643444e-05]),\n",
       " array([ 1.18874970e-05,  8.30666658e-06, -5.47453228e-05, ...,\n",
       "        -7.19711529e-05, -1.20226298e-05, -4.04028442e-07]),\n",
       " array([ 1.05129271e-05,  1.17700690e-05,  2.39807102e-05, ...,\n",
       "         4.45677666e-05, -6.90682707e-06, -1.26848910e-05]),\n",
       " array([ 1.26084354e-05, -2.80291928e-06, -1.07864340e-04, ...,\n",
       "        -1.07949440e-04,  5.44120232e-06,  1.07851811e-05]),\n",
       " array([ 5.29436095e-06,  9.62267930e-06,  1.09752931e-04, ...,\n",
       "        -4.65941162e-05,  1.28514972e-07,  5.41087946e-06]),\n",
       " array([ 1.24203510e-05,  5.06660174e-06, -9.31787548e-05, ...,\n",
       "        -1.13385914e-04, -4.03163727e-06,  1.09542457e-05]),\n",
       " array([ 1.23372752e-05, -5.75394277e-06, -8.68804691e-05, ...,\n",
       "         1.13124234e-04, -4.60473672e-06, -1.04221960e-05]),\n",
       " array([4.97501638e-06, 9.15311858e-06, 1.06781789e-04, ...,\n",
       "        1.11950921e-04, 1.04649585e-05, 6.81419419e-06]),\n",
       " array([ 1.23982368e-05,  5.26076787e-06, -9.14909935e-05, ...,\n",
       "        -1.09863844e-04,  7.86578415e-07,  1.25412645e-05]),\n",
       " array([ 4.69157997e-06,  8.71802780e-06,  1.03573069e-04, ...,\n",
       "        -1.06345848e-04, -9.27114464e-06, -5.41130041e-06]),\n",
       " array([1.55652126e-06, 3.08952524e-06, 4.11812564e-05, ...,\n",
       "        8.05046163e-05, 9.98147153e-06, 1.08668742e-05]),\n",
       " array([ 8.52999757e-06,  1.26285518e-05,  9.14946040e-05, ...,\n",
       "        -2.36861457e-05, -1.02926738e-05, -1.26062883e-05]),\n",
       " array([ 1.26560968e-05, -1.76713515e-06, -1.11680432e-04, ...,\n",
       "         1.14169223e-04, -7.14940985e-07, -1.25860732e-05]),\n",
       " array([1.69634733e-06, 3.36223135e-06, 4.47081099e-05, ...,\n",
       "        1.49754811e-05, 3.33075102e-06, 4.93768918e-06]),\n",
       " array([ 1.26308107e-05,  2.37598584e-06, -1.09651059e-04, ...,\n",
       "        -1.12626516e-04, -3.25324996e-06,  1.19025109e-05]),\n",
       " array([ 1.10720236e-05,  1.08118794e-05, -4.62742747e-06, ...,\n",
       "        -6.44514404e-05,  5.64278535e-06,  1.26717180e-05]),\n",
       " array([ 1.25927728e-05,  3.06469211e-06, -1.06618685e-04, ...,\n",
       "        -1.49066335e-05,  1.22834413e-05,  4.64575901e-06]),\n",
       " array([ 9.06205417e-06,  1.26844176e-05,  7.82315594e-05, ...,\n",
       "        -3.66436100e-05,  5.73309661e-06,  1.20964300e-05]),\n",
       " array([ 1.26797774e-05,  8.58688441e-07, -1.13590791e-04, ...,\n",
       "        -8.04318316e-05,  8.69712012e-06,  9.52615107e-06]),\n",
       " array([ 3.06952725e-06,  5.95666801e-06,  7.64062711e-05, ...,\n",
       "        -1.03123879e-04, -1.24358507e-05, -1.26741863e-05]),\n",
       " array([ 1.24086335e-05,  5.17061537e-06, -9.22834536e-05, ...,\n",
       "         9.65757963e-05,  8.85532350e-06, -7.04103817e-06]),\n",
       " array([ 4.07916199e-06,  7.72513517e-06,  9.49533884e-05, ...,\n",
       "        -1.13278185e-04, -1.14069940e-05, -9.01572522e-06]),\n",
       " array([ 9.52893596e-06,  1.25823153e-05,  6.37642855e-05, ...,\n",
       "        -5.69948711e-05,  4.07573541e-06,  1.17147106e-05]),\n",
       " array([ 1.26024286e-05,  2.90629737e-06, -1.07386127e-04, ...,\n",
       "         1.13376333e-04,  2.94486768e-06, -1.19186686e-05]),\n",
       " array([ 6.31303464e-06,  1.09519604e-05,  1.14175659e-04, ...,\n",
       "        -7.33792418e-05, -1.19091516e-05, -1.25066749e-05]),\n",
       " array([5.33265504e-06, 9.67743287e-06, 1.10061426e-04, ...,\n",
       "        6.62557729e-05, 1.10231117e-05, 1.26421845e-05]),\n",
       " array([ 6.81078875e-06,  1.14923958e-05,  1.13227527e-04, ...,\n",
       "        -1.05266352e-04, -1.25064564e-05, -9.40650036e-06]),\n",
       " array([ 2.47331036e-06,  4.85171318e-06,  6.33933401e-05, ...,\n",
       "        -1.10089672e-04, -1.13418564e-05, -1.00158956e-05]),\n",
       " array([ 1.24771508e-05,  4.52047713e-06, -9.75511196e-05, ...,\n",
       "        -7.66830051e-05,  7.70098427e-06,  1.13106921e-05]),\n",
       " array([ 5.04627353e-06,  9.25985026e-06,  1.07505310e-04, ...,\n",
       "         5.18280140e-05,  7.87268899e-07, -4.31423424e-06]),\n",
       " array([ 4.00897685e-06,  7.60713498e-06,  9.38286135e-05, ...,\n",
       "        -1.12616173e-04, -1.25333355e-05, -1.12689896e-05]),\n",
       " array([ 1.25555995e-05,  3.60544978e-06, -1.03678861e-04, ...,\n",
       "         1.13592614e-04,  3.08373567e-06, -1.17363070e-05]),\n",
       " array([ 1.26554507e-05, -1.78536796e-06, -1.11628442e-04, ...,\n",
       "        -1.64975471e-06, -1.26411992e-05,  1.96666972e-06]),\n",
       " array([ 1.26833240e-05, -6.14940541e-07, -1.13877730e-04, ...,\n",
       "         1.14178919e-04, -3.51687695e-07, -1.26699245e-05]),\n",
       " array([ 1.24155314e-05,  5.10970255e-06, -9.28102241e-05, ...,\n",
       "         5.56853828e-05,  1.21121499e-05, -1.20263041e-06]),\n",
       " array([ 1.12365908e-05,  1.04344755e-05, -1.39222787e-05, ...,\n",
       "         3.33108324e-05, -9.02921442e-06, -1.20859998e-05]),\n",
       " array([ 1.26636318e-05,  1.53823497e-06, -1.12287261e-04, ...,\n",
       "         4.04879423e-05, -1.15674986e-05, -5.90390155e-06]),\n",
       " array([5.94269442e-07, 1.18723432e-06, 1.59977950e-05, ...,\n",
       "        4.91386312e-05, 4.91761863e-06, 4.36440922e-06]),\n",
       " array([ 1.08685302e-05,  1.12136325e-05,  6.31024858e-06, ...,\n",
       "        -1.09501711e-04, -9.35589537e-06,  2.51430064e-06]),\n",
       " array([ 1.17817725e-05,  8.74133806e-06, -4.76646068e-05, ...,\n",
       "         2.28476071e-06, -1.16852354e-05, -8.92358442e-06]),\n",
       " array([9.97154881e-06, 1.23302996e-05, 4.74775292e-05, ...,\n",
       "        3.33411559e-05, 1.18274718e-05, 1.09205393e-05]),\n",
       " array([ 2.07945186e-06,  4.10266029e-06,  5.41322966e-05, ...,\n",
       "        -1.13093093e-04, -1.26825707e-05, -1.24557886e-05]),\n",
       " array([ 1.25598916e-05, -3.54761421e-06, -1.04017108e-04, ...,\n",
       "         4.65333956e-05, -1.21997292e-05, -1.72466798e-06]),\n",
       " array([ 1.24523550e-05,  4.76817879e-06, -9.56357456e-05, ...,\n",
       "         1.09580513e-04,  5.82975387e-06, -9.94373122e-06]),\n",
       " array([ 1.21509776e-05,  6.98959193e-06, -7.31707928e-05, ...,\n",
       "         2.67635797e-05, -1.09571405e-05, -9.27669420e-06]),\n",
       " array([ 4.54651477e-06,  8.48910692e-06,  1.01733225e-04, ...,\n",
       "        -3.46684833e-06, -4.90405226e-06, -8.77147109e-06]),\n",
       " array([9.46149250e-07, 1.88702908e-06, 2.53557370e-05, ...,\n",
       "        1.00739910e-04, 1.16078837e-05, 1.19574173e-05]),\n",
       " array([4.70766413e-07, 9.40884424e-07, 1.26869295e-05, ...,\n",
       "        9.35115593e-06, 1.50752187e-06, 1.97391490e-06]),\n",
       " array([ 1.25577534e-05, -3.57655672e-06, -1.03848558e-04, ...,\n",
       "        -9.24240086e-05,  8.83601867e-06,  7.75310722e-06]),\n",
       " array([ 8.69900784e-06,  1.26643931e-05,  8.76423218e-05, ...,\n",
       "        -6.95320016e-05,  1.27604006e-06,  9.58375383e-06]),\n",
       " array([ 1.26576088e-05,  1.72369623e-06, -1.11802121e-04, ...,\n",
       "        -8.88185198e-05,  7.28215985e-06,  1.08607331e-05]),\n",
       " array([ 1.26084185e-05, -2.80321567e-06, -1.07862995e-04, ...,\n",
       "        -1.06930472e-04,  5.74179755e-06,  1.06049980e-05]),\n",
       " array([5.95473783e-07, 1.18963505e-06, 1.60300251e-05, ...,\n",
       "        2.66459421e-05, 2.37846565e-06, 1.79092838e-06]),\n",
       " array([ 1.26534962e-05,  1.83939669e-06, -1.11471211e-04, ...,\n",
       "         1.14081354e-04,  1.44617093e-06, -1.24659098e-05]),\n",
       " array([ 1.42850733e-06,  2.83884659e-06,  3.79164440e-05, ...,\n",
       "        -4.33673164e-05, -6.10956829e-06, -7.32267998e-06]),\n",
       " array([3.95241531e-06, 7.51145350e-06, 9.29028632e-05, ...,\n",
       "        5.33439376e-05, 9.12688623e-06, 1.14180844e-05]),\n",
       " array([ 1.19292577e-05,  8.12213076e-06, -5.75912103e-05, ...,\n",
       "        -3.21216021e-05,  1.02324097e-05,  1.05360058e-05]),\n",
       " array([4.46260867e-06, 8.35485862e-06, 1.00610186e-04, ...,\n",
       "        1.74330198e-05, 6.22356815e-06, 9.71464450e-06]),\n",
       " array([ 7.23584612e-06,  1.18872434e-05,  1.10631803e-04, ...,\n",
       "        -1.09796311e-04, -8.03560044e-06, -1.00109857e-06]),\n",
       " array([ 4.00861602e-06,  7.60652624e-06,  9.38227621e-05, ...,\n",
       "        -1.11128096e-04, -1.26359819e-05, -1.16293507e-05]),\n",
       " array([ 1.14930208e-05,  9.73509493e-06, -2.92217103e-05, ...,\n",
       "         5.86320545e-05, -7.10279113e-06, -1.25312701e-05]),\n",
       " array([5.14092079e-06, 9.39990251e-06, 1.08413078e-04, ...,\n",
       "        1.12025207e-04, 1.03859957e-05, 6.54257897e-06]),\n",
       " array([ 1.64925987e-06,  3.27053042e-06,  4.35252034e-05, ...,\n",
       "        -1.10258184e-04, -1.25758857e-05, -1.26870242e-05]),\n",
       " array([ 1.26868264e-05, -1.51490397e-07, -1.14161295e-04, ...,\n",
       "        -9.51008447e-05,  7.08416954e-06,  1.04825276e-05]),\n",
       " array([ 1.26293813e-05,  2.40564819e-06, -1.09536669e-04, ...,\n",
       "         1.07092763e-04, -3.24677654e-06, -1.25180454e-05]),\n",
       " array([ 1.25601022e-05,  3.54474982e-06, -1.04033710e-04, ...,\n",
       "         7.16867675e-05,  1.09000579e-05, -4.88921876e-06]),\n",
       " array([ 8.33817198e-06,  1.25689549e-05,  9.54711298e-05, ...,\n",
       "         4.43732349e-05, -3.96661675e-06, -1.09098017e-05]),\n",
       " array([ 9.67705889e-07,  1.92977356e-06,  2.59245018e-05, ...,\n",
       "        -1.13328910e-04, -1.24379352e-05, -1.22108752e-05]),\n",
       " array([ 8.76763968e-06,  1.26742889e-05,  8.59831562e-05, ...,\n",
       "        -7.62981081e-06, -9.36081183e-06, -1.26839788e-05]),\n",
       " array([ 1.19103386e-05,  8.20669781e-06, -5.62984667e-05, ...,\n",
       "         4.99480936e-05, -8.79819686e-06, -1.16122841e-05]),\n",
       " array([ 1.17227496e-05,  8.96577042e-06, -4.37886185e-05, ...,\n",
       "         9.88709272e-05,  1.00645792e-05, -3.28845851e-06]),\n",
       " array([ 1.14448887e-05,  9.87794050e-06, -2.62733653e-05, ...,\n",
       "         1.07927998e-04,  1.44016072e-06, -1.07494208e-05]),\n",
       " array([ 6.28263581e-06,  1.09164400e-05,  1.14163880e-04, ...,\n",
       "        -8.94820739e-05, -1.25405103e-05, -1.18470667e-05]),\n",
       " array([ 1.24097740e-05, -5.16060557e-06, -9.23704965e-05, ...,\n",
       "         1.05657393e-04,  2.26331335e-06, -1.26813066e-05]),\n",
       " array([ 1.23489360e-05,  5.66388471e-06, -8.77576013e-05, ...,\n",
       "        -7.91057416e-05, -1.09207090e-05,  3.78100104e-06]),\n",
       " array([3.15610898e-06, 6.11378444e-06, 7.81809753e-05, ...,\n",
       "        9.13507944e-05, 1.17247419e-05, 1.25618844e-05]),\n",
       " array([6.51136847e-07, 1.30055744e-06, 1.75183577e-05, ...,\n",
       "        1.91792071e-06, 8.63873637e-07, 1.51236078e-06]),\n",
       " array([ 3.23800886e-06,  6.26154889e-06,  7.98305082e-05, ...,\n",
       "         9.70126357e-06, -2.18404443e-06, -5.30138379e-06]),\n",
       " array([3.43894854e-06, 6.62040609e-06, 8.37526178e-05, ...,\n",
       "        1.14054504e-04, 1.23596417e-05, 1.11207048e-05]),\n",
       " array([ 1.26616872e-05, -1.60051477e-06, -1.12130557e-04, ...,\n",
       "        -5.18796664e-05,  1.16435437e-05,  4.29278720e-06]),\n",
       " array([9.03951748e-06, 1.26855654e-05, 7.88617446e-05, ...,\n",
       "        4.15202660e-05, 1.16578487e-05, 1.17464695e-05]),\n",
       " array([ 1.26789902e-05, -9.03881063e-07, -1.13527134e-04, ...,\n",
       "         1.14179282e-04, -4.82610320e-07, -1.26526110e-05]),\n",
       " array([ 1.16026218e-05,  9.38722319e-06, -3.60688917e-05, ...,\n",
       "        -1.13251125e-04, -6.56721841e-06,  7.27060700e-06]),\n",
       " array([8.32651385e-07, 1.66171242e-06, 2.23517180e-05, ...,\n",
       "        1.97272641e-05, 3.00739607e-06, 3.80983202e-06]),\n",
       " array([ 9.49551506e-06,  1.25948693e-05,  6.48908976e-05, ...,\n",
       "        -1.50323221e-05, -1.05206164e-05, -1.22842512e-05]),\n",
       " array([ 5.92557231e-06,  1.04791067e-05,  1.13452448e-04, ...,\n",
       "         7.48714641e-05,  2.88242299e-06, -3.22189829e-06]),\n",
       " array([4.60226615e-06, 8.57756865e-06, 1.02455726e-04, ...,\n",
       "        9.51092124e-05, 1.23946641e-05, 1.25327635e-05]),\n",
       " array([ 1.25918342e-05, -3.07962262e-06, -1.06544170e-04, ...,\n",
       "        -1.13564730e-04,  2.38074144e-07,  1.25605038e-05]),\n",
       " array([ 1.24789874e-05,  4.50148393e-06, -9.76933973e-05, ...,\n",
       "         9.77640714e-05,  8.40585435e-06, -7.83083950e-06]),\n",
       " array([4.39749392e-06, 8.24977180e-06, 9.97095644e-05, ...,\n",
       "        6.94188037e-05, 1.07266950e-05, 1.24099970e-05]),\n",
       " array([ 1.12980168e-05,  1.02801317e-05, -1.74959903e-05, ...,\n",
       "         9.07321141e-05,  1.14454482e-05,  3.32593306e-07]),\n",
       " array([7.12725529e-06, 1.17926254e-05, 1.11457679e-04, ...,\n",
       "        9.39622293e-05, 1.26866752e-05, 1.05505383e-05]),\n",
       " array([ 1.24921311e-05,  4.36271027e-06, -9.87132750e-05, ...,\n",
       "         1.10614421e-04,  5.24350600e-06, -1.04596825e-05]),\n",
       " array([ 1.18666435e-05,  8.39596880e-06, -5.33346270e-05, ...,\n",
       "        -2.18668872e-05,  1.07874408e-05,  1.00621403e-05]),\n",
       " array([ 8.79254856e-06,  1.26771963e-05,  8.53673038e-05, ...,\n",
       "         2.54117405e-05, -6.53645860e-06, -1.22479624e-05]),\n",
       " array([ 1.01384146e-05,  1.21899862e-05,  4.06632461e-05, ...,\n",
       "        -7.28278555e-05, -1.26732143e-05, -7.14546060e-06]),\n",
       " array([ 1.20473965e-05,  7.55417120e-06, -6.57935951e-05, ...,\n",
       "        -4.26572026e-05,  9.68902414e-06,  1.08152325e-05]),\n",
       " array([ 1.25990245e-05, -2.96317613e-06, -1.07115387e-04, ...,\n",
       "         5.29516848e-05,  1.04703585e-05, -8.34625281e-06]),\n",
       " array([ 1.26772019e-05, -9.98931721e-07, -1.13382561e-04, ...,\n",
       "        -4.69860768e-05, -1.13483720e-05,  6.11507509e-06]),\n",
       " array([ 9.27252064e-06,  1.26574028e-05,  7.20461330e-05, ...,\n",
       "         8.67482597e-05,  5.49740247e-07, -8.88860176e-06]),\n",
       " array([ 4.31866481e-06,  8.12151649e-06,  9.85858114e-05, ...,\n",
       "        -1.11532374e-04, -1.07282540e-05, -7.78224034e-06]),\n",
       " array([ 1.26837440e-05, -5.79300531e-07, -1.13911718e-04, ...,\n",
       "        -1.14051670e-04,  8.89675974e-07,  1.26322026e-05]),\n",
       " array([ 6.18389858e-06,  1.07991737e-05,  1.14072068e-04, ...,\n",
       "        -7.47807955e-06, -6.89615998e-06, -1.12120967e-05]),\n",
       " array([ 2.58143417e-06,  5.05486727e-06,  6.58491226e-05, ...,\n",
       "        -9.56467445e-05, -8.99560227e-06, -6.98707430e-06]),\n",
       " array([ 7.40628630e-06,  1.20266391e-05,  1.09103993e-04, ...,\n",
       "        -4.32215422e-05, -1.07544434e-05, -1.26609614e-05]),\n",
       " array([ 1.08215625e-05,  1.12971584e-05,  8.74854748e-06, ...,\n",
       "         1.09232990e-04,  9.48613564e-06, -2.23436853e-06]),\n",
       " array([ 1.25327707e-05, -3.89712914e-06, -1.01884999e-04, ...,\n",
       "         1.05064655e-05, -1.26611079e-05,  2.76961170e-06]),\n",
       " array([ 5.41696452e-06,  9.79676201e-06,  1.10703528e-04, ...,\n",
       "        -1.00309638e-04, -1.26665248e-05, -1.17619424e-05]),\n",
       " array([ 1.22762094e-05,  6.19758143e-06, -8.23237441e-05, ...,\n",
       "         1.12394802e-04,  9.90331146e-07, -1.19887703e-05]),\n",
       " array([ 9.25516914e-06,  1.26607717e-05,  7.25767545e-05, ...,\n",
       "        -9.67244708e-05, -1.22692639e-05, -6.03642878e-06]),\n",
       " array([ 1.78564011e-06,  3.53573124e-06,  4.69373009e-05, ...,\n",
       "        -8.74102542e-06, -2.74198977e-06, -4.45813340e-06]),\n",
       " array([ 1.23295473e-05,  5.81261771e-06, -8.63004031e-05, ...,\n",
       "         1.04084435e-04, -2.34264885e-06, -1.26697423e-05]),\n",
       " array([ 1.26411587e-05, -2.14850176e-06, -1.10480240e-04, ...,\n",
       "        -5.60537234e-05, -1.04837024e-05,  8.01022092e-06]),\n",
       " array([ 1.36159500e-06,  2.70746182e-06,  3.61972611e-05, ...,\n",
       "        -1.08927333e-04, -1.24417570e-05, -1.26363492e-05]),\n",
       " array([ 8.13003945e-06,  1.24828019e-05,  9.93202931e-05, ...,\n",
       "        -8.05447977e-05, -1.10819871e-06,  7.24820472e-06]),\n",
       " array([ 1.14319172e-05,  9.91546261e-06, -2.54848886e-05, ...,\n",
       "         1.83797019e-05, -1.03971582e-05, -1.10602236e-05]),\n",
       " array([ 1.26838832e-05,  5.66984949e-07, -1.13922991e-04, ...,\n",
       "        -5.94658239e-05,  1.06802054e-05,  7.08495544e-06]),\n",
       " array([4.73914568e-06, 8.79218921e-06, 1.04147696e-04, ...,\n",
       "        1.12801994e-04, 1.23606432e-05, 1.03978153e-05]),\n",
       " array([ 3.04238144e-06,  5.90722046e-06,  7.58434522e-05, ...,\n",
       "        -6.33296112e-05, -4.30002046e-06, -1.31224568e-06]),\n",
       " array([ 1.25509744e-05,  3.66664216e-06, -1.03314718e-04, ...,\n",
       "         9.18316279e-05, -5.96805654e-06, -1.19473677e-05]),\n",
       " array([7.07036917e-06, 1.17413073e-05, 1.11845197e-04, ...,\n",
       "        1.14068954e-04, 1.02128735e-05, 4.28510501e-06]),\n",
       " array([1.00851758e-05, 1.22376733e-05, 4.28782082e-05, ...,\n",
       "        1.01389242e-04, 1.14731581e-05, 2.65604279e-06]),\n",
       " array([ 9.75080589e-06,  1.24766139e-05,  5.59205750e-05, ...,\n",
       "         9.25734131e-05,  8.73113139e-07, -9.16909353e-06]),\n",
       " array([ 1.25353503e-05,  3.86540491e-06, -1.02087260e-04, ...,\n",
       "         1.77871205e-05, -1.20775883e-05, -5.70066285e-06]),\n",
       " array([ 3.72834489e-06,  7.12744247e-06,  8.90710755e-05, ...,\n",
       "        -5.50331862e-05, -9.11169298e-06, -1.13037339e-05]),\n",
       " array([ 1.04709234e-05,  1.18250251e-05,  2.59489663e-05, ...,\n",
       "         8.24866689e-05, -2.06467855e-06, -1.14971787e-05]),\n",
       " array([9.21756200e-06, 1.26673563e-05, 7.37139830e-05, ...,\n",
       "        9.01463429e-05, 1.25398457e-05, 7.21644932e-06]),\n",
       " array([ 1.24849696e-05, -4.43895418e-06, -9.81572193e-05, ...,\n",
       "         5.92558039e-05, -1.18425431e-05, -2.37365757e-06]),\n",
       " array([ 1.03352080e-05,  1.19885529e-05,  3.21395222e-05, ...,\n",
       "        -1.03802663e-04, -2.38454161e-06,  8.76801770e-06]),\n",
       " array([7.59545891e-06, 1.21677705e-05, 1.07069931e-04, ...,\n",
       "        3.13313067e-05, 1.00924493e-05, 1.26865240e-05]),\n",
       " array([ 1.26121437e-05,  2.73702015e-06, -1.08159873e-04, ...,\n",
       "        -8.33734737e-05, -9.62231043e-06,  7.17585024e-06]),\n",
       " array([ 1.51341678e-06,  3.00522095e-06,  4.00856204e-05, ...,\n",
       "        -5.21594692e-05, -4.40803527e-06, -2.95742815e-06]),\n",
       " array([ 1.22273130e-05,  6.52350687e-06, -7.87194055e-05, ...,\n",
       "         5.04210603e-05,  1.24650557e-05,  1.04781756e-06]),\n",
       " array([ 1.18769770e-05,  8.35194717e-06, -5.40328013e-05, ...,\n",
       "        -1.12282087e-04, -2.23036983e-06,  1.09078028e-05]),\n",
       " array([9.36344667e-06, 1.26362721e-05, 6.92041359e-05, ...,\n",
       "        4.55688663e-05, 1.20020174e-05, 1.11337295e-05]),\n",
       " array([ 1.26220082e-05, -2.55293862e-06, -1.08947151e-04, ...,\n",
       "         1.13374680e-04, -2.77010524e-06, -1.20373289e-05]),\n",
       " array([ 1.26840213e-05, -5.54509200e-07, -1.13934163e-04, ...,\n",
       "         5.83523944e-05, -1.10442302e-05, -6.00099652e-06]),\n",
       " array([ 1.26298553e-05,  2.39585419e-06, -1.09574599e-04, ...,\n",
       "         3.92218691e-05, -1.14479511e-05, -6.52978261e-06]),\n",
       " array([ 1.26865806e-05, -2.18841009e-07, -1.14141389e-04, ...,\n",
       "        -1.12874582e-04,  2.02080277e-06,  1.25071861e-05]),\n",
       " array([ 1.11801972e-05,  1.05695303e-05, -1.06914482e-05, ...,\n",
       "         8.14196192e-05,  1.21145921e-05,  2.40595781e-06]),\n",
       " array([2.73757000e-06, 5.34616071e-06, 6.93234813e-05, ...,\n",
       "        1.14123473e-04, 1.22962558e-05, 1.13323646e-05]),\n",
       " array([7.94319021e-06, 1.23874646e-05, 1.02372919e-04, ...,\n",
       "        1.08961294e-04, 1.18145435e-05, 6.31764899e-06]),\n",
       " array([ 1.20049145e-05,  7.76680310e-06, -6.28182041e-05, ...,\n",
       "         1.14159388e-04,  3.87740762e-06, -1.01762445e-05]),\n",
       " array([ 1.23364299e-05, -5.76039938e-06, -8.68169714e-05, ...,\n",
       "         8.23565006e-05, -1.06811346e-05, -4.16355972e-06]),\n",
       " array([ 9.59120684e-06,  1.25566213e-05,  6.16270108e-05, ...,\n",
       "        -2.45927171e-05, -1.11548352e-05, -1.18710766e-05]),\n",
       " array([ 7.17487007e-06,  1.18346586e-05,  1.11109535e-04, ...,\n",
       "        -1.14157702e-04, -1.06019284e-05, -4.80283481e-06]),\n",
       " array([ 1.15540446e-05,  9.54543909e-06, -3.30111196e-05, ...,\n",
       "         3.81359508e-05, -9.14012736e-06, -1.17886390e-05]),\n",
       " array([ 1.01648132e-05,  1.21652948e-05,  3.95506671e-05, ...,\n",
       "        -1.01267457e-04, -2.03792904e-06,  8.81331756e-06]),\n",
       " array([ 1.26864035e-05, -2.56650475e-07, -1.14127041e-04, ...,\n",
       "         1.09314460e-04, -3.78665799e-06, -1.20698566e-05]),\n",
       " array([ 2.30294157e-06,  4.52936759e-06,  5.94457314e-05, ...,\n",
       "        -9.38431189e-07,  2.20032238e-06,  4.43181240e-06]),\n",
       " array([ 1.22992783e-05, -6.03517163e-06, -8.40379046e-05, ...,\n",
       "        -9.65144869e-05, -3.94052316e-06,  1.26577824e-05]),\n",
       " array([ 1.03364703e-05,  1.19871277e-05,  3.20831254e-05, ...,\n",
       "        -7.89248124e-05,  2.38436560e-06,  1.15348513e-05]),\n",
       " array([2.09241874e-06, 4.12753041e-06, 5.44445353e-05, ...,\n",
       "        6.19790704e-05, 8.54980354e-06, 9.97864910e-06]),\n",
       " array([ 7.91868637e-06,  1.23737488e-05,  1.02745459e-04, ...,\n",
       "         9.86074662e-05,  4.56832795e-06, -3.81828110e-06]),\n",
       " array([ 1.25211179e-05,  4.03693257e-06, -1.00972722e-04, ...,\n",
       "        -1.36884758e-05,  1.21856206e-05,  5.44975811e-06]),\n",
       " array([ 8.12894979e-07,  1.62244933e-06,  2.18272869e-05, ...,\n",
       "         1.39557865e-05,  7.40709009e-07, -7.23213666e-08]),\n",
       " array([ 1.26870204e-05, -5.70883502e-08, -1.14177009e-04, ...,\n",
       "        -2.75934822e-05, -1.23040683e-05,  3.12141136e-06]),\n",
       " array([ 9.08579624e-06,  1.26828511e-05,  7.75609874e-05, ...,\n",
       "        -7.45336655e-05,  1.10268096e-06,  9.82102949e-06]),\n",
       " array([ 4.99648626e-06,  9.18539219e-06,  1.07003377e-04, ...,\n",
       "        -5.07149484e-05, -7.03209375e-07,  4.34242565e-06]),\n",
       " array([9.19386516e-06, 1.26710060e-05, 7.44215797e-05, ...,\n",
       "        1.06967215e-04, 1.14062185e-05, 3.83442808e-06]),\n",
       " array([ 7.13895067e-06,  1.18030280e-05,  1.11374181e-04, ...,\n",
       "        -3.16264219e-05, -9.76466149e-06, -1.26300238e-05]),\n",
       " array([ 1.06021832e-05,  1.16461292e-05,  1.97154916e-05, ...,\n",
       "        -7.57812581e-05,  3.30562868e-06,  1.20515427e-05]),\n",
       " array([5.75426809e-06, 1.02567367e-05, 1.12747522e-04, ...,\n",
       "        3.75949609e-05, 9.15638489e-06, 1.21435052e-05]),\n",
       " array([ 3.41486378e-06,  6.57767720e-06,  8.32921250e-05, ...,\n",
       "        -3.61339808e-05, -7.10620139e-06, -9.67287298e-06]),\n",
       " array([ 1.08284371e-05,  1.12851365e-05,  8.39366090e-06, ...,\n",
       "        -4.68335441e-05, -1.25873033e-05, -7.91428135e-06]),\n",
       " array([ 1.10257789e-05,  1.09091480e-05, -2.08818139e-06, ...,\n",
       "         1.07617313e-04,  2.23163904e-06, -9.74985110e-06]),\n",
       " array([ 1.23166132e-05,  5.90909446e-06, -8.53317792e-05, ...,\n",
       "        -1.04983802e-04,  2.04433587e-06,  1.26460647e-05]),\n",
       " array([ 1.18666527e-05,  8.39592961e-06, -5.33352509e-05, ...,\n",
       "        -2.13580505e-05,  1.08176503e-05,  1.00269333e-05]),\n",
       " array([ 1.25008089e-05,  4.26819003e-06, -9.93882051e-05, ...,\n",
       "        -6.65437230e-05, -1.14206425e-05,  3.49461172e-06]),\n",
       " array([ 1.26867270e-05,  1.81779146e-07, -1.14153239e-04, ...,\n",
       "         1.13860451e-04,  1.03855492e-06, -1.26367085e-05]),\n",
       " array([ 1.23671174e-05, -5.51961392e-06, -8.91297277e-05, ...,\n",
       "        -9.53477619e-05, -4.43947815e-06,  1.25759541e-05]),\n",
       " array([ 1.31977284e-06,  2.62522525e-06,  3.51185418e-05, ...,\n",
       "        -2.78645274e-05, -4.35923495e-06, -5.57500593e-06]),\n",
       " array([ 1.22067479e-05,  6.65385332e-06, -7.72152004e-05, ...,\n",
       "        -2.48017333e-05,  1.11641925e-05,  8.84140158e-06]),\n",
       " array([ 6.11244013e-07,  1.22106840e-06,  1.64519548e-05, ...,\n",
       "        -6.77897257e-05, -7.03184476e-06, -6.51491131e-06]),\n",
       " array([ 7.16237349e-06,  1.18237088e-05,  1.11203013e-04, ...,\n",
       "         1.00636469e-04,  5.84637995e-06, -1.53095304e-06]),\n",
       " array([ 6.50492342e-06,  1.11696696e-05,  1.14067801e-04, ...,\n",
       "        -1.14100428e-04, -1.06427648e-05, -5.59654442e-06]),\n",
       " array([ 1.21668257e-05,  6.89667909e-06, -7.43149127e-05, ...,\n",
       "        -2.64331624e-06,  1.20803206e-05,  7.14135607e-06]),\n",
       " array([ 1.06499099e-05,  1.15757216e-05,  1.73883611e-05, ...,\n",
       "         1.08889153e-04,  3.37127498e-06, -8.43485945e-06]),\n",
       " array([ 1.14627274e-05,  9.82567042e-06, -2.73619238e-05, ...,\n",
       "         3.58177042e-05, -9.17838292e-06, -1.18474457e-05]),\n",
       " array([ 1.26581077e-05, -1.70911325e-06, -1.11842287e-04, ...,\n",
       "         4.30464715e-05, -1.20469832e-05, -3.15650464e-06]),\n",
       " array([ 7.84002459e-06,  1.23278687e-05,  1.03898360e-04, ...,\n",
       "        -4.23205793e-05, -1.09787297e-05, -1.25608087e-05]),\n",
       " array([3.78465557e-06, 7.22467668e-06, 9.00582575e-05, ...,\n",
       "        1.10465921e-04, 1.26729380e-05, 1.19174593e-05]),\n",
       " array([ 6.77408062e-07,  1.35288354e-06,  1.82198777e-05, ...,\n",
       "        -1.13252094e-04, -1.26522096e-05, -1.26843317e-05]),\n",
       " array([ 1.02929771e-06,  2.05180935e-06,  2.75462105e-05, ...,\n",
       "         1.65250897e-05,  8.11669723e-07, -2.18195020e-07]),\n",
       " array([ 1.15912657e-05,  9.42480676e-06, -3.53507783e-05, ...,\n",
       "        -3.12935069e-05,  9.73378714e-06,  1.13916731e-05]),\n",
       " array([ 1.26503344e-05,  1.92350024e-06, -1.11217010e-04, ...,\n",
       "         4.74839196e-05,  1.19056407e-05, -3.46590100e-06]),\n",
       " array([ 5.77501120e-06,  1.02840783e-05,  1.12845073e-04, ...,\n",
       "        -1.07888028e-04, -1.25645636e-05, -1.03868765e-05]),\n",
       " array([ 1.26695799e-05,  1.32940254e-06, -1.12766972e-04, ...,\n",
       "         9.37908625e-05, -6.67877070e-06, -1.11223543e-05]),\n",
       " array([ 1.17602301e-05,  8.82467331e-06, -4.62435667e-05, ...,\n",
       "        -6.64934802e-05,  6.78819820e-06,  1.24821610e-05]),\n",
       " array([ 2.76152558e-06,  5.39062810e-06,  6.98487479e-05, ...,\n",
       "        -4.65659478e-05, -2.52867929e-06,  2.38068081e-07]),\n",
       " array([ 1.25534344e-05,  3.63423799e-06, -1.03508352e-04, ...,\n",
       "        -1.03673959e-04,  3.59229525e-06,  1.25596933e-05]),\n",
       " array([ 1.26388817e-05, -2.20065889e-06, -1.10297631e-04, ...,\n",
       "         1.05294420e-04, -5.90672735e-06, -1.06713073e-05]),\n",
       " array([8.74004210e-07, 1.74385567e-06, 2.34479991e-05, ...,\n",
       "        1.01093405e-04, 1.16125755e-05, 1.19369944e-05]),\n",
       " array([ 1.25896283e-05,  3.11441020e-06, -1.06369097e-04, ...,\n",
       "         1.13202586e-04, -8.76171451e-08, -1.26001654e-05]),\n",
       " array([ 1.15609640e-05,  9.52330491e-06, -3.34444329e-05, ...,\n",
       "        -6.15434553e-05,  6.92127321e-06,  1.25397684e-05]),\n",
       " array([ 1.16790425e-05,  9.12434903e-06, -4.09537355e-05, ...,\n",
       "         2.95182928e-05,  1.25632410e-05,  6.53521520e-06]),\n",
       " array([ 1.05295078e-05,  1.17477899e-05,  2.31969075e-05, ...,\n",
       "         1.14094034e-04,  6.66458911e-06, -5.24185035e-06]),\n",
       " array([ 7.67382147e-06,  1.22218801e-05,  1.06121025e-04, ...,\n",
       "        -1.14104177e-04, -9.81758688e-06, -2.95752422e-06]),\n",
       " array([ 1.25046999e-05,  4.22501055e-06, -9.96912423e-05, ...,\n",
       "         1.13465994e-04,  3.52579129e-06, -1.14164867e-05]),\n",
       " array([ 1.14613181e-05,  9.82982831e-06, -2.72757475e-05, ...,\n",
       "         8.87182325e-05, -2.98749012e-06, -1.24201433e-05]),\n",
       " array([ 1.22280038e-05,  6.51906297e-06, -7.87700492e-05, ...,\n",
       "         8.99461805e-05,  1.01963513e-05, -4.55842132e-06]),\n",
       " array([ 1.08159283e-05,  1.13069597e-05,  9.03888986e-06, ...,\n",
       "        -6.42471185e-05,  5.20976854e-06,  1.25850966e-05]),\n",
       " array([ 5.58345565e-06,  1.00273644e-05,  1.11818997e-04, ...,\n",
       "        -1.12574190e-04, -1.02991881e-05, -5.98771255e-06]),\n",
       " array([8.16402322e-06, 1.24983425e-05, 9.87244070e-05, ...,\n",
       "        6.74220061e-05, 1.23231828e-05, 1.13740326e-05]),\n",
       " array([ 4.42661408e-06,  8.29686459e-06,  1.00115449e-04, ...,\n",
       "        -2.67615632e-05,  1.51657249e-06,  5.81614062e-06]),\n",
       " array([ 1.25437118e-05, -3.76049743e-06, -1.02743646e-04, ...,\n",
       "        -3.59872752e-06, -1.24775408e-05,  4.14053204e-06]),\n",
       " array([ 1.75513103e-06,  3.47651001e-06,  4.61777433e-05, ...,\n",
       "        -9.66802209e-05, -1.15730646e-05, -1.21809632e-05]),\n",
       " array([ 2.75638425e-06,  5.38108970e-06,  6.97361942e-05, ...,\n",
       "        -1.11012462e-04, -1.13957901e-05, -9.91204193e-06]),\n",
       " array([5.82052085e-06, 1.03436677e-05, 1.13047397e-04, ...,\n",
       "        7.32779861e-05, 1.16985325e-05, 1.26472287e-05]),\n",
       " array([ 1.06382767e-05,  1.15931553e-05,  1.79585852e-05, ...,\n",
       "        -1.10197543e-04, -9.45682937e-06,  1.93892305e-06]),\n",
       " array([ 1.13294839e-05,  1.01980110e-05, -1.93488584e-05, ...,\n",
       "         4.72776402e-05,  1.26769427e-05,  6.15765048e-06]),\n",
       " array([ 1.26828750e-05, -6.50887423e-07, -1.13841391e-04, ...,\n",
       "        -1.14169535e-04,  1.57039011e-07,  1.26778738e-05]),\n",
       " array([3.22243344e-06, 6.23351282e-06, 7.95190278e-05, ...,\n",
       "        2.93332062e-05, 6.26674616e-06, 8.86311146e-06]),\n",
       " array([ 1.17044943e-05,  9.03276547e-06, -4.26009131e-05, ...,\n",
       "        -9.09623458e-05,  3.17445251e-06,  1.25571047e-05]),\n",
       " array([ 9.71244716e-06,  1.24977481e-05,  5.73223045e-05, ...,\n",
       "        -1.07962024e-04, -1.08795069e-05, -2.00330664e-06]),\n",
       " array([ 1.24980095e-05,  4.29894541e-06, -9.91703406e-05, ...,\n",
       "         9.13214338e-05,  9.24721547e-06, -6.96640082e-06]),\n",
       " array([ 2.07617206e-06,  4.09636762e-06,  5.40532457e-05, ...,\n",
       "        -8.61886495e-05, -1.08094905e-05, -1.17507014e-05]),\n",
       " array([ 1.25342331e-05, -3.87917954e-06, -1.01999654e-04, ...,\n",
       "         1.12747881e-04,  4.00946513e-08, -1.25403749e-05]),\n",
       " array([1.03181623e-05, 1.20076281e-05, 3.28989263e-05, ...,\n",
       "        5.36190641e-06, 1.06534489e-05, 1.18020260e-05]),\n",
       " array([ 1.01339917e-05,  1.21940547e-05,  4.08487237e-05, ...,\n",
       "         6.30799964e-05, -4.23008311e-06, -1.20991105e-05]),\n",
       " array([ 1.15531828e-05,  9.54818661e-06, -3.29572045e-05, ...,\n",
       "         7.37950580e-05, -5.42762222e-06, -1.26854143e-05]),\n",
       " array([ 8.47893556e-06,  1.26146082e-05,  9.25938602e-05, ...,\n",
       "        -8.40180274e-05, -1.26861469e-05, -9.53827034e-06]),\n",
       " array([ 1.26063963e-05,  2.83846316e-06, -1.07701933e-04, ...,\n",
       "         1.07042545e-04,  5.72612165e-06, -1.06047218e-05]),\n",
       " array([ 1.18208526e-05,  8.58578954e-06, -5.02612527e-05, ...,\n",
       "         4.26425878e-05, -9.24477770e-06, -1.14529457e-05]),\n",
       " array([ 1.16336506e-05,  9.28261607e-06, -3.80412680e-05, ...,\n",
       "        -8.60466516e-05,  3.83264310e-06,  1.26191701e-05]),\n",
       " array([ 1.20889589e-05,  7.33598540e-06, -6.87328081e-05, ...,\n",
       "        -9.74046170e-05, -9.59164128e-06,  5.00257200e-06]),\n",
       " array([4.12457380e-06, 7.80104806e-06, 9.56668120e-05, ...,\n",
       "        6.49111579e-05, 1.02140182e-05, 1.21057761e-05]),\n",
       " array([ 1.04901080e-05,  1.18001867e-05,  2.50530753e-05, ...,\n",
       "         1.05542423e-04,  2.59361878e-06, -8.80980447e-06]),\n",
       " array([2.24365010e-06, 4.41657405e-06, 5.80505127e-05, ...,\n",
       "        9.89442529e-05, 9.70117545e-06, 8.10236480e-06]),\n",
       " array([9.65327950e-06, 1.25279639e-05, 5.94468708e-05, ...,\n",
       "        9.88616660e-05, 1.19578128e-05, 4.53377121e-06]),\n",
       " array([2.90957683e-06, 5.66405988e-06, 7.30471318e-05, ...,\n",
       "        8.36688737e-05, 1.10289312e-05, 1.21731138e-05]),\n",
       " array([ 1.16207420e-05,  9.32647955e-06, -3.72188958e-05, ...,\n",
       "        -1.95799689e-05,  1.05755551e-05,  1.06632677e-05]),\n",
       " array([ 1.26683173e-05,  1.37642723e-06, -1.12665090e-04, ...,\n",
       "        -1.06953919e-04, -5.08065258e-06,  1.13321521e-05]),\n",
       " array([8.43811871e-06, 1.26024502e-05, 9.34512170e-05, ...,\n",
       "        7.71864510e-05, 1.26226022e-05, 1.02754733e-05]),\n",
       " array([ 1.07362296e-05,  1.14407330e-05,  1.30966791e-05, ...,\n",
       "        -1.13409405e-04, -7.95910692e-06,  4.12009372e-06]),\n",
       " array([4.90393830e-06, 9.04557354e-06, 1.06026317e-04, ...,\n",
       "        9.19152574e-05, 1.23286933e-05, 1.25277749e-05]),\n",
       " array([ 1.24866401e-05,  4.42130632e-06, -9.82868535e-05, ...,\n",
       "         9.35886738e-05, -5.31187134e-06, -1.22799364e-05]),\n",
       " array([ 1.17817016e-05,  8.74161508e-06, -4.76599180e-05, ...,\n",
       "         6.07108849e-06, -1.15147747e-05, -9.21815273e-06]),\n",
       " array([ 9.05494382e-06,  1.26848153e-05,  7.84310498e-05, ...,\n",
       "        -9.91254822e-05, -1.22087445e-05, -6.08857051e-06]),\n",
       " array([ 1.21005420e-05,  7.27326108e-06, -6.95569369e-05, ...,\n",
       "        -1.12502755e-04, -5.82310305e-06,  9.00064211e-06]),\n",
       " array([ 5.37959364e-06,  9.74407660e-06,  1.10425238e-04, ...,\n",
       "        -2.10382412e-05, -7.40459324e-06, -1.10743039e-05]),\n",
       " array([ 4.00965754e-06,  7.60828330e-06,  9.38396501e-05, ...,\n",
       "        -1.14083211e-04, -1.21913424e-05, -1.04566036e-05]),\n",
       " array([ 1.24507946e-05, -4.78325527e-06, -9.55155556e-05, ...,\n",
       "        -1.44468439e-05, -1.20423807e-05,  6.23161298e-06]),\n",
       " array([ 1.04327865e-05,  1.18731121e-05,  2.77145547e-05, ...,\n",
       "        -8.73590568e-06, -1.09545559e-05, -1.14962267e-05]),\n",
       " array([ 1.26122674e-05, -2.73479324e-06, -1.08169733e-04, ...,\n",
       "        -9.70901853e-05,  7.80686357e-06,  9.09535452e-06]),\n",
       " array([ 1.10305144e-06,  2.19774899e-06,  2.94812208e-05, ...,\n",
       "        -1.59993428e-05, -2.86320165e-06, -3.92695411e-06]),\n",
       " array([ 1.26860506e-05,  3.18861187e-07, -1.14098465e-04, ...,\n",
       "         9.50263537e-05, -6.90039367e-06, -1.07322809e-05]),\n",
       " array([ 1.18678017e-05,  8.39105696e-06, -5.34127963e-05, ...,\n",
       "         4.19262866e-05,  1.26856894e-05,  4.31070560e-06]),\n",
       " array([2.17334539e-06, 4.28243879e-06, 5.63824422e-05, ...,\n",
       "        8.79316484e-05, 8.23970474e-06, 6.46530017e-06]),\n",
       " array([ 1.25698887e-05, -3.40869253e-06, -1.04806154e-04, ...,\n",
       "         4.39671518e-05, -1.22630011e-05, -1.55993337e-06]),\n",
       " array([ 1.26785210e-05,  9.29765021e-07, -1.13489200e-04, ...,\n",
       "        -7.22168805e-05,  9.52620698e-06,  8.72296294e-06]),\n",
       " array([1.03217683e-05, 1.20036193e-05, 3.27386114e-05, ...,\n",
       "        1.02944167e-04, 1.11161579e-05, 1.48882079e-06]),\n",
       " array([ 1.26333069e-05, -2.32323283e-06, -1.09850917e-04, ...,\n",
       "         2.45638300e-05,  1.20865289e-05, -4.95208853e-06]),\n",
       " array([3.43105399e-06, 6.60640904e-06, 8.36019706e-05, ...,\n",
       "        1.13956549e-05, 4.63296693e-06, 7.65443575e-06]),\n",
       " array([ 2.58655158e-06,  5.06445391e-06,  6.59643626e-05, ...,\n",
       "        -9.74060699e-06,  1.51752782e-06,  4.05363750e-06]),\n",
       " array([4.57242013e-06, 8.53028561e-06, 1.02071314e-04, ...,\n",
       "        1.13089941e-04, 1.10913154e-05, 8.12593209e-06]),\n",
       " array([ 9.37212568e-06,  1.26339456e-05,  6.89274486e-05, ...,\n",
       "         5.43793799e-05, -4.16829116e-06, -1.16613566e-05]),\n",
       " array([5.91893328e-06, 1.04706356e-05, 1.13429431e-04, ...,\n",
       "        1.02916516e-04, 1.26781509e-05, 1.09921850e-05]),\n",
       " array([ 1.14193015e-05,  9.95156884e-06, -2.47205108e-05, ...,\n",
       "        -1.00819356e-04, -1.02414743e-05,  2.27740093e-06]),\n",
       " array([ 1.25855250e-05,  3.17802522e-06, -1.06043665e-04, ...,\n",
       "         8.63733563e-05, -7.01956663e-06, -1.13699053e-05]),\n",
       " array([ 3.46531939e-06,  6.66709978e-06,  8.42537491e-05, ...,\n",
       "        -6.63782513e-08,  3.45822366e-06,  6.66082355e-06]),\n",
       " array([ 1.22265481e-05,  6.52842294e-06, -7.86633318e-05, ...,\n",
       "        -4.60419533e-06,  1.20800195e-05,  6.96177786e-06]),\n",
       " array([ 3.24177114e-06,  6.26831642e-06,  7.99055891e-05, ...,\n",
       "        -6.35842872e-05, -9.52322008e-06, -1.13490201e-05]),\n",
       " array([9.55621330e-06, 1.25714321e-05, 6.28341884e-05, ...,\n",
       "        4.25279354e-05, 1.19768531e-05, 1.10303568e-05]),\n",
       " array([ 1.26870323e-05, -4.53077326e-08, -1.14177972e-04, ...,\n",
       "         8.01967900e-05, -9.04664374e-06, -8.87874869e-06]),\n",
       " array([ 1.26867003e-05,  1.89076984e-07, -1.14151079e-04, ...,\n",
       "         8.67040713e-05,  8.32657238e-06, -9.51001608e-06]),\n",
       " array([ 1.26622985e-05, -1.58120409e-06, -1.12179816e-04, ...,\n",
       "        -9.48273023e-05, -6.39506176e-06,  1.13353065e-05]),\n",
       " array([ 4.33523192e-07,  8.66540044e-07,  1.16865079e-05, ...,\n",
       "        -1.20701088e-05, -9.09291270e-07, -4.76351942e-07]),\n",
       " array([ 1.23885707e-05,  5.34287826e-06, -9.07558275e-05, ...,\n",
       "        -3.18686520e-05, -1.26598283e-05, -1.91878369e-06]),\n",
       " array([ 1.23324995e-05, -5.79029542e-06, -8.65218854e-05, ...,\n",
       "        -9.80092555e-05,  8.88336996e-06,  6.71940889e-06]),\n",
       " array([ 1.14745234e-05,  9.79067490e-06, -2.80844304e-05, ...,\n",
       "         1.10868821e-04,  7.99884008e-06, -5.49413799e-06]),\n",
       " array([ 1.25053264e-05,  4.21800923e-06, -9.97400664e-05, ...,\n",
       "         9.83570976e-05, -4.50813000e-06, -1.24495149e-05]),\n",
       " array([3.18981378e-06, 6.17469713e-06, 7.88633003e-05, ...,\n",
       "        7.25792323e-05, 1.02680167e-05, 1.18117299e-05]),\n",
       " array([ 1.18670186e-05,  8.39437848e-06, -5.33599435e-05, ...,\n",
       "        -9.75854643e-07,  1.18282344e-05,  8.47537564e-06]),\n",
       " array([5.56500181e-06, 1.00021411e-05, 1.11705479e-04, ...,\n",
       "        1.10411765e-04, 1.24429835e-05, 1.00957504e-05]),\n",
       " array([ 1.26691608e-05, -1.34519507e-06, -1.12733154e-04, ...,\n",
       "         8.18177726e-05, -9.31956625e-06, -8.10163173e-06]),\n",
       " array([ 5.31146471e-06,  9.64717689e-06,  1.09892010e-04, ...,\n",
       "         3.29498837e-05, -1.76056735e-06, -6.85892844e-06]),\n",
       " array([ 1.25699633e-05,  3.40763232e-06, -1.04812049e-04, ...,\n",
       "         5.38209580e-05,  1.18965015e-05, -2.75524741e-06]),\n",
       " array([ 8.75241463e-06,  1.26723314e-05,  8.63559878e-05, ...,\n",
       "        -4.92816744e-05,  3.93097680e-06,  1.11674580e-05]),\n",
       " array([ 1.05606684e-05,  1.17050081e-05,  2.17133734e-05, ...,\n",
       "        -1.07442091e-04, -3.04198565e-06,  8.56680289e-06]),\n",
       " array([ 1.21890958e-05,  6.76282468e-06, -7.59295873e-05, ...,\n",
       "         1.06447591e-04,  7.69040592e-06, -7.56107471e-06]),\n",
       " array([ 6.28136733e-06,  1.09149518e-05,  1.14163219e-04, ...,\n",
       "        -6.88336052e-05, -1.16568346e-05, -1.26073099e-05]),\n",
       " array([ 1.10311130e-05,  1.08981148e-05, -2.37945487e-06, ...,\n",
       "        -6.85112141e-05, -1.25850566e-05, -4.82070839e-06]),\n",
       " array([ 7.83815885e-06,  1.23267466e-05,  1.03924912e-04, ...,\n",
       "         3.69037381e-06, -7.51162523e-06, -1.22232762e-05]),\n",
       " array([ 1.26776074e-05,  9.78196830e-07, -1.13415335e-04, ...,\n",
       "         1.12142142e-04,  2.86500873e-06, -1.22395972e-05]),\n",
       " array([ 1.53948001e-06,  3.05620861e-06,  4.07485570e-05, ...,\n",
       "        -9.23926762e-05, -1.10948630e-05, -1.17595589e-05]),\n",
       " array([ 1.21793600e-05,  6.82182646e-06, -7.52227090e-05, ...,\n",
       "         1.12864033e-04,  5.35568060e-06, -9.54108234e-06]),\n",
       " array([ 1.23397962e-05, -5.73463039e-06, -8.70699070e-05, ...,\n",
       "        -1.97271853e-05,  1.26635621e-05, -3.69310936e-06]),\n",
       " array([ 1.24723565e-05,  4.56961892e-06, -9.71799781e-05, ...,\n",
       "         9.46332439e-05,  8.90492374e-06, -7.25257685e-06]),\n",
       " array([ 7.21159476e-06,  1.18664979e-05,  1.10826113e-04, ...,\n",
       "        -1.50368241e-05,  5.77414247e-06,  1.11720211e-05]),\n",
       " array([ 6.31193768e-06,  1.09506835e-05,  1.14175370e-04, ...,\n",
       "        -5.25620251e-05, -1.06696820e-05, -1.26705824e-05]),\n",
       " array([ 1.23312052e-05, -5.80009614e-06, -8.64247638e-05, ...,\n",
       "        -8.62060261e-06,  1.25212823e-05, -4.93162353e-06]),\n",
       " array([ 1.26729040e-05,  1.19667405e-06, -1.13035318e-04, ...,\n",
       "         1.06105890e-04,  5.23741987e-06, -1.12953843e-05]),\n",
       " array([ 1.16956097e-05,  9.06497314e-06, -4.20247701e-05, ...,\n",
       "         1.11930412e-04,  7.12983369e-06, -6.91097834e-06]),\n",
       " array([ 1.22899601e-05, -6.10148868e-06, -8.33444476e-05, ...,\n",
       "        -1.09393954e-04, -5.03496129e-07,  1.24052613e-05]),\n",
       " array([ 1.25037686e-05,  4.23539158e-06, -9.96186896e-05, ...,\n",
       "         5.50350210e-05,  1.19911151e-05, -2.05346837e-06]),\n",
       " array([ 9.05500943e-06,  1.26848117e-05,  7.84292118e-05, ...,\n",
       "        -1.00034070e-04, -1.21509746e-05, -5.90655665e-06]),\n",
       " array([ 8.00292683e-06,  1.24197371e-05,  1.01437867e-04, ...,\n",
       "         1.02044287e-04,  5.20785395e-06, -3.25657244e-06]),\n",
       " array([ 1.10905706e-05,  1.07718271e-05, -5.65474410e-06, ...,\n",
       "        -3.03650160e-05,  9.05267418e-06,  1.21665048e-05]),\n",
       " array([7.36740453e-06, 1.19958403e-05, 1.09477705e-04, ...,\n",
       "        1.13960074e-04, 1.07655153e-05, 4.86609255e-06]),\n",
       " array([ 9.68987665e-06,  1.25096127e-05,  5.81381238e-05, ...,\n",
       "        -1.13218654e-04, -9.37506922e-06,  4.77079098e-07]),\n",
       " array([9.53211311e-06, 1.25810773e-05, 6.36564418e-05, ...,\n",
       "        3.51743562e-05, 1.16478033e-05, 1.14651031e-05]),\n",
       " array([ 6.52487028e-06,  1.11916424e-05,  1.14038309e-04, ...,\n",
       "         6.80692341e-05,  1.24797059e-06, -5.42294959e-06]),\n",
       " array([ 1.23592928e-05, -5.58229606e-06, -8.85385433e-05, ...,\n",
       "        -7.84310323e-05, -7.01392183e-06,  1.18828175e-05]),\n",
       " array([ 5.12901978e-06,  9.38240119e-06,  1.08302308e-04, ...,\n",
       "        -5.41910344e-05, -9.92895752e-07,  4.20514777e-06]),\n",
       " array([ 6.86302763e-06,  1.15443873e-05,  1.12999593e-04, ...,\n",
       "         6.68197212e-05,  6.79487187e-07, -6.28169049e-06]),\n",
       " array([9.55520242e-06, 1.25718457e-05, 6.28688273e-05, ...,\n",
       "        1.30815062e-05, 1.04485064e-05, 1.22936220e-05]),\n",
       " array([5.30643243e-06, 9.63997627e-06, 1.09851306e-04, ...,\n",
       "        1.08527695e-04, 9.30473791e-06, 4.84449167e-06]),\n",
       " array([ 7.43711622e-06,  1.20506318e-05,  1.08796995e-04, ...,\n",
       "        -7.40441458e-05, -1.23268991e-05, -1.17463205e-05]),\n",
       " array([ 1.23810527e-05,  5.40565318e-06, -9.01851134e-05, ...,\n",
       "        -5.96212049e-05, -1.20052893e-05,  1.38321016e-06]),\n",
       " array([ 1.46915868e-06,  2.91855004e-06,  3.89567363e-05, ...,\n",
       "        -1.06895153e-04, -1.23140900e-05, -1.25848545e-05]),\n",
       " array([ 1.68410671e-06,  3.33840677e-06,  4.44010874e-05, ...,\n",
       "        -1.03193779e-04, -1.20856696e-05, -1.24910741e-05]),\n",
       " array([ 1.22931916e-05,  6.07860168e-06, -8.35847781e-05, ...,\n",
       "         9.51328556e-05,  9.41148184e-06, -5.91698928e-06]),\n",
       " array([ 1.24283331e-05, -4.99420762e-06, -9.37899507e-05, ...,\n",
       "        -1.03042972e-04, -3.05324025e-06,  1.26765220e-05]),\n",
       " array([8.78563008e-07, 1.75290790e-06, 2.35687338e-05, ...,\n",
       "        1.08736156e-04, 1.17851642e-05, 1.14315422e-05]),\n",
       " array([ 9.11136522e-06,  1.26807507e-05,  7.68311297e-05, ...,\n",
       "        -6.66864420e-05,  2.23952897e-06,  1.05267218e-05]),\n",
       " array([ 3.62870020e-06,  6.95422132e-06,  8.72854818e-05, ...,\n",
       "        -1.09165554e-04, -1.26867065e-05, -1.21835182e-05]),\n",
       " array([ 1.25466711e-05, -3.72257316e-06, -1.02976234e-04, ...,\n",
       "        -3.07583907e-05,  1.25898640e-05, -3.17673804e-07]),\n",
       " array([ 1.19675012e-05,  7.94606687e-06, -6.02218920e-05, ...,\n",
       "         6.60455860e-05,  1.21985460e-05,  7.60827110e-07]),\n",
       " array([ 6.88066457e-06,  1.15617281e-05,  1.12916972e-04, ...,\n",
       "        -1.40695364e-05,  5.51477480e-06,  1.08299289e-05]),\n",
       " array([ 2.67556018e-06,  5.23077370e-06,  6.79540650e-05, ...,\n",
       "        -6.53497905e-07, -2.74649661e-06, -5.29684253e-06]),\n",
       " array([ 1.26818453e-05,  7.26619896e-07, -1.13758067e-04, ...,\n",
       "        -1.09463879e-04, -3.95545113e-06,  1.19364329e-05]),\n",
       " array([1.00405197e-05, 1.22755403e-05, 4.47065001e-05, ...,\n",
       "        9.13174960e-05, 1.22300791e-05, 4.80576410e-06]),\n",
       " array([ 1.06909290e-05,  1.15128253e-05,  1.53622837e-05, ...,\n",
       "         7.04352544e-05, -4.20032198e-06, -1.23496381e-05]),\n",
       " array([ 1.26791893e-05, -8.92670011e-07, -1.13543231e-04, ...,\n",
       "         6.42245989e-05,  1.02320139e-05, -7.85668621e-06]),\n",
       " array([ 1.21871824e-05,  6.77448113e-06, -7.57905396e-05, ...,\n",
       "         4.72355981e-07,  1.22016657e-05,  6.73004619e-06]),\n",
       " array([ 1.21058989e-05,  7.24395773e-06, -6.99388073e-05, ...,\n",
       "         1.11642598e-04,  6.24928748e-06, -8.66568874e-06]),\n",
       " array([6.61048847e-06, 1.12845134e-05, 1.13872023e-04, ...,\n",
       "        9.78721011e-05, 1.26867384e-05, 1.07820026e-05]),\n",
       " array([ 6.51082194e-06,  1.11761803e-05,  1.14059442e-04, ...,\n",
       "        -3.81195184e-05,  2.50190027e-06,  8.53029337e-06]),\n",
       " array([ 1.08880372e-05,  1.11779706e-05,  5.28810606e-06, ...,\n",
       "        -1.14171539e-04, -6.38252717e-06,  6.13367070e-06]),\n",
       " array([ 1.26285791e-05, -2.42212990e-06, -1.09472482e-04, ...,\n",
       "         5.14447204e-05, -1.18223013e-05, -3.44878560e-06]),\n",
       " array([ 1.20187683e-05,  7.69855962e-06, -6.37853050e-05, ...,\n",
       "         4.03915160e-05, -9.80420185e-06, -1.07681286e-05]),\n",
       " array([ 8.83028878e-06,  1.26808974e-05,  8.44202516e-05, ...,\n",
       "        -5.87780880e-05,  2.88080395e-06,  1.06681507e-05]),\n",
       " array([ 1.00497159e-05,  1.22678991e-05,  4.43321932e-05, ...,\n",
       "        -4.44150480e-05, -1.22704424e-05, -1.00436142e-05]),\n",
       " array([ 1.01873848e-05,  1.21436243e-05,  3.85918394e-05, ...,\n",
       "        -8.27766693e-05,  1.53492435e-06,  1.10273881e-05]),\n",
       " array([ 1.26804650e-05, -8.17157437e-07, -1.13646405e-04, ...,\n",
       "         3.47846562e-05,  1.19531593e-05, -4.63538079e-06]),\n",
       " array([ 8.14626104e-06,  1.24902904e-05,  9.90374317e-05, ...,\n",
       "         2.85769966e-05, -5.45269801e-06, -1.15357024e-05]),\n",
       " array([ 1.11564453e-05,  1.06245848e-05, -9.34497407e-06, ...,\n",
       "        -1.14061922e-04, -6.54129267e-06,  6.44452562e-06]),\n",
       " array([ 1.24859344e-05, -4.42877183e-06, -9.82320830e-05, ...,\n",
       "         1.13799542e-04, -3.26047697e-06, -1.14883274e-05]),\n",
       " array([ 7.46372402e-06,  1.20710318e-05,  1.08524416e-04, ...,\n",
       "        -1.48650238e-05, -8.73586306e-06, -1.24767287e-05]),\n",
       " array([5.84934754e-06, 1.03811283e-05, 1.13167192e-04, ...,\n",
       "        5.78600654e-06, 6.41233580e-06, 1.07373803e-05]),\n",
       " array([ 8.94439171e-06,  1.26868283e-05,  8.14540101e-05, ...,\n",
       "         9.91192847e-05,  3.37102181e-06, -6.23213028e-06]),\n",
       " array([ 8.32038985e-06,  1.25624500e-05,  9.58187543e-05, ...,\n",
       "        -1.11432168e-04, -7.53297787e-06,  1.00818630e-06]),\n",
       " array([ 1.21802985e-05,  6.81617244e-06, -7.52907783e-05, ...,\n",
       "         1.03777339e-04, -1.85300685e-06, -1.25681600e-05]),\n",
       " array([ 8.27714314e-07,  1.65190181e-06,  2.22207046e-05, ...,\n",
       "        -7.22805207e-05, -7.37358216e-06, -6.68430546e-06]),\n",
       " array([ 9.97833869e-06,  1.23251063e-05,  4.72075655e-05, ...,\n",
       "         9.20236831e-05,  4.08074305e-07, -9.72115186e-06]),\n",
       " array([2.91049156e-06, 5.66574167e-06, 7.30666312e-05, ...,\n",
       "        9.51797247e-05, 1.19015109e-05, 1.25923296e-05]),\n",
       " array([ 1.23264795e-05,  5.83569297e-06, -8.60704120e-05, ...,\n",
       "        -2.94197592e-05,  1.11364664e-05,  8.54128088e-06]),\n",
       " array([ 1.05034925e-05,  1.17825973e-05,  2.44249742e-05, ...,\n",
       "        -2.07865027e-05,  9.03248908e-06,  1.24421462e-05]),\n",
       " array([4.81683987e-07, 9.62673394e-07, 1.29800326e-05, ...,\n",
       "        1.04794807e-04, 1.14446241e-05, 1.12284840e-05]),\n",
       " array([ 1.22991642e-05, -6.03598924e-06, -8.40294093e-05, ...,\n",
       "        -1.01118525e-04, -2.95505606e-06,  1.26860074e-05]),\n",
       " array([5.03974162e-06, 9.25011226e-06, 1.07440411e-04, ...,\n",
       "        1.13118887e-04, 1.22203191e-05, 9.86039660e-06]),\n",
       " array([ 1.24158581e-05, -5.10679522e-06, -9.28351924e-05, ...,\n",
       "         8.07219007e-05, -1.06256112e-05, -4.59895887e-06]),\n",
       " array([ 9.49493604e-06,  1.25950793e-05,  6.49102904e-05, ...,\n",
       "         2.23264344e-06, -9.32858108e-06, -1.26224885e-05]),\n",
       " array([ 1.25917695e-05, -3.08064956e-06, -1.06539031e-04, ...,\n",
       "        -1.14171502e-04,  1.40181031e-06,  1.23431906e-05]),\n",
       " array([2.73380959e-06, 5.33917493e-06, 6.92408361e-05, ...,\n",
       "        9.17644202e-05, 1.15836276e-05, 1.24266229e-05]),\n",
       " array([ 4.52533998e-07,  9.04492066e-07,  1.21972784e-05, ...,\n",
       "        -6.34276536e-06, -1.15616230e-06, -1.60607762e-06]),\n",
       " array([ 1.24264835e-05,  5.01109714e-06, -9.36482320e-05, ...,\n",
       "        -4.66090466e-05, -1.23882306e-05,  1.83286870e-07]),\n",
       " array([1.56050810e-06, 3.09731728e-06, 4.12824000e-05, ...,\n",
       "        1.13710176e-04, 1.26803107e-05, 1.25331582e-05]),\n",
       " array([ 4.32538684e-06,  8.13249692e-06,  9.86830514e-05, ...,\n",
       "        -1.29382635e-05,  2.94602414e-06,  6.97668306e-06]),\n",
       " array([ 1.24766451e-05, -4.52569069e-06, -9.75119511e-05, ...,\n",
       "        -1.07259159e-04, -2.11608900e-06,  1.26856628e-05]),\n",
       " array([8.57260620e-06, 1.26390950e-05, 9.05544964e-05, ...,\n",
       "        8.18881776e-05, 1.26816707e-05, 9.59833498e-06]),\n",
       " array([ 9.82621380e-06,  1.24314392e-05,  5.31087744e-05, ...,\n",
       "        -8.08921732e-05, -1.26205172e-05, -6.97827332e-06]),\n",
       " array([ 1.16525154e-05,  9.21761188e-06, -3.92477701e-05, ...,\n",
       "         1.02244425e-04,  9.68024404e-06, -3.70341076e-06]),\n",
       " array([ 7.81768581e-06,  1.23143311e-05,  1.04213870e-04, ...,\n",
       "        -1.12671180e-04, -8.59369364e-06, -1.01724640e-06]),\n",
       " array([ 1.24675307e-05, -4.61845925e-06, -9.68067856e-05, ...,\n",
       "         4.76501146e-05,  1.03492844e-05, -9.12841456e-06]),\n",
       " array([6.64438224e-06, 1.13206238e-05, 1.13788276e-04, ...,\n",
       "        1.13835010e-04, 1.02595814e-05, 4.83139715e-06]),\n",
       " array([ 8.52545489e-06,  1.26273689e-05,  9.15936052e-05, ...,\n",
       "         8.62611464e-05,  1.51269976e-06, -7.34438013e-06]),\n",
       " array([ 1.26661194e-05,  1.45460725e-06, -1.12487814e-04, ...,\n",
       "        -7.05460055e-05, -1.04094153e-05,  6.64326827e-06]),\n",
       " array([5.95876554e-07, 1.19043792e-06, 1.60408037e-05, ...,\n",
       "        1.88134529e-05, 1.50041535e-06, 9.07064695e-07]),\n",
       " array([ 9.18462867e-06,  1.26723248e-05,  7.46955073e-05, ...,\n",
       "        -1.02406314e-04, -3.78791640e-06,  6.15255539e-06]),\n",
       " array([ 1.26680923e-05, -1.38463382e-06, -1.12646945e-04, ...,\n",
       "        -5.43766600e-05,  1.14694632e-05,  4.78843294e-06]),\n",
       " array([ 7.16908371e-06,  1.18295957e-05,  1.11153005e-04, ...,\n",
       "        -3.73399286e-05, -1.01980076e-05, -1.26785554e-05]),\n",
       " array([ 5.18621744e-06,  9.46622440e-06,  1.08825727e-04, ...,\n",
       "        -9.29691413e-05, -1.24385049e-05, -1.23733213e-05]),\n",
       " array([ 1.26421758e-05, -2.12477429e-06, -1.10561838e-04, ...,\n",
       "         1.14177596e-04, -9.91048827e-07, -1.25202629e-05]),\n",
       " array([ 1.25414029e-05,  3.78979216e-06, -1.02562277e-04, ...,\n",
       "        -4.92528828e-05, -1.21414634e-05,  1.80379022e-06]),\n",
       " array([ 1.21839740e-05,  6.79395958e-06, -7.55575217e-05, ...,\n",
       "        -1.03957729e-04, -8.25941461e-06,  6.94568091e-06]),\n",
       " array([ 1.24570709e-05, -4.72226123e-06, -9.59992386e-05, ...,\n",
       "        -7.34330366e-05, -7.99246143e-06,  1.11893069e-05]),\n",
       " array([ 1.20965516e-05,  7.29496751e-06, -6.92727785e-05, ...,\n",
       "         8.96198255e-05, -4.49258838e-06, -1.26674035e-05]),\n",
       " array([ 7.83740558e-06,  1.23262931e-05,  1.03935622e-04, ...,\n",
       "         2.25341431e-05, -5.71426754e-06, -1.14910025e-05]),\n",
       " array([ 1.08463714e-05,  1.12534469e-05,  7.46460784e-06, ...,\n",
       "        -1.46925387e-05, -1.16031133e-05, -1.04060305e-05]),\n",
       " array([ 8.26061964e-06,  1.25393987e-05,  9.69613749e-05, ...,\n",
       "        -6.87368688e-05, -1.23929347e-05, -1.11744536e-05]),\n",
       " array([9.44391561e-07, 1.88354305e-06, 2.53093348e-05, ...,\n",
       "        7.98650603e-05, 9.52449796e-06, 1.01219522e-05]),\n",
       " array([1.37700238e-06, 2.73773553e-06, 3.65938636e-05, ...,\n",
       "        8.31537162e-05, 1.01286762e-05, 1.08980680e-05]),\n",
       " array([ 1.00244771e-05,  1.22886773e-05,  4.53567456e-05, ...,\n",
       "         5.29657819e-05, -5.27336858e-06, -1.23497354e-05]),\n",
       " array([ 1.24001519e-05, -5.24430779e-06, -9.16368274e-05, ...,\n",
       "         3.10016709e-05, -1.26627555e-05,  1.91062220e-06]),\n",
       " array([ 1.13705988e-05,  1.00874642e-05, -2.17925090e-05, ...,\n",
       "        -7.32766012e-05, -1.23317716e-05, -2.79805170e-06]),\n",
       " array([ 4.01505313e-06,  7.61738291e-06,  9.39270453e-05, ...,\n",
       "        -6.67416534e-05, -3.77713469e-06,  2.49987539e-07]),\n",
       " array([9.29406187e-06, 1.26529270e-05, 7.13821735e-05, ...,\n",
       "        1.13741217e-04, 9.41656844e-06, 1.81366779e-07]),\n",
       " array([ 1.26634970e-05, -1.54263547e-06, -1.12276394e-04, ...,\n",
       "         7.76107012e-05,  8.76300243e-06, -9.69119000e-06]),\n",
       " array([ 9.44850551e-06,  1.26110927e-05,  6.64515030e-05, ...,\n",
       "        -4.74634180e-05, -1.21130519e-05, -1.08936199e-05]),\n",
       " array([ 1.25322020e-05, -3.90408390e-06, -1.01840424e-04, ...,\n",
       "        -5.89392807e-05, -9.71335569e-06,  9.57497567e-06]),\n",
       " array([4.50186314e-07, 8.99805616e-07, 1.21342139e-05, ...,\n",
       "        3.94022275e-05, 3.95288502e-06, 3.52261797e-06]),\n",
       " array([3.39567852e-06, 6.54358422e-06, 8.29234062e-05, ...,\n",
       "        6.09569851e-07, 3.46089129e-06, 6.60151910e-06]),\n",
       " array([ 1.24655506e-05,  4.63832288e-06, -9.66537690e-05, ...,\n",
       "         8.64452844e-05,  9.93077901e-06, -5.91020013e-06]),\n",
       " array([ 1.23633335e-05, -5.55004091e-06, -8.88437076e-05, ...,\n",
       "         8.04999549e-05,  6.76010979e-06, -1.19794322e-05]),\n",
       " array([9.60327656e-06, 1.25512894e-05, 6.12069872e-05, ...,\n",
       "        3.15424912e-05, 1.15199414e-05, 1.15514920e-05]),\n",
       " array([ 9.25436341e-06,  1.26609231e-05,  7.26013035e-05, ...,\n",
       "        -8.23842665e-05, -1.26694321e-05, -8.17897192e-06]),\n",
       " array([ 1.07191887e-05,  1.14681808e-05,  1.39524006e-05, ...,\n",
       "        -9.26315396e-05,  7.61101751e-07,  1.11070244e-05]),\n",
       " array([ 1.26527961e-05,  1.85835464e-06, -1.11414916e-04, ...,\n",
       "        -1.52993677e-05,  1.24138541e-05,  3.52324776e-06]),\n",
       " array([1.94672849e-06, 3.84734923e-06, 5.09098965e-05, ...,\n",
       "        9.32383411e-06, 2.96397472e-06, 4.82173188e-06]),\n",
       " array([ 1.26158424e-05,  2.66957070e-06, -1.08454871e-04, ...,\n",
       "        -5.76314757e-05, -1.15683942e-05,  3.95578814e-06]),\n",
       " array([ 1.25617901e-05,  3.52169620e-06, -1.04166823e-04, ...,\n",
       "         4.22282459e-05, -1.10133727e-05, -7.77978366e-06]),\n",
       " array([6.33029472e-06, 1.09720048e-05, 1.14178865e-04, ...,\n",
       "        9.68807271e-05, 1.26791630e-05, 1.12113128e-05]),\n",
       " array([2.16420264e-06, 4.26496477e-06, 5.61644497e-05, ...,\n",
       "        6.92172270e-05, 9.29953142e-06, 1.06353971e-05]),\n",
       " array([ 4.67835624e-06,  8.69733031e-06,  1.03410780e-04, ...,\n",
       "         5.74698385e-05,  1.89319436e-06, -2.86619766e-06]),\n",
       " array([ 1.25027571e-05,  4.24663316e-06, -9.95399068e-05, ...,\n",
       "        -5.79810201e-05,  9.67664782e-06,  9.72928246e-06]),\n",
       " array([ 1.24371119e-05,  4.91307076e-06, -9.44633818e-05, ...,\n",
       "         2.74851525e-05,  1.26746155e-05,  1.95288336e-06]),\n",
       " array([ 8.14457121e-06,  1.24895163e-05,  9.90670320e-05, ...,\n",
       "         6.77922629e-05, -7.77990075e-07, -8.72575874e-06]),\n",
       " array([ 1.26668486e-05,  1.42915048e-06, -1.12546621e-04, ...,\n",
       "        -2.83585133e-05,  1.20921834e-05,  4.51536580e-06]),\n",
       " array([ 9.83279075e-06,  1.24272673e-05,  5.28599871e-05, ...,\n",
       "        -5.94820681e-05,  4.21649330e-06,  1.19383979e-05]),\n",
       " array([ 1.24658343e-05,  4.63548288e-06, -9.66756904e-05, ...,\n",
       "         1.02959356e-04,  7.51600518e-06, -8.64545136e-06]),\n",
       " array([ 8.60992816e-06,  1.26475028e-05,  8.97138777e-05, ...,\n",
       "        -2.06975109e-05, -1.01564279e-05, -1.26194232e-05]),\n",
       " array([ 8.95552433e-06,  1.26869762e-05,  8.11562697e-05, ...,\n",
       "        -1.13548072e-04, -7.99633314e-06,  1.28875548e-06]),\n",
       " array([ 3.51974060e-06,  6.76315692e-06,  8.52776775e-05, ...,\n",
       "        -4.49068833e-05, -8.03003935e-06, -1.04398419e-05]),\n",
       " array([ 1.16509876e-05,  9.22291673e-06, -3.91498519e-05, ...,\n",
       "         4.85287556e-05,  1.26805383e-05,  4.64564227e-06]),\n",
       " array([ 1.15098165e-05,  9.68387158e-06, -3.02589339e-05, ...,\n",
       "        -9.90519508e-06, -1.19294299e-05, -8.93630209e-06]),\n",
       " array([ 1.24741656e-05, -4.55114944e-06, -9.73199798e-05, ...,\n",
       "         4.92760645e-05,  1.02538896e-05, -9.21639414e-06]),\n",
       " array([5.17433598e-06, 9.44887260e-06, 1.08718864e-04, ...,\n",
       "        1.10279903e-04, 9.84753541e-06, 5.72888094e-06]),\n",
       " array([ 8.36444394e-06,  1.25782660e-05,  9.49510593e-05, ...,\n",
       "         6.65620414e-05, -1.23512810e-06, -9.25339095e-06]),\n",
       " array([ 1.02184934e-05,  1.21129024e-05,  3.72589469e-05, ...,\n",
       "         1.04094847e-04,  2.65652764e-06, -8.41746344e-06]),\n",
       " array([ 1.26858264e-05,  3.52726540e-07, -1.14080311e-04, ...,\n",
       "        -8.05283737e-05,  8.86897573e-06,  9.19449967e-06]),\n",
       " array([ 1.22651898e-05,  6.27312438e-06, -8.15080172e-05, ...,\n",
       "         5.47394098e-05,  1.23192230e-05,  2.18397629e-07]),\n",
       " array([ 8.64735124e-06,  1.26551483e-05,  8.88548228e-05, ...,\n",
       "        -4.21978890e-05,  4.60415675e-06,  1.14268631e-05]),\n",
       " array([ 4.82329222e-06,  8.92226903e-06,  1.05128915e-04, ...,\n",
       "        -1.13727275e-04, -1.21168633e-05, -9.77734175e-06]),\n",
       " array([ 9.22310854e-06,  1.26664465e-05,  7.35473589e-05, ...,\n",
       "         8.42156963e-05,  1.97511985e-07, -9.08636543e-06]),\n",
       " array([ 1.26717910e-05,  1.24271310e-06, -1.12945450e-04, ...,\n",
       "        -3.57357002e-05, -1.22298703e-05,  2.77139343e-06]),\n",
       " array([7.93897644e-06, 1.23851257e-05, 1.02437438e-04, ...,\n",
       "        3.69024332e-05, 1.07113092e-05, 1.26096683e-05]),\n",
       " array([ 1.25643095e-05, -3.48697368e-06, -1.04365594e-04, ...,\n",
       "        -4.27503485e-05, -1.09912450e-05,  7.80060040e-06]),\n",
       " array([ 1.26711780e-05, -1.26734943e-06, -1.12895959e-04, ...,\n",
       "         1.10331297e-04, -3.87507224e-06, -1.18718697e-05]),\n",
       " array([ 1.23879043e-05, -5.34848078e-06, -9.07051984e-05, ...,\n",
       "         2.86336389e-05,  1.13052135e-05, -8.06265186e-06]),\n",
       " array([ 9.27405454e-07,  1.84984877e-06,  2.48607082e-05, ...,\n",
       "        -9.34493362e-05, -1.08887095e-05, -1.13355475e-05]),\n",
       " array([ 1.17174473e-05,  8.98534365e-06, -4.34431074e-05, ...,\n",
       "        -1.11591245e-04, -2.27336542e-06,  1.06561515e-05]),\n",
       " array([ 9.93622492e-06,  1.23566322e-05,  4.88720533e-05, ...,\n",
       "         1.94713874e-05, -8.44538300e-06, -1.26661904e-05]),\n",
       " array([ 1.26834926e-05,  6.00892927e-07, -1.13891369e-04, ...,\n",
       "         3.95001023e-05, -1.17963702e-05, -4.94791338e-06]),\n",
       " array([ 1.14646353e-05,  9.82003374e-06, -2.74786359e-05, ...,\n",
       "        -5.00921201e-05, -1.26862014e-05, -5.30038681e-06]),\n",
       " array([ 1.24345296e-05, -4.93710691e-06, -9.42651549e-05, ...,\n",
       "        -1.02786818e-04,  7.68179467e-06,  8.37110165e-06]),\n",
       " array([ 1.25995710e-05, -2.95412297e-06, -1.07158843e-04, ...,\n",
       "        -3.65728876e-05,  1.24121368e-05,  1.15361494e-06]),\n",
       " array([ 1.10336712e-05,  1.08928063e-05, -2.51929628e-06, ...,\n",
       "        -1.14135884e-04, -6.56547137e-06,  6.20054271e-06]),\n",
       " array([ 1.82771006e-06,  3.61728971e-06,  4.79810130e-05, ...,\n",
       "        -1.05297508e-04, -1.22848315e-05, -1.26132531e-05]),\n",
       " array([ 5.71876030e-06,  1.02096729e-05,  1.12572831e-04, ...,\n",
       "        -3.30773962e-05,  2.19270437e-06,  7.59001425e-06]),\n",
       " array([ 1.13768850e-05,  1.00702299e-05, -2.21683986e-05, ...,\n",
       "         2.14411397e-06,  1.14803191e-05,  9.92354140e-06]),\n",
       " array([9.31345754e-06, 1.26486170e-05, 7.07793951e-05, ...,\n",
       "        1.74745678e-05, 1.05222402e-05, 1.23485818e-05]),\n",
       " array([ 7.18761799e-07,  1.43521482e-06,  1.93228655e-05, ...,\n",
       "        -8.11001110e-05, -8.49100889e-06, -7.94331497e-06]),\n",
       " array([5.03912240e-06, 9.24918863e-06, 1.07434244e-04, ...,\n",
       "        1.10528345e-04, 1.25352014e-05, 1.07267197e-05]),\n",
       " array([ 1.26452641e-05, -2.05098513e-06, -1.10809712e-04, ...,\n",
       "         1.11483301e-04,  1.72724872e-06, -1.26676018e-05]),\n",
       " array([ 1.26260044e-05, -2.47425081e-06, -1.09266551e-04, ...,\n",
       "         9.62559596e-05,  5.74329035e-06, -1.18209505e-05]),\n",
       " array([ 1.25352708e-05,  3.86638705e-06, -1.02081025e-04, ...,\n",
       "         2.77998007e-05, -1.16816691e-05, -6.69207284e-06]),\n",
       " array([8.22345321e-06, 1.25241527e-05, 9.76518950e-05, ...,\n",
       "        1.14172656e-04, 9.56971599e-06, 1.88820377e-06]),\n",
       " array([ 1.26053960e-05,  2.85572650e-06, -1.07622292e-04, ...,\n",
       "        -3.62085822e-05,  1.14990394e-05,  6.62839558e-06]),\n",
       " array([ 1.25897812e-05,  3.11201130e-06, -1.06381235e-04, ...,\n",
       "         1.07422406e-04, -2.79154644e-06, -1.26262565e-05]),\n",
       " array([ 3.58701554e-06,  6.88132641e-06,  8.65240894e-05, ...,\n",
       "        -7.56479441e-07, -3.66756339e-06, -6.95179319e-06]),\n",
       " array([ 1.25868844e-05, -3.15710242e-06, -1.06151453e-04, ...,\n",
       "        -9.71763795e-05,  7.96266732e-06,  8.80050659e-06]),\n",
       " array([ 1.25990226e-05, -2.96320649e-06, -1.07115241e-04, ...,\n",
       "         5.32257184e-05,  1.04508886e-05, -8.37214843e-06]),\n",
       " array([ 1.19275873e-05,  8.12966336e-06, -5.74768389e-05, ...,\n",
       "        -1.03592124e-04,  1.09330844e-06,  1.22558080e-05]),\n",
       " array([ 5.68269540e-06,  1.01615363e-05,  1.12385495e-04, ...,\n",
       "        -9.73294033e-05, -6.69800887e-06, -1.16232948e-06]),\n",
       " array([ 1.26870447e-05, -2.82331897e-08, -1.14178974e-04, ...,\n",
       "         8.80342073e-05,  8.06843933e-06, -9.79986468e-06]),\n",
       " array([ 1.15102254e-05,  9.68261524e-06, -3.02842437e-05, ...,\n",
       "        -2.88762253e-05, -1.24856083e-05, -7.29454736e-06]),\n",
       " array([1.16322605e-06, 2.31665300e-06, 3.10540279e-05, ...,\n",
       "        1.06689029e-04, 1.22191865e-05, 1.24807000e-05]),\n",
       " array([ 6.89236781e-06,  1.15731751e-05,  1.12860563e-04, ...,\n",
       "         8.54399006e-05,  3.39835425e-06, -3.78736809e-06]),\n",
       " array([ 1.17166503e-05,  8.98827786e-06, -4.33912065e-05, ...,\n",
       "        -1.12938595e-04, -6.53624065e-06,  7.53496424e-06]),\n",
       " array([ 2.78655011e-06,  5.43701401e-06,  7.03951819e-05, ...,\n",
       "        -8.88249293e-05, -1.13796621e-05, -1.23338072e-05]),\n",
       " array([1.03814703e-05, 1.19351622e-05, 3.00581687e-05, ...,\n",
       "        2.32079628e-05, 1.16471014e-05, 1.08114580e-05]),\n",
       " array([ 5.39190799e-06,  9.76147417e-06,  1.10518057e-04, ...,\n",
       "        -6.39646888e-05, -1.96723394e-06,  3.54596094e-06]),\n",
       " array([ 6.86803478e-06,  1.15493213e-05,  1.12976428e-04, ...,\n",
       "        -4.53840574e-05, -1.05422200e-05, -1.26850057e-05]),\n",
       " array([ 9.37525201e-06,  1.26330941e-05,  6.88275490e-05, ...,\n",
       "        -3.47415977e-05, -1.15315985e-05, -1.16784495e-05]),\n",
       " array([7.80055196e-06, 1.23037971e-05, 1.04452318e-04, ...,\n",
       "        1.01764512e-04, 1.24550767e-05, 8.33782033e-06]),\n",
       " array([ 3.13407796e-06,  6.07389276e-06,  7.77323725e-05, ...,\n",
       "        -1.36951056e-05, -4.58602048e-06, -7.36605049e-06]),\n",
       " array([ 1.26869638e-05,  9.48786924e-08, -1.14172426e-04, ...,\n",
       "         4.27265174e-05, -1.17474560e-05, -4.83540408e-06]),\n",
       " array([ 1.19106243e-05,  8.20543297e-06, -5.63179435e-05, ...,\n",
       "         3.46980838e-05, -1.00192845e-05, -1.07579297e-05]),\n",
       " array([ 1.26324820e-05, -2.34080434e-06, -1.09784855e-04, ...,\n",
       "         1.11947671e-04, -3.63800345e-06, -1.17649274e-05]),\n",
       " array([6.85106429e-06, 1.15325635e-05, 1.13054004e-04, ...,\n",
       "        5.41310703e-06, 7.34960097e-06, 1.17702858e-05]),\n",
       " array([ 8.68273167e-06,  1.26616452e-05,  8.80277138e-05, ...,\n",
       "         1.12370395e-04,  7.56435389e-06, -1.45525770e-06]),\n",
       " array([ 1.26344886e-05,  2.29782021e-06, -1.09945560e-04, ...,\n",
       "        -1.02500596e-04,  4.53081167e-06,  1.22133541e-05]),\n",
       " array([ 1.24994709e-05, -4.28292250e-06, -9.92840534e-05, ...,\n",
       "         7.66847534e-05,  7.80103890e-06, -1.11938292e-05]),\n",
       " array([ 1.24139248e-05,  5.12396981e-06, -9.26874664e-05, ...,\n",
       "        -8.53438679e-05,  6.28966038e-06,  1.20790921e-05]),\n",
       " array([ 3.77635717e-06,  7.21037766e-06,  8.99137843e-05, ...,\n",
       "        -2.20649643e-05,  1.36455568e-06,  5.05715645e-06]),\n",
       " array([ 1.23144238e-05,  5.92521818e-06, -8.51680877e-05, ...,\n",
       "        -4.36576427e-05, -1.25457551e-05, -1.18551241e-06]),\n",
       " array([ 3.39002389e-06,  6.53352623e-06,  8.28144101e-05, ...,\n",
       "        -9.69121996e-05, -8.58433163e-06, -5.77602667e-06]),\n",
       " array([ 1.07275592e-05,  1.14547484e-05,  1.35325925e-05, ...,\n",
       "         1.11844533e-04,  4.47656784e-06, -7.64756976e-06]),\n",
       " array([ 3.42355693e-06,  6.59310886e-06,  8.34586427e-05, ...,\n",
       "        -1.08430082e-04, -1.05285498e-05, -8.22775708e-06]),\n",
       " array([ 8.20596582e-06,  1.25167399e-05,  9.79715181e-05, ...,\n",
       "        -7.68939381e-05, -1.25823610e-05, -1.06480917e-05]),\n",
       " array([ 1.24320415e-05, -4.96013145e-06, -9.40742675e-05, ...,\n",
       "         9.90812677e-05,  3.98210933e-06, -1.25981828e-05]),\n",
       " array([1.34590432e-06, 2.67661897e-06, 3.57929205e-05, ...,\n",
       "        1.13643948e-04, 1.24260586e-05, 1.20843461e-05]),\n",
       " array([ 9.14740243e-06,  1.26770554e-05,  7.57888824e-05, ...,\n",
       "         9.83000606e-05,  2.91503971e-06, -6.88274999e-06]),\n",
       " array([ 1.25975667e-06,  2.50706209e-06,  3.35651570e-05, ...,\n",
       "        -8.22468352e-05, -8.21987411e-06, -7.21965776e-06]),\n",
       " array([1.19474282e-06, 2.37886702e-06, 3.18755569e-05, ...,\n",
       "        4.65352319e-05, 6.23879047e-06, 7.25137566e-06]),\n",
       " array([ 1.32408243e-06,  2.63370344e-06,  3.52298440e-05, ...,\n",
       "        -9.60140777e-05, -1.13269043e-05, -1.18615061e-05]),\n",
       " array([4.38152842e-07, 8.75782945e-07, 1.18109141e-05, ...,\n",
       "        7.34223952e-05, 8.48900390e-06, 8.80956007e-06]),\n",
       " array([ 6.02738668e-06,  1.06074975e-05,  1.13761297e-04, ...,\n",
       "        -5.24911540e-05, -1.04849928e-05, -1.26198166e-05]),\n",
       " array([ 1.21903313e-05,  6.75528190e-06, -7.60194060e-05, ...,\n",
       "         1.05000907e-04, -1.55602680e-06, -1.25294357e-05]),\n",
       " array([ 1.26465894e-05,  2.01846623e-06, -1.10916125e-04, ...,\n",
       "        -1.13949509e-04, -1.81290284e-06,  1.23721355e-05]),\n",
       " array([ 3.62205883e-06,  6.94262424e-06,  8.71647379e-05, ...,\n",
       "        -7.98017052e-06, -4.46301281e-06, -7.66781715e-06]),\n",
       " array([ 1.01646894e-05,  1.21654123e-05,  3.95559082e-05, ...,\n",
       "        -1.03096889e-04, -2.48667734e-06,  8.47946568e-06]),\n",
       " array([6.30640052e-07, 1.25972094e-06, 1.69706120e-05, ...,\n",
       "        4.50157161e-05, 4.41617293e-06, 3.81951207e-06]),\n",
       " array([ 1.26288712e-05,  2.41614229e-06, -1.09495852e-04, ...,\n",
       "         9.58906485e-05,  7.87495538e-06, -9.14824884e-06]),\n",
       " array([2.05817766e-06, 4.06182813e-06, 5.36190052e-05, ...,\n",
       "        8.42662111e-05, 1.06280264e-05, 1.16112560e-05]),\n",
       " array([7.06663107e-06, 1.17378935e-05, 1.11869584e-04, ...,\n",
       "        8.45015991e-05, 1.25505022e-05, 1.14573895e-05]),\n",
       " array([ 6.90841765e-06,  1.15887959e-05,  1.12781144e-04, ...,\n",
       "        -7.05431496e-05, -1.14221919e-06,  5.92233258e-06]),\n",
       " array([ 9.78341805e-06,  1.24576730e-05,  5.47137014e-05, ...,\n",
       "        -1.13872666e-04, -7.33890403e-06,  3.30798491e-06]),\n",
       " array([ 1.23939998e-05,  5.29695810e-06, -9.11685475e-05, ...,\n",
       "         1.14097344e-04,  3.17954576e-06, -1.13190346e-05]),\n",
       " array([ 1.23913001e-05,  5.31985479e-06, -9.09632589e-05, ...,\n",
       "        -6.96325878e-05,  8.15942397e-06,  1.12402342e-05]),\n",
       " array([ 9.76226197e-06,  1.24700629e-05,  5.54982096e-05, ...,\n",
       "        -9.45138517e-05, -1.23006032e-06,  8.93064689e-06]),\n",
       " array([ 1.21851413e-05,  6.78688259e-06, -7.56422787e-05, ...,\n",
       "        -1.09045440e-04,  2.38494183e-07,  1.22494064e-05]),\n",
       " array([ 1.04914079e-05,  1.17984878e-05,  2.49921853e-05, ...,\n",
       "         8.01357533e-05, -2.46658914e-06, -1.16781648e-05]),\n",
       " array([ 7.49350856e-06,  1.20935273e-05,  1.08210881e-04, ...,\n",
       "        -2.82283861e-05, -9.79191284e-06, -1.26662530e-05]),\n",
       " array([ 1.23937266e-05,  5.29928026e-06, -9.11477727e-05, ...,\n",
       "         1.10346479e-04,  5.80566386e-06, -9.77876273e-06]),\n",
       " array([ 1.14324321e-05,  9.91398084e-06, -2.55161389e-05, ...,\n",
       "        -5.08112299e-06, -1.16659064e-05, -9.55185679e-06]),\n",
       " array([2.63058936e-06, 5.14684284e-06, 6.69522811e-05, ...,\n",
       "        1.13279409e-04, 1.26431606e-05, 1.21497722e-05]),\n",
       " array([ 1.24926258e-05, -4.35738669e-06, -9.87517119e-05, ...,\n",
       "         1.10862852e-04,  8.40867448e-07, -1.26118032e-05]),\n",
       " array([1.01269036e-06, 2.01891820e-06, 2.71094430e-05, ...,\n",
       "        1.17674541e-05, 2.31066492e-06, 3.29904510e-06]),\n",
       " array([2.87909843e-06, 5.60796896e-06, 7.23955524e-05, ...,\n",
       "        1.13619036e-04, 1.20104475e-05, 1.07694399e-05]),\n",
       " array([ 1.26619448e-05,  1.59240605e-06, -1.12151315e-04, ...,\n",
       "        -1.05628025e-04, -5.54594381e-06,  1.10393689e-05]),\n",
       " array([ 1.04079492e-05,  1.19035207e-05,  2.88534675e-05, ...,\n",
       "         1.06448628e-04,  2.99917863e-06, -8.39787956e-06]),\n",
       " array([ 1.26021925e-05, -2.91028034e-06, -1.07367345e-04, ...,\n",
       "         1.01593710e-04, -7.05519097e-06, -9.65928532e-06]),\n",
       " array([ 1.24223483e-05,  5.04860738e-06, -9.33315868e-05, ...,\n",
       "         1.68059419e-06,  1.24589492e-05,  4.87674348e-06]),\n",
       " array([ 7.38560582e-06,  1.20103325e-05,  1.09304628e-04, ...,\n",
       "        -8.87141114e-05, -3.36548670e-06,  4.38456618e-06]),\n",
       " array([ 1.26702041e-05,  1.30552297e-06, -1.12817344e-04, ...,\n",
       "        -1.02802705e-04, -6.10189885e-06,  1.07941767e-05]),\n",
       " array([4.80161399e-06, 8.88889498e-06, 1.04880479e-04, ...,\n",
       "        6.01723219e-05, 1.02694345e-05, 1.23250522e-05]),\n",
       " array([ 1.26096691e-05,  2.78118029e-06, -1.07962631e-04, ...,\n",
       "         3.67218864e-06,  1.26481438e-05,  2.38163150e-06]),\n",
       " array([ 1.25112228e-05,  4.15145761e-06, -1.00199834e-04, ...,\n",
       "         1.06446458e-04, -2.56369471e-06, -1.26784662e-05]),\n",
       " array([1.06652825e-05, 1.15524117e-05, 1.66318780e-05, ...,\n",
       "        5.60750457e-05, 1.26650068e-05, 7.48769990e-06]),\n",
       " array([5.44761491e-07, 1.08851814e-06, 1.46719062e-05, ...,\n",
       "        4.17745393e-05, 5.14448316e-06, 5.63770452e-06]),\n",
       " array([ 4.98143782e-06,  9.16278167e-06,  1.06848387e-04, ...,\n",
       "         1.82631200e-05, -3.05096596e-06, -7.64120502e-06]),\n",
       " array([ 1.12151672e-05,  1.04865135e-05, -1.26892681e-05, ...,\n",
       "         1.03952528e-04,  1.00394147e-05, -2.16352156e-06]),\n",
       " array([ 1.26599074e-05,  1.65542151e-06, -1.11987198e-04, ...,\n",
       "        -1.06150031e-04,  3.89248506e-06,  1.23038320e-05]),\n",
       " array([9.91423104e-07, 1.97678275e-06, 2.65495749e-05, ...,\n",
       "        5.06506289e-05, 4.72229210e-06, 3.78766503e-06]),\n",
       " array([ 1.14009862e-05,  1.00033183e-05, -2.36151389e-05, ...,\n",
       "        -1.04281942e-05, -1.18616747e-05, -9.24880273e-06]),\n",
       " array([ 1.22558884e-05,  6.33591267e-06, -8.08210356e-05, ...,\n",
       "         5.48735166e-05,  1.23237965e-05,  2.73755333e-07]),\n",
       " array([ 1.26389337e-05,  2.19948164e-06, -1.10301802e-04, ...,\n",
       "         1.09302640e-04,  4.71119548e-06, -1.13252861e-05]),\n",
       " array([ 1.05024365e-05,  1.17839928e-05,  2.44746191e-05, ...,\n",
       "        -5.57338559e-05,  5.69198317e-06,  1.25794057e-05]),\n",
       " array([ 3.73386072e-06,  7.13698804e-06,  8.91684781e-05, ...,\n",
       "        -1.13932641e-04, -1.23443880e-05, -1.09357392e-05]),\n",
       " array([ 1.26126243e-05,  2.72835601e-06, -1.08198190e-04, ...,\n",
       "        -1.14160865e-04, -1.14346666e-06,  1.24376156e-05]),\n",
       " array([ 3.80068264e-06,  7.25226324e-06,  9.03362944e-05, ...,\n",
       "        -1.01223200e-04, -1.24893467e-05, -1.25841135e-05]),\n",
       " array([ 1.00074710e-05,  1.23023370e-05,  4.60422621e-05, ...,\n",
       "        -9.54462255e-05, -1.20112010e-05, -4.16005805e-06]),\n",
       " array([7.71528209e-06, 1.22494485e-05, 1.05593433e-04, ...,\n",
       "        1.07879173e-04, 1.20432328e-05, 7.13389655e-06]),\n",
       " array([ 8.56138464e-06,  1.26364155e-05,  9.08041082e-05, ...,\n",
       "        -1.10005772e-04, -1.13142927e-05, -4.47637019e-06]),\n",
       " array([ 2.22273645e-06,  4.37671637e-06,  5.75558432e-05, ...,\n",
       "        -1.14144013e-04, -1.25424308e-05, -1.20137858e-05]),\n",
       " array([ 1.24085168e-05, -5.17163838e-06, -9.22745471e-05, ...,\n",
       "         9.02042281e-05, -9.69612559e-06, -5.98186679e-06]),\n",
       " array([ 3.91234818e-06,  7.44336312e-06,  9.22367976e-05, ...,\n",
       "        -5.95252112e-05, -2.95317557e-06,  9.95628485e-07]),\n",
       " array([ 8.40108888e-06,  1.25906523e-05,  9.42127047e-05, ...,\n",
       "        -1.14179576e-04, -9.50049085e-06, -1.55126952e-06]),\n",
       " array([ 1.05421006e-05,  1.17306448e-05,  2.25990281e-05, ...,\n",
       "        -7.77234960e-05,  2.91766809e-06,  1.18828499e-05]),\n",
       " array([ 1.65439804e-06,  3.28054359e-06,  4.36545228e-05, ...,\n",
       "        -9.17859083e-05, -9.12765849e-06, -7.90066285e-06]),\n",
       " array([ 1.24448653e-05,  4.84002803e-06, -9.50592201e-05, ...,\n",
       "         8.42013195e-05,  1.02246957e-05, -5.37945388e-06]),\n",
       " array([ 1.29232983e-06,  2.57121562e-06,  3.44090146e-05, ...,\n",
       "        -1.12567916e-04, -1.22265394e-05, -1.18179174e-05]),\n",
       " array([ 1.02437551e-05,  1.20872162e-05,  3.61668121e-05, ...,\n",
       "         1.44295947e-06, -1.01483431e-05, -1.21349682e-05]),\n",
       " array([ 1.18393392e-05,  8.51016662e-06, -5.14980195e-05, ...,\n",
       "        -9.10065792e-05,  3.51563257e-06,  1.26392357e-05]),\n",
       " array([ 1.25448609e-05,  3.74582225e-06, -1.02833943e-04, ...,\n",
       "         1.10088223e-04,  5.15436523e-06, -1.06933752e-05]),\n",
       " array([ 1.11617333e-05,  1.06124195e-05, -9.64401788e-06, ...,\n",
       "         3.52387537e-05,  1.24782824e-05,  7.94862627e-06]),\n",
       " array([4.23521899e-06, 7.98454046e-06, 9.73570219e-05, ...,\n",
       "        9.83342282e-05, 8.14716813e-06, 4.43323425e-06]),\n",
       " array([1.19506928e-06, 2.37951123e-06, 3.18840584e-05, ...,\n",
       "        5.23936669e-05, 6.85765302e-06, 7.83260783e-06]),\n",
       " array([ 6.38463973e-06,  1.10345262e-05,  1.14172400e-04, ...,\n",
       "        -6.89927899e-05, -1.53739603e-06,  5.00905456e-06]),\n",
       " array([ 1.28621473e-06,  2.55917569e-06,  3.42507325e-05, ...,\n",
       "        -7.10518693e-05, -8.86108326e-06, -9.73593849e-06]),\n",
       " array([ 4.72292970e-06,  8.76695703e-06,  1.03953405e-04, ...,\n",
       "        -1.14045007e-04, -1.19905757e-05, -9.58545750e-06]),\n",
       " array([ 1.09074000e-05,  1.11419976e-05,  4.26802564e-06, ...,\n",
       "        -1.09246917e-04, -3.02868684e-06,  9.04512882e-06]),\n",
       " array([ 1.17647455e-05,  8.80734403e-06, -4.65408131e-05, ...,\n",
       "         1.13606514e-04,  5.90232270e-06, -8.20476606e-06]),\n",
       " array([9.24133663e-06, 1.26633073e-05, 7.29970838e-05, ...,\n",
       "        6.85069608e-05, 1.26085377e-05, 9.66520577e-06]),\n",
       " array([ 9.05881870e-06,  1.26846026e-05,  7.83224110e-05, ...,\n",
       "        -1.03231577e-04, -4.16010082e-06,  5.64538597e-06]),\n",
       " array([ 1.23312326e-05, -5.79988891e-06, -8.64268195e-05, ...,\n",
       "        -1.09219752e-05,  1.25600887e-05, -4.69393555e-06]),\n",
       " array([ 1.22511212e-05,  6.36775695e-06, -8.04694856e-05, ...,\n",
       "        -4.95684271e-05, -1.24678343e-05, -9.72608432e-07]),\n",
       " array([ 8.56040081e-06,  1.26361772e-05,  9.08259233e-05, ...,\n",
       "        -1.00054276e-04, -1.23296822e-05, -7.08257033e-06]),\n",
       " array([9.20935442e-07, 1.83701197e-06, 2.46897314e-05, ...,\n",
       "        1.90653059e-05, 1.20484416e-06, 2.84892489e-07]),\n",
       " array([ 1.24549156e-05, -4.74331342e-06, -9.58330637e-05, ...,\n",
       "        -5.20191668e-05,  1.21878769e-05,  1.13848822e-06]),\n",
       " array([7.72939021e-07, 1.54300648e-06, 2.07653709e-05, ...,\n",
       "        8.11846987e-05, 8.46056651e-06, 7.86887377e-06]),\n",
       " array([ 1.24546599e-05,  4.74580387e-06, -9.58133518e-05, ...,\n",
       "        -2.71292993e-05, -1.26723171e-05, -1.81427281e-06]),\n",
       " array([ 1.04207058e-05,  1.18879913e-05,  2.82695906e-05, ...,\n",
       "        -5.10824856e-05,  6.08204072e-06,  1.26144451e-05]),\n",
       " array([ 1.25894325e-05, -3.11747618e-06, -1.06353569e-04, ...,\n",
       "         1.13002932e-04, -3.35737977e-06, -1.17249302e-05]),\n",
       " array([1.16713019e-06, 2.32436214e-06, 3.11558798e-05, ...,\n",
       "        1.08506139e-04, 1.16421902e-05, 1.11289993e-05]),\n",
       " array([ 1.21438864e-05,  7.03055924e-06, -7.26601880e-05, ...,\n",
       "        -1.11709194e-04, -1.08057655e-06,  1.17869656e-05]),\n",
       " array([ 1.25567344e-05, -3.59025736e-06, -1.03768270e-04, ...,\n",
       "         3.33881446e-05,  1.14775127e-05, -6.99160256e-06]),\n",
       " array([ 1.26719445e-05,  1.23646873e-06, -1.12957839e-04, ...,\n",
       "        -8.67587990e-05, -8.70840853e-06,  8.79046716e-06]),\n",
       " array([ 1.18511137e-05,  8.46129277e-06, -5.22885730e-05, ...,\n",
       "        -1.13874025e-04, -3.65046765e-06,  1.00467875e-05]),\n",
       " array([ 1.26035866e-05,  2.88667507e-06, -1.07478271e-04, ...,\n",
       "        -6.88675982e-06, -1.26682720e-05, -2.13626892e-06]),\n",
       " array([ 1.62218015e-06,  3.21773088e-06,  4.28426897e-05, ...,\n",
       "        -3.28897746e-05, -2.07112367e-06, -4.53705100e-07]),\n",
       " array([ 7.40528192e-06,  1.20258511e-05,  1.09113835e-04, ...,\n",
       "        -1.97024177e-05, -9.07180782e-06, -1.25429840e-05]),\n",
       " array([ 1.05397693e-05,  1.17338335e-05,  2.27098815e-05, ...,\n",
       "        -1.13668457e-04, -6.03439066e-06,  5.91222121e-06]),\n",
       " array([ 4.58001840e-06,  8.54233930e-06,  1.02169698e-04, ...,\n",
       "         2.04679856e-06, -4.36718919e-06, -8.37281446e-06]),\n",
       " array([ 1.05009823e-05,  1.17859125e-05,  2.45429645e-05, ...,\n",
       "        -9.35340119e-05,  1.90279910e-07,  1.06065827e-05]),\n",
       " array([4.39976155e-06, 8.25344457e-06, 9.97413513e-05, ...,\n",
       "        1.00339059e-04, 1.25569338e-05, 1.24061962e-05]),\n",
       " array([ 1.19839590e-05,  7.86809539e-06, -6.13612119e-05, ...,\n",
       "         1.72357430e-05, -1.12179371e-05, -9.28030935e-06]),\n",
       " array([ 1.26204778e-05,  2.58240687e-06, -1.08824901e-04, ...,\n",
       "        -1.04704617e-04,  3.84335924e-06,  1.24206695e-05]),\n",
       " array([ 1.26266718e-05, -2.46085134e-06, -1.09319921e-04, ...,\n",
       "        -2.07922789e-05,  1.26406844e-05, -1.53250919e-07]),\n",
       " array([8.10833565e-06, 1.24725826e-05, 9.96942607e-05, ...,\n",
       "        6.40590575e-05, 1.21865387e-05, 1.16279319e-05]),\n",
       " array([ 7.86991462e-06,  1.23456323e-05,  1.03467982e-04, ...,\n",
       "        -7.40598168e-05, -1.24444344e-05, -1.12925912e-05]),\n",
       " array([1.01495258e-05, 1.21796789e-05, 4.01961168e-05, ...,\n",
       "        7.88684034e-05, 1.25973349e-05, 6.35365714e-06]),\n",
       " array([ 8.98446293e-06,  1.26869962e-05,  8.03753382e-05, ...,\n",
       "        -6.84871034e-05,  1.81577915e-06,  1.01740046e-05]),\n",
       " array([5.66651976e-06, 1.01398377e-05, 1.12298247e-04, ...,\n",
       "        9.72582193e-05, 6.70053309e-06, 1.18329725e-06]),\n",
       " array([ 1.26214731e-05, -2.56328273e-06, -1.08904402e-04, ...,\n",
       "         5.82203418e-05, -1.15143122e-05, -4.13071524e-06]),\n",
       " array([ 1.24563028e-05,  4.72977644e-06, -9.59400104e-05, ...,\n",
       "        -1.12550412e-04, -2.77600343e-07,  1.24006169e-05]),\n",
       " array([ 9.87755754e-06,  1.23978642e-05,  5.11514047e-05, ...,\n",
       "        -7.95539996e-05,  1.53781115e-06,  1.07698235e-05]),\n",
       " array([ 9.59273362e-06,  1.25559532e-05,  6.15739827e-05, ...,\n",
       "        -6.65407706e-05, -1.26341885e-05, -9.14325197e-06]),\n",
       " array([1.05648218e-05, 1.16992149e-05, 2.15145923e-05, ...,\n",
       "        8.71822559e-06, 1.10703500e-05, 1.12902995e-05]),\n",
       " array([ 1.23594327e-05, -5.58118339e-06, -8.85491038e-05, ...,\n",
       "        -6.90685953e-05, -8.10891465e-06,  1.13363132e-05]),\n",
       " array([ 1.11487244e-06,  2.22111916e-06,  2.97906229e-05, ...,\n",
       "        -9.22405125e-05, -9.55255776e-06, -8.78191528e-06]),\n",
       " array([ 9.71148068e-06,  1.24982647e-05,  5.73573742e-05, ...,\n",
       "        -9.47269254e-05, -1.21950212e-05, -5.16890621e-06]),\n",
       " array([2.49444687e-06, 4.89151579e-06, 6.38765111e-05, ...,\n",
       "        7.36719253e-05, 6.12053161e-06, 3.81608415e-06]),\n",
       " array([ 1.26537928e-05, -1.83130298e-06, -1.11495067e-04, ...,\n",
       "         8.95896877e-05,  7.12442458e-06, -1.09858192e-05]),\n",
       " array([ 7.29343507e-06,  1.19356065e-05,  1.10147464e-04, ...,\n",
       "        -1.13707791e-04, -1.10005520e-05, -5.36762592e-06]),\n",
       " array([ 5.39422715e-06,  9.76474660e-06,  1.10535414e-04, ...,\n",
       "        -1.70336118e-05,  3.62077196e-06,  8.44708724e-06]),\n",
       " array([ 9.54685518e-06,  1.25752308e-05,  6.31543534e-05, ...,\n",
       "        -9.92913488e-05, -1.19799448e-05, -4.74737989e-06]),\n",
       " array([ 1.12611984e-05,  1.03735719e-05, -1.53470792e-05, ...,\n",
       "        -5.28377449e-05,  7.27872207e-06,  1.25760602e-05]),\n",
       " array([ 1.26828837e-05,  6.50211276e-07, -1.13842093e-04, ...,\n",
       "        -1.13883245e-04,  5.88840695e-07,  1.26843100e-05]),\n",
       " array([2.72934344e-06, 5.33087612e-06, 6.91426128e-05, ...,\n",
       "        1.58568760e-05, 4.42357571e-06, 6.87806776e-06]),\n",
       " array([ 8.25378178e-06,  1.25366459e-05,  9.70895638e-05, ...,\n",
       "         9.06948825e-05,  2.63918720e-06, -6.06889610e-06]),\n",
       " array([ 1.26790036e-05, -9.03131940e-07, -1.13528216e-04, ...,\n",
       "         1.13954469e-04,  3.44865695e-07, -1.26866010e-05]),\n",
       " array([ 6.73976330e-06,  1.14202140e-05,  1.13497463e-04, ...,\n",
       "         8.56181331e-05,  3.60100291e-06, -3.41171657e-06]),\n",
       " array([1.77984020e-06, 3.52447784e-06, 4.67930763e-05, ...,\n",
       "        9.22448892e-05, 9.09950410e-06, 7.76925478e-06]),\n",
       " array([ 1.26415919e-05,  2.13842832e-06, -1.10514995e-04, ...,\n",
       "         4.17345546e-05,  1.21590752e-05, -2.58052294e-06]),\n",
       " array([ 5.24335800e-06,  9.54922566e-06,  1.09325889e-04, ...,\n",
       "         7.62325504e-05,  3.80979027e-06, -1.53216387e-06]),\n",
       " array([ 1.25904992e-05,  3.10072559e-06, -1.06438210e-04, ...,\n",
       "         2.42980791e-05, -1.19696516e-05, -5.64770422e-06]),\n",
       " array([5.92318592e-06, 1.04760632e-05, 1.13444215e-04, ...,\n",
       "        1.05733930e-04, 8.15392906e-06, 2.67286280e-06]),\n",
       " array([ 7.08021257e-06,  1.17502722e-05,  1.11780345e-04, ...,\n",
       "        -5.79577026e-05, -1.14441146e-05, -1.25526114e-05]),\n",
       " array([ 1.26453081e-05, -2.04991593e-06, -1.10813238e-04, ...,\n",
       "         1.08673558e-04,  2.90070007e-06, -1.25454774e-05]),\n",
       " array([ 1.42653896e-06,  2.83498499e-06,  3.78659909e-05, ...,\n",
       "        -5.20724740e-06, -1.99998805e-06, -3.39600746e-06]),\n",
       " array([ 1.19292749e-05,  8.12205333e-06, -5.75923850e-05, ...,\n",
       "        -3.11616586e-05,  1.02976772e-05,  1.04737028e-05]),\n",
       " array([ 9.70151582e-06,  1.25035468e-05,  5.77182500e-05, ...,\n",
       "         1.13097131e-04,  9.43089762e-06, -4.12005473e-07]),\n",
       " array([ 1.25699216e-05,  3.40822593e-06, -1.04808748e-04, ...,\n",
       "         4.83587129e-05,  1.21153270e-05, -2.08840559e-06]),\n",
       " array([ 1.23080877e-05,  5.97155047e-06, -8.46948138e-05, ...,\n",
       "        -9.73088094e-05,  3.81596681e-06,  1.26638594e-05]),\n",
       " array([3.85182125e-06, 7.34002114e-06, 9.12146592e-05, ...,\n",
       "        9.47272082e-05, 1.21792853e-05, 1.26832148e-05]),\n",
       " array([8.88814565e-06, 1.26849027e-05, 8.29355986e-05, ...,\n",
       "        9.13769231e-05, 1.25747082e-05, 7.79292248e-06]),\n",
       " array([ 3.24839916e-06,  6.28023442e-06,  8.00377097e-05, ...,\n",
       "        -1.11663332e-04, -1.13156585e-05, -9.46946935e-06]),\n",
       " array([ 1.02075867e-05,  1.21237871e-05,  3.77277663e-05, ...,\n",
       "        -1.06333807e-04, -3.29810808e-06,  7.89802790e-06]),\n",
       " array([ 1.26606093e-05,  1.63399434e-06, -1.12043724e-04, ...,\n",
       "         7.20280558e-05,  1.03400853e-05, -6.66888351e-06]),\n",
       " array([ 1.24768516e-05, -4.52356271e-06, -9.75279442e-05, ...,\n",
       "        -9.74774787e-05, -4.53362878e-06,  1.24748936e-05]),\n",
       " array([ 9.73400133e-06,  1.24860238e-05,  5.65370232e-05, ...,\n",
       "        -8.04971706e-05, -1.26399917e-05, -7.26917077e-06]),\n",
       " array([ 1.23787578e-05, -5.42463143e-06, -9.00110893e-05, ...,\n",
       "         1.09141189e-04,  9.79441239e-07, -1.25564208e-05]),\n",
       " array([ 1.14944323e-05,  9.73081806e-06, -2.93087104e-05, ...,\n",
       "        -4.52054022e-06, -1.16980353e-05, -9.40088261e-06]),\n",
       " array([ 1.26870524e-05,  3.60502062e-09, -1.14179599e-04, ...,\n",
       "        -1.08632417e-04, -3.90812781e-06,  1.20695664e-05]),\n",
       " array([ 1.26641742e-05,  1.52039908e-06, -1.12330982e-04, ...,\n",
       "        -1.06312592e-04, -5.32854749e-06,  1.11731904e-05]),\n",
       " array([ 1.14782301e-05,  9.77960650e-06, -2.83119060e-05, ...,\n",
       "         3.40094957e-05, -9.34736690e-06, -1.17430431e-05]),\n",
       " array([ 1.26869711e-05,  9.09026680e-08, -1.14173015e-04, ...,\n",
       "         4.37519107e-06, -1.26759119e-05, -5.76972216e-07]),\n",
       " array([ 6.28534977e-06,  1.09196225e-05,  1.14165249e-04, ...,\n",
       "        -1.13249479e-04, -1.17315540e-05, -7.79768495e-06]),\n",
       " array([ 1.22423017e-05,  6.42608168e-06, -7.98201015e-05, ...,\n",
       "        -8.71619562e-05, -1.04498349e-05,  4.19978788e-06]),\n",
       " array([8.83557133e-06, 1.26813472e-05, 8.42863465e-05, ...,\n",
       "        7.67430395e-05, 1.26616289e-05, 9.64544396e-06]),\n",
       " array([1.23812657e-06, 2.46443331e-06, 3.30038024e-05, ...,\n",
       "        1.13157623e-04, 1.23481925e-05, 1.20050078e-05]),\n",
       " array([ 1.03987311e-05,  1.19146265e-05,  2.92739708e-05, ...,\n",
       "        -8.62044873e-05,  1.33135315e-06,  1.11040342e-05]),\n",
       " array([7.44900095e-06, 1.20597790e-05, 1.08676118e-04, ...,\n",
       "        1.27955190e-05, 8.55298907e-06, 1.24253406e-05]),\n",
       " array([ 5.68444524e-06,  1.01638796e-05,  1.12394814e-04, ...,\n",
       "        -7.18617035e-05, -2.72117251e-06,  3.11940360e-06]),\n",
       " array([ 1.24272440e-05, -5.00416106e-06, -9.37064964e-05, ...,\n",
       "        -1.00480153e-04,  8.15010121e-06,  7.88298365e-06]),\n",
       " array([ 4.01153217e-06,  7.61144539e-06,  9.38700323e-05, ...,\n",
       "        -1.09011773e-04, -1.02981825e-05, -7.42685075e-06]),\n",
       " array([ 1.15002283e-05,  9.71320268e-06, -2.96662766e-05, ...,\n",
       "        -7.54248524e-05,  5.09459243e-06,  1.26837641e-05]),\n",
       " array([ 8.04183090e-06,  1.24398565e-05,  1.00808316e-04, ...,\n",
       "        -1.10918857e-04, -1.14406722e-05, -5.37276775e-06]),\n",
       " array([6.97546517e-07, 1.39298282e-06, 1.87572111e-05, ...,\n",
       "        1.11097485e-04, 1.21649316e-05, 1.19484793e-05]),\n",
       " array([ 1.05943423e-05,  1.16574163e-05,  2.00947063e-05, ...,\n",
       "         6.95726032e-06, -1.01493437e-05, -1.19408200e-05]),\n",
       " array([ 1.15267910e-05,  9.63135737e-06, -3.13116265e-05, ...,\n",
       "        -8.45912917e-05, -1.16689314e-05, -3.50774206e-07]),\n",
       " array([9.55568867e-06, 1.25716468e-05, 6.28521671e-05, ...,\n",
       "        2.74924918e-05, 1.12840438e-05, 1.17906792e-05]),\n",
       " array([ 6.83380096e-06,  1.15154146e-05,  1.13130203e-04, ...,\n",
       "         4.13635415e-05, -2.49723706e-06, -8.80411709e-06]),\n",
       " array([ 2.58049398e-06,  5.05310569e-06,  6.58279405e-05, ...,\n",
       "        -1.04670025e-04, -1.03562591e-05, -8.64915958e-06]),\n",
       " array([ 1.26196245e-05, -2.59868343e-06, -1.08756760e-04, ...,\n",
       "        -5.84588667e-05,  1.15089509e-05,  4.12568031e-06]),\n",
       " array([ 1.26846086e-05, -4.97929992e-07, -1.13981706e-04, ...,\n",
       "        -8.42785518e-05, -8.37407954e-06,  9.69332199e-06]),\n",
       " array([ 1.20619241e-05,  7.47909569e-06, -6.68177811e-05, ...,\n",
       "         1.12968615e-04,  5.64371844e-06, -9.05305873e-06]),\n",
       " array([ 1.24787237e-05,  4.50421648e-06, -9.76729679e-05, ...,\n",
       "         7.98252312e-05,  1.05231230e-05, -5.07143114e-06]),\n",
       " array([ 1.17651809e-05,  8.80566899e-06, -4.65694960e-05, ...,\n",
       "         1.13588565e-04,  3.52769882e-06, -9.98106674e-06]),\n",
       " array([ 1.26869124e-05, -1.19274445e-07, -1.14168257e-04, ...,\n",
       "         6.81801705e-05, -1.02123400e-05, -7.47982074e-06]),\n",
       " array([1.23256859e-06, 2.45347605e-06, 3.28594327e-05, ...,\n",
       "        7.65662630e-05, 9.38177386e-06, 1.01671380e-05]),\n",
       " array([ 2.93185323e-06,  5.70498962e-06,  7.35210733e-05, ...,\n",
       "        -1.13768482e-04, -1.20506213e-05, -1.08075082e-05]),\n",
       " array([ 1.26444764e-05, -2.07006559e-06, -1.10746470e-04, ...,\n",
       "         1.24978929e-05, -1.26821751e-05,  6.87535615e-07]),\n",
       " array([ 1.22969725e-05, -6.05167381e-06, -8.38661795e-05, ...,\n",
       "        -5.52421385e-05,  1.22723185e-05,  9.86821870e-08]),\n",
       " array([7.88318478e-06, 1.23533896e-05, 1.03273887e-04, ...,\n",
       "        5.50907770e-05, 1.17011743e-05, 1.22149873e-05]),\n",
       " array([ 7.93632983e-06,  1.23836524e-05,  1.02477864e-04, ...,\n",
       "        -2.93530929e-05,  5.12496180e-06,  1.12584285e-05]),\n",
       " array([ 1.15644854e-05,  9.51198987e-06, -3.36652389e-05, ...,\n",
       "         9.05944476e-05,  1.11786260e-05, -8.71776420e-07]),\n",
       " array([ 8.88042056e-06,  1.26844859e-05,  8.31361343e-05, ...,\n",
       "        -9.29572108e-05, -2.22005406e-06,  7.15787992e-06]),\n",
       " array([ 7.51666712e-06,  1.21107685e-05,  1.07960933e-04, ...,\n",
       "         9.88030331e-05,  5.07683229e-06, -2.79875185e-06]),\n",
       " array([ 1.26558089e-05,  1.77528345e-06, -1.11657264e-04, ...,\n",
       "         8.72594136e-05,  8.84233124e-06, -8.45546749e-06]),\n",
       " array([1.04046244e-05, 1.19075375e-05, 2.90052716e-05, ...,\n",
       "        9.16414699e-05, 1.20332250e-05, 3.58865391e-06]),\n",
       " array([ 1.25344779e-05,  3.87616581e-06, -1.02018850e-04, ...,\n",
       "         1.03626141e-04, -3.48284223e-06, -1.25914404e-05]),\n",
       " array([ 3.04293547e-06,  5.90823052e-06,  7.58549690e-05, ...,\n",
       "        -5.36197678e-05, -3.09751672e-06, -5.62531396e-08]),\n",
       " array([5.79080747e-06, 1.03048236e-05, 1.12917124e-04, ...,\n",
       "        1.05454317e-04, 1.26459571e-05, 1.07861164e-05]),\n",
       " array([ 1.26554209e-05, -1.78620579e-06, -1.11626040e-04, ...,\n",
       "        -1.00258702e-05, -1.25279209e-05,  2.88223350e-06]),\n",
       " array([ 1.24523251e-05,  4.76846801e-06, -9.56334438e-05, ...,\n",
       "         1.08671123e-04,  6.13305445e-06, -9.72639839e-06]),\n",
       " array([ 7.40448978e-06,  1.20252293e-05,  1.09121590e-04, ...,\n",
       "        -4.60083794e-07, -7.44594202e-06, -1.20414275e-05]),\n",
       " array([ 1.25952260e-05,  3.02529270e-06, -1.06813517e-04, ...,\n",
       "        -2.83770861e-05, -1.25787191e-05,  1.31788394e-07]),\n",
       " array([8.80979234e-06, 1.26789931e-05, 8.49366783e-05, ...,\n",
       "        8.12024938e-05, 1.26861325e-05, 9.23499086e-06]),\n",
       " array([ 7.15315841e-07,  1.42835597e-06,  1.92310165e-05, ...,\n",
       "        -1.12302590e-04, -1.23294684e-05, -1.21412240e-05]),\n",
       " array([ 9.73814242e-06,  1.24837269e-05,  5.63854567e-05, ...,\n",
       "        -1.07902404e-04, -4.50055834e-06,  6.22011003e-06]),\n",
       " array([7.42598020e-06, 1.20420094e-05, 1.08908977e-04, ...,\n",
       "        1.13496649e-04, 1.10361691e-05, 5.28514563e-06]),\n",
       " array([ 1.15643574e-05,  9.51240161e-06, -3.36572125e-05, ...,\n",
       "         8.67098440e-05,  1.14864216e-05, -1.86458543e-07]),\n",
       " array([ 1.25688583e-05, -3.42329806e-06, -1.04724749e-04, ...,\n",
       "        -9.09386130e-05, -6.22433928e-06,  1.17999149e-05]),\n",
       " array([ 1.05715374e-05,  1.16898023e-05,  2.11926686e-05, ...,\n",
       "         9.33749595e-05, -3.47665501e-07, -1.07597883e-05]),\n",
       " array([ 1.00211773e-05,  1.22913491e-05,  4.54900626e-05, ...,\n",
       "         1.12830524e-04,  6.15270699e-06, -4.99062360e-06]),\n",
       " array([ 1.11696320e-05,  1.05941506e-05, -1.00914748e-05, ...,\n",
       "        -6.93027123e-06, -1.15142291e-05, -1.01509372e-05]),\n",
       " array([ 6.86135351e-07,  1.37026241e-06,  1.84527847e-05, ...,\n",
       "        -2.05237359e-05, -1.60219495e-06, -9.19208098e-07]),\n",
       " array([ 5.87093697e-06,  1.04090384e-05,  1.13252641e-04, ...,\n",
       "        -1.03547913e-04, -1.26735540e-05, -1.09642116e-05]),\n",
       " array([ 1.26577467e-05, -1.71967909e-06, -1.11813220e-04, ...,\n",
       "        -5.86318064e-05, -1.04188882e-05,  7.93037376e-06]),\n",
       " array([ 1.10855718e-05,  1.07826815e-05, -5.37736035e-06, ...,\n",
       "        -1.01042074e-04, -1.06228698e-05,  8.94655116e-07]),\n",
       " array([ 1.18547615e-05,  8.44603776e-06, -5.25339356e-05, ...,\n",
       "         3.13991889e-05,  1.26405541e-05,  5.51696634e-06]),\n",
       " array([ 1.13190688e-05,  1.02254264e-05, -1.87339235e-05, ...,\n",
       "         4.88971258e-05, -7.77448421e-06, -1.24565155e-05]),\n",
       " array([ 6.95968563e-06,  1.16380873e-05,  1.12511430e-04, ...,\n",
       "        -5.86766839e-05, -1.14216706e-05, -1.25796313e-05]),\n",
       " array([ 7.83893307e-06,  1.23272124e-05,  1.03913898e-04, ...,\n",
       "        -1.57800532e-05, -9.14237366e-06, -1.26235557e-05]),\n",
       " array([1.05279430e-05, 1.17499068e-05, 2.32710446e-05, ...,\n",
       "        1.02898243e-04, 1.09432268e-05, 7.79867009e-07]),\n",
       " array([ 1.24995499e-05, -4.28205416e-06, -9.92902029e-05, ...,\n",
       "         6.96708500e-05,  8.57684347e-06, -1.06796939e-05]),\n",
       " array([5.72709130e-06, 1.02207447e-05, 1.12614689e-04, ...,\n",
       "        1.10802415e-04, 1.23686094e-05, 9.76160786e-06]),\n",
       " array([ 1.82868992e-06,  3.61918785e-06,  4.80052709e-05, ...,\n",
       "        -1.11299010e-04, -1.26460079e-05, -1.26609303e-05]),\n",
       " array([ 8.44695302e-06,  1.26051573e-05,  9.32672554e-05, ...,\n",
       "         3.85275768e-05, -4.75734601e-06, -1.13802442e-05]),\n",
       " array([ 9.51487593e-06,  1.25877009e-05,  6.42399839e-05, ...,\n",
       "         1.00453707e-04,  2.86024265e-06, -7.37794384e-06]),\n",
       " array([ 5.54069148e-06,  9.96878348e-06,  1.11552056e-04, ...,\n",
       "         2.71485558e-05, -2.66805885e-06, -7.81696596e-06]),\n",
       " array([ 1.24812540e-05, -4.47791323e-06, -9.78690616e-05, ...,\n",
       "        -8.48118779e-06,  1.26158246e-05, -3.58380721e-06]),\n",
       " array([ 1.08841504e-05,  1.11851224e-05,  5.49221333e-06, ...,\n",
       "        -3.02933026e-05, -1.22236463e-05, -9.19562207e-06]),\n",
       " array([ 1.18919460e-05,  8.28737398e-06, -5.50471862e-05, ...,\n",
       "        -2.77518333e-05,  1.04608599e-05,  1.03737063e-05]),\n",
       " array([ 1.23848436e-05,  5.37411602e-06, -9.04727727e-05, ...,\n",
       "         4.78469654e-05,  1.23984698e-05,  6.35194233e-08]),\n",
       " array([ 1.25672687e-05, -3.44569717e-06, -1.04599200e-04, ...,\n",
       "        -2.26894832e-05,  1.26622607e-05, -9.50603107e-07]),\n",
       " array([7.56559095e-06, 1.21464658e-05, 1.07415098e-04, ...,\n",
       "        1.06436223e-05, 8.48202512e-06, 1.24351252e-05]),\n",
       " array([ 9.57018281e-06,  1.25656346e-05,  6.23541664e-05, ...,\n",
       "        -9.16242345e-05, -1.23943193e-05, -6.09290625e-06]),\n",
       " array([ 7.20566317e-06,  1.18613898e-05,  1.10872772e-04, ...,\n",
       "        -1.12187341e-04, -8.91981886e-06, -2.21741474e-06]),\n",
       " array([ 1.24612027e-05, -4.68158650e-06, -9.63180124e-05, ...,\n",
       "         4.33885490e-06,  1.23616394e-05, -5.12629257e-06]),\n",
       " array([ 7.23468836e-06,  1.18862581e-05,  1.10641209e-04, ...,\n",
       "        -1.14116493e-04, -1.01758380e-05, -4.03839147e-06]),\n",
       " array([ 8.35172567e-06,  1.25738032e-05,  9.52037916e-05, ...,\n",
       "        -4.61637820e-05,  3.77737371e-06,  1.08164455e-05]),\n",
       " array([ 1.25806681e-05, -3.25158485e-06, -1.05658830e-04, ...,\n",
       "         1.05426827e-04,  3.31685107e-06, -1.25717577e-05]),\n",
       " array([4.02925268e-06, 7.64130752e-06, 9.41562929e-05, ...,\n",
       "        1.04959053e-04, 9.47247157e-06, 6.30163066e-06]),\n",
       " array([ 1.25761882e-05, -3.31786582e-06, -1.05304219e-04, ...,\n",
       "         8.58731030e-05,  7.02983590e-06, -1.13963989e-05]),\n",
       " array([ 4.37730830e-06,  8.21703685e-06,  9.94252735e-05, ...,\n",
       "        -6.79715213e-06, -5.07843256e-06, -8.77791522e-06]),\n",
       " array([ 1.26597217e-05,  1.66104524e-06, -1.11972239e-04, ...,\n",
       "        -1.13422590e-04, -2.28218130e-06,  1.23034980e-05]),\n",
       " array([ 1.13854677e-05,  1.00465548e-05, -2.26825772e-05, ...,\n",
       "        -2.82219634e-05, -1.24157487e-05, -7.81979669e-06]),\n",
       " array([ 1.23832825e-05,  5.38713143e-06, -9.03542861e-05, ...,\n",
       "        -8.31213663e-05,  6.48087051e-06,  1.20554097e-05]),\n",
       " array([ 8.48323732e-06,  1.26158375e-05,  9.25023994e-05, ...,\n",
       "        -1.10328425e-04, -6.93090343e-06,  1.95184289e-06]),\n",
       " array([ 4.41675200e-06,  8.28093317e-06,  9.99785508e-05, ...,\n",
       "        -1.00593317e-04, -1.25677810e-05, -1.23858193e-05]),\n",
       " array([ 6.47304725e-06,  1.11342951e-05,  1.14107724e-04, ...,\n",
       "        -1.13346579e-04, -1.16123864e-05, -7.37998713e-06]),\n",
       " array([ 1.09455969e-05,  1.10693245e-05,  2.23960813e-06, ...,\n",
       "        -8.11997184e-05,  3.13286703e-06,  1.21907767e-05]),\n",
       " array([ 1.20209340e-05,  7.68779714e-06, -6.39367672e-05, ...,\n",
       "        -8.29750578e-05, -1.12059346e-05,  2.05318555e-06]),\n",
       " array([ 9.78007066e-06,  1.24596587e-05,  5.48382201e-05, ...,\n",
       "        -7.62638978e-05, -1.26764774e-05, -7.67558298e-06]),\n",
       " array([ 1.26803365e-05,  8.25075919e-07, -1.13636015e-04, ...,\n",
       "         9.59863563e-05, -6.52019445e-06, -1.10897633e-05]),\n",
       " array([ 7.32461019e-06,  1.19612531e-05,  1.09871747e-04, ...,\n",
       "        -1.10668472e-04, -8.23811232e-06, -1.15610969e-06]),\n",
       " array([ 8.47700540e-06,  1.26140535e-05,  9.26348295e-05, ...,\n",
       "        -4.19691702e-05, -1.13532178e-05, -1.22305500e-05]),\n",
       " array([ 1.12956442e-05,  1.02862381e-05, -1.73568950e-05, ...,\n",
       "         1.51173658e-06,  1.13711369e-05,  1.01870082e-05]),\n",
       " array([ 9.00356948e-06,  1.26867190e-05,  7.98542011e-05, ...,\n",
       "        -9.07796104e-05, -1.25675981e-05, -7.62174358e-06]),\n",
       " array([ 1.19303137e-05,  8.11736210e-06, -5.76635371e-05, ...,\n",
       "         2.86520920e-05,  1.26316616e-05,  5.41088433e-06]),\n",
       " array([5.73033961e-06, 1.02250568e-05, 1.12630865e-04, ...,\n",
       "        1.05677930e-04, 8.30661900e-06, 3.07970767e-06]),\n",
       " array([ 9.36889487e-06,  1.26348180e-05,  6.90305577e-05, ...,\n",
       "         1.10845858e-04,  6.05764091e-06, -4.14733624e-06]),\n",
       " array([ 1.21623776e-05,  6.92294879e-06, -7.39933805e-05, ...,\n",
       "        -4.43539832e-05, -1.26098666e-05, -2.24927699e-06]),\n",
       " array([ 1.13284243e-05,  1.02008107e-05, -1.92862239e-05, ...,\n",
       "         2.07744289e-06,  1.14304780e-05,  1.00618714e-05]),\n",
       " array([1.07799002e-05, 1.13685491e-05, 1.08846079e-05, ...,\n",
       "        6.00769389e-06, 1.11169660e-05, 1.10564767e-05]),\n",
       " array([6.52187862e-06, 1.11883549e-05, 1.14042954e-04, ...,\n",
       "        1.08150750e-04, 8.21655574e-06, 2.07843573e-06]),\n",
       " array([ 3.52786690e-06,  6.77746490e-06,  8.54293778e-05, ...,\n",
       "        -1.09002758e-04, -1.05839178e-05, -8.22117653e-06]),\n",
       " array([3.51222707e-06, 6.74991960e-06, 8.51371388e-05, ...,\n",
       "        9.31157428e-05, 7.90954514e-06, 4.85429404e-06]),\n",
       " array([ 7.84681951e-06,  1.23319422e-05,  1.03801349e-04, ...,\n",
       "        -1.08736185e-04, -7.10017549e-06,  9.23679285e-07]),\n",
       " array([ 1.16707395e-05,  9.15377728e-06, -4.04185818e-05, ...,\n",
       "         3.16084964e-05, -9.83726804e-06, -1.12278942e-05]),\n",
       " array([ 1.26706713e-05, -1.28735281e-06, -1.12855056e-04, ...,\n",
       "        -4.81318473e-05, -1.12181700e-05,  6.48794120e-06]),\n",
       " array([ 5.70302357e-06,  1.01887100e-05,  1.12492312e-04, ...,\n",
       "         2.40721738e-05, -3.18553392e-06, -8.36587718e-06]),\n",
       " array([ 1.01823554e-05,  1.21484978e-05,  3.88060869e-05, ...,\n",
       "        -8.69760873e-05, -1.23621044e-05, -5.08480457e-06]),\n",
       " array([ 1.20064411e-05,  7.75933397e-06, -6.29246177e-05, ...,\n",
       "         7.63214382e-05, -6.18975235e-06, -1.24806625e-05]),\n",
       " array([2.06284467e-06, 4.07078872e-06, 5.37317157e-05, ...,\n",
       "        1.13808762e-04, 1.23114432e-05, 1.16493834e-05]),\n",
       " array([ 2.50827224e-06,  4.91752745e-06,  6.41917449e-05, ...,\n",
       "        -1.12403616e-04, -1.18025127e-05, -1.06493940e-05]),\n",
       " array([ 3.16759176e-06,  6.13455250e-06,  7.84139772e-05, ...,\n",
       "         1.76658481e-05, -1.22867538e-06, -4.34246652e-06]),\n",
       " array([ 1.01330661e-05,  1.21949037e-05,  4.08875064e-05, ...,\n",
       "         8.59645163e-05, -9.21294218e-07, -1.06606917e-05]),\n",
       " array([ 1.25653355e-05, -3.47272407e-06, -1.04446570e-04, ...,\n",
       "         8.96339140e-05, -9.16005733e-06, -7.42806486e-06]),\n",
       " array([ 1.04120881e-05,  1.18985025e-05,  2.86642740e-05, ...,\n",
       "        -6.46102476e-06, -1.08056071e-05, -1.16302838e-05]),\n",
       " array([ 6.56895098e-06,  1.12397512e-05,  1.13960765e-04, ...,\n",
       "        -1.03145910e-04, -6.98792711e-06, -4.95592561e-07]),\n",
       " array([ 1.26686115e-05,  1.36561389e-06, -1.12688833e-04, ...,\n",
       "        -9.50864158e-05,  6.44395306e-06,  1.12601411e-05]),\n",
       " array([ 1.23939680e-05,  5.29722787e-06, -9.11661346e-05, ...,\n",
       "         1.13947758e-04,  3.49517497e-06, -1.11674396e-05]),\n",
       " array([ 1.17558235e-05,  8.84151568e-06, -4.59537865e-05, ...,\n",
       "        -5.30159107e-05, -1.26269957e-05, -3.60586533e-06]),\n",
       " array([7.99147483e-07, 1.59512108e-06, 2.14621096e-05, ...,\n",
       "        6.69995953e-05, 8.07696810e-06, 8.67720650e-06]),\n",
       " array([ 3.41791099e-06,  6.58308762e-06,  8.33505338e-05, ...,\n",
       "        -8.73751235e-05, -1.15499780e-05, -1.25372277e-05]),\n",
       " array([8.43777950e-06, 1.26023455e-05, 9.34582629e-05, ...,\n",
       "        7.03170965e-05, 1.24826466e-05, 1.08303296e-05]),\n",
       " array([8.43971417e-06, 1.26029422e-05, 9.34180592e-05, ...,\n",
       "        1.02440075e-04, 1.22262392e-05, 6.87470712e-06]),\n",
       " array([ 1.26330931e-05,  2.32780035e-06, -1.09833793e-04, ...,\n",
       "         6.63626808e-05, -9.60083407e-06, -9.14295059e-06]),\n",
       " array([ 1.26865432e-05,  2.27347295e-07, -1.14138360e-04, ...,\n",
       "        -7.18683525e-05, -9.92969713e-06,  7.80769902e-06]),\n",
       " array([ 1.26865557e-05, -2.24548016e-07, -1.14139370e-04, ...,\n",
       "        -9.11103398e-05,  7.73597449e-06,  9.98678929e-06]),\n",
       " array([ 1.26869999e-05,  7.30834411e-08, -1.14175347e-04, ...,\n",
       "        -1.13960140e-04, -8.22717665e-07,  1.26579269e-05]),\n",
       " array([ 1.18676022e-06,  2.36311356e-06,  3.16676281e-05, ...,\n",
       "        -9.43445514e-05, -9.76866806e-06, -8.96859058e-06]),\n",
       " array([ 1.16897594e-05,  9.08604108e-06, -4.16460687e-05, ...,\n",
       "        -1.08196388e-04, -9.37762237e-07,  1.12933378e-05]),\n",
       " array([ 1.15903751e-05,  9.42773886e-06, -3.52945408e-05, ...,\n",
       "        -6.98220776e-05,  6.01539033e-06,  1.26512559e-05]),\n",
       " array([ 1.15144784e-05,  9.66952428e-06, -3.05476025e-05, ...,\n",
       "        -1.03199807e-04,  1.11928278e-07,  1.15610273e-05]),\n",
       " array([ 1.40560954e-06,  2.79391249e-06,  3.73290752e-05, ...,\n",
       "        -5.16956313e-05, -4.45550178e-06, -3.11199176e-06]),\n",
       " array([ 1.17859415e-05,  8.72501620e-06, -4.79404612e-05, ...,\n",
       "        -1.06748505e-04, -2.07996265e-07,  1.17073687e-05]),\n",
       " array([ 1.17204573e-05,  8.97424421e-06, -4.36391872e-05, ...,\n",
       "         7.63135971e-07,  1.17526591e-05,  8.91410513e-06]),\n",
       " array([ 8.84125471e-06,  1.26818125e-05,  8.41419116e-05, ...,\n",
       "         9.78225326e-05,  3.23575490e-06, -6.22820168e-06]),\n",
       " array([ 4.69002181e-06,  8.71559080e-06,  1.03554003e-04, ...,\n",
       "        -1.13801678e-04, -1.13680437e-05, -8.48047565e-06]),\n",
       " array([ 1.21355808e-05,  7.07807857e-06, -7.20631796e-05, ...,\n",
       "        -4.90091462e-06,  1.19655879e-05,  7.52349468e-06]),\n",
       " array([ 1.25410059e-05,  3.79480415e-06, -1.02531098e-04, ...,\n",
       "         1.14047448e-06, -1.25212075e-05, -3.91553699e-06]),\n",
       " array([ 6.65005932e-06,  1.13266355e-05,  1.13773248e-04, ...,\n",
       "         3.76183884e-05, -2.71903176e-06, -8.81112129e-06]),\n",
       " array([ 1.11349795e-05,  1.06734338e-05, -8.13536710e-06, ...,\n",
       "        -7.07136426e-07, -1.11724242e-05, -1.06307530e-05]),\n",
       " array([1.07035064e-05, 1.14930894e-05, 1.47362138e-05, ...,\n",
       "        2.88646665e-05, 1.20777852e-05, 9.76145324e-06]),\n",
       " array([ 1.07985908e-05,  1.13368309e-05,  9.92943506e-06, ...,\n",
       "        -7.04749074e-06,  1.03669452e-05,  1.16667515e-05]),\n",
       " array([ 1.26707995e-05,  1.28232126e-06, -1.12865406e-04, ...,\n",
       "         4.51293692e-07,  1.26732380e-05,  1.23242260e-06]),\n",
       " array([ 1.26794560e-05, -8.77423871e-07, -1.13564798e-04, ...,\n",
       "        -7.61023551e-05,  9.74501788e-06,  7.78174384e-06]),\n",
       " array([ 7.04305502e-06,  1.17162457e-05,  1.12020340e-04, ...,\n",
       "         9.29246919e-05,  4.49559504e-06, -2.84681378e-06]),\n",
       " array([ 1.03590749e-05,  1.19613063e-05,  3.10694581e-05, ...,\n",
       "        -2.96280921e-05,  8.10358623e-06,  1.26490842e-05]),\n",
       " ...]"
      ]
     },
     "execution_count": 69,
     "metadata": {},
     "output_type": "execute_result"
    }
   ],
   "source": [
    "tones"
   ]
  },
  {
   "cell_type": "code",
   "execution_count": 66,
   "id": "ed053f7f",
   "metadata": {},
   "outputs": [
    {
     "ename": "TypeError",
     "evalue": "'list' object cannot be interpreted as an integer",
     "output_type": "error",
     "traceback": [
      "\u001b[1;31m---------------------------------------------------------------------------\u001b[0m",
      "\u001b[1;31mTypeError\u001b[0m                                 Traceback (most recent call last)",
      "\u001b[1;32mC:\\Users\\LAPTOP~1\\AppData\\Local\\Temp/ipykernel_14076/2406213853.py\u001b[0m in \u001b[0;36m<module>\u001b[1;34m\u001b[0m\n\u001b[0;32m      3\u001b[0m     \u001b[1;32mfor\u001b[0m \u001b[0mf\u001b[0m \u001b[1;32min\u001b[0m \u001b[0mfreq_list\u001b[0m\u001b[1;33m:\u001b[0m\u001b[1;33m\u001b[0m\u001b[1;33m\u001b[0m\u001b[0m\n\u001b[0;32m      4\u001b[0m         \u001b[1;31m# Genera una cantidad de tonos basada en las densidades establecidas\u001b[0m\u001b[1;33m\u001b[0m\u001b[1;33m\u001b[0m\u001b[1;33m\u001b[0m\u001b[0m\n\u001b[1;32m----> 5\u001b[1;33m         \u001b[1;32mfor\u001b[0m \u001b[0ms\u001b[0m \u001b[1;32min\u001b[0m \u001b[0mrange\u001b[0m\u001b[1;33m(\u001b[0m\u001b[0mspectral_density\u001b[0m\u001b[1;33m)\u001b[0m\u001b[1;33m:\u001b[0m  \u001b[1;31m# Ya no es necesario usar índice\u001b[0m\u001b[1;33m\u001b[0m\u001b[1;33m\u001b[0m\u001b[0m\n\u001b[0m\u001b[0;32m      6\u001b[0m             \u001b[1;32mfor\u001b[0m \u001b[0mt\u001b[0m \u001b[1;32min\u001b[0m \u001b[0mrange\u001b[0m\u001b[1;33m(\u001b[0m\u001b[0mtemporal_density\u001b[0m\u001b[1;33m)\u001b[0m\u001b[1;33m:\u001b[0m  \u001b[1;31m# Ya no es necesario usar índice\u001b[0m\u001b[1;33m\u001b[0m\u001b[1;33m\u001b[0m\u001b[0m\n\u001b[0;32m      7\u001b[0m                 \u001b[1;31m# Genera una frecuencia aleatoria entre minf y maxf\u001b[0m\u001b[1;33m\u001b[0m\u001b[1;33m\u001b[0m\u001b[1;33m\u001b[0m\u001b[0m\n",
      "\u001b[1;31mTypeError\u001b[0m: 'list' object cannot be interpreted as an integer"
     ]
    }
   ],
   "source": [
    "for g in timegrid:\n",
    "    # Para cada valor de g en la cuadrícula de tiempo\n",
    "    for f in freq_list:\n",
    "        # Genera una cantidad de tonos basada en las densidades establecidas\n",
    "        for s in range(spectral_density):  # Ya no es necesario usar índice\n",
    "            for t in range(temporal_density):  # Ya no es necesario usar índice\n",
    "                # Genera una frecuencia aleatoria entre minf y maxf\n",
    "                ftone = np.random.uniform(minf, maxf)\n",
    "                # Calcula la amplitud de ese tono\n",
    "                amp = np.sin(2 * np.pi * ftone * ttone)\n",
    "                amp = amp * env  # Aplica la envolvente predefinida\n",
    "                # Dibuja el tono en la gráfica\n",
    "                plt.scatter(g, ftone, color='blue', marker='o', s=20)\n",
    "\n",
    "# Etiquetas y visualización\n",
    "plt.xlabel('Time (s)')\n",
    "plt.ylabel('Frequency (Hz)')\n",
    "plt.title('Random Tones with Spectral and Temporal Density')\n",
    "plt.xlim(0, totaltime)\n",
    "plt.ylim(minf, maxf + 800)\n",
    "\n",
    "# Mostrar la gráfica con tonos aleatorios\n",
    "plt.show()\n"
   ]
  },
  {
   "cell_type": "code",
   "execution_count": 48,
   "id": "a1868ef0",
   "metadata": {},
   "outputs": [],
   "source": [
    "i=0\n",
    "f=0\n",
    "t=0\n",
    "for i in range(temporal_density[0],spectral_density[0]):\n",
    "    i=i+1\n",
    "    for f in range(len(freq_list)):\n",
    "        f=f+1\n",
    "        for t in range(len(timegrid)):\n",
    "            t=t+1\n",
    "            ftone = np.random.uniform(minf, maxf) #pick a random tone frequency between minf and maxf\n",
    "            amp = np.sin(2*np.pi*ftone*ttone) #make the tone\n",
    "            amp = amp*env #hanning env already calculated outside\n",
    "            for t in timegrid:\n",
    "                linetime=plt.axvline(x=t, color='gray', linestyle='--', linewidth=0.5)\n",
    "    \n",
    "            for f in freq_list:\n",
    "                linefreq=plt.axhline(y=f, color='gray', linestyle='--', linewidth=0.5)\n",
    "\n",
    "            plt.xlabel('Time (s)')\n",
    "            plt.ylabel('Frequency (Hz)')\n",
    "            plt.title('Grid')\n",
    "            plt.xlim(0, totaltime)\n",
    "            plt.ylim(minf, maxf+800)\n",
    "            plt.show()\n",
    "                   \n",
    "                   \n",
    "        \n",
    "    \n"
   ]
  },
  {
   "cell_type": "code",
   "execution_count": 16,
   "id": "7a592080",
   "metadata": {},
   "outputs": [],
   "source": [
    "for s in range(len(spectral_density)):\n",
    "    specdens = spectral_density[s]\n",
    "    freq_list = np.logspace(np.log10(minf),np.log10(maxf),specdens*noct+1)\n",
    "    for t in range(len(temporal_density)):\n",
    "        for n in range(ntrialspercond):\n",
    "            for N in range(len(tempi)):\n",
    "                trialct = trialct+1\n",
    "                startt =(maxtokenstart-mintokenstart) + mintokenstart # time of first token start \n",
    "                startt_ms = startt*1000\n",
    "                seqdur = startt+ntokenreps\n",
    "                \n",
    "     \n",
    "                \n",
    "                #generating pure tones\n",
    "                #ftone = np.random.uniform(minf, maxf) #pick a random tone frequency between minf and maxf\n",
    "                #amp = np.sin(2*np.pi*ftone*ttone) #make the tone\n",
    "                #amp = amp*env #hanning env already calculated outside\n",
    "                #wav_filename = f\"{output_path}/trial_{trialct}_freq_{int(ftone)}_Hz.wav\"\n",
    "                #write(wav_filename, fs, amp.astype(np.float32))\n",
    "                #txt_filename = f\"{output_path}/trial_{trialct}_freq_{int(ftone)}.txt\"\n",
    "                #np.savetxt(txt_filename, amp, fmt='%0.6f')\n"
   ]
  },
  {
   "cell_type": "code",
   "execution_count": 8,
   "id": "7c2bc023",
   "metadata": {},
   "outputs": [
    {
     "data": {
      "text/plain": [
       "4"
      ]
     },
     "execution_count": 8,
     "metadata": {},
     "output_type": "execute_result"
    }
   ],
   "source": [
    "i=0\n",
    "while i<=tokendur:\n",
    "    \n",
    "\n",
    "token="
   ]
  },
  {
   "cell_type": "code",
   "execution_count": 32,
   "id": "9ffe032b",
   "metadata": {},
   "outputs": [
    {
     "data": {
      "text/plain": [
       "6.410821643286573"
      ]
     },
     "execution_count": 32,
     "metadata": {},
     "output_type": "execute_result"
    }
   ],
   "source": [
    "totaltime"
   ]
  },
  {
   "cell_type": "code",
   "execution_count": 33,
   "id": "57204488",
   "metadata": {},
   "outputs": [
    {
     "data": {
      "text/plain": [
       "31"
      ]
     },
     "execution_count": 33,
     "metadata": {},
     "output_type": "execute_result"
    }
   ],
   "source": [
    "len(freq_list)"
   ]
  },
  {
   "cell_type": "code",
   "execution_count": 34,
   "id": "b91bca6c",
   "metadata": {},
   "outputs": [
    {
     "data": {
      "text/plain": [
       "(7.410821643286573, 31)"
      ]
     },
     "execution_count": 34,
     "metadata": {},
     "output_type": "execute_result"
    }
   ],
   "source": [
    "time_freq=(totaltime+1),len(freq_list)\n",
    "time_freq"
   ]
  },
  {
   "cell_type": "code",
   "execution_count": 91,
   "id": "052e6f2d",
   "metadata": {},
   "outputs": [
    {
     "data": {
      "text/plain": [
       "array([  200.        ,   237.841423  ,   282.84271247,   336.3585661 ,\n",
       "         400.        ,   475.682846  ,   565.68542495,   672.7171322 ,\n",
       "         800.        ,   951.365692  ,  1131.3708499 ,  1345.43426441,\n",
       "        1600.        ,  1902.731384  ,  2262.7416998 ,  2690.86852881,\n",
       "        3200.        ,  3805.46276801,  4525.48339959,  5381.73705762,\n",
       "        6400.        ,  7610.92553602,  9050.96679919, 10763.47411525,\n",
       "       12800.        ])"
      ]
     },
     "execution_count": 91,
     "metadata": {},
     "output_type": "execute_result"
    }
   ],
   "source": [
    "freq_list"
   ]
  },
  {
   "cell_type": "code",
   "execution_count": 43,
   "id": "985e6a21",
   "metadata": {},
   "outputs": [],
   "source": [
    "for i in range(0,7):\n",
    "    tokenstartrange=np.linspace(1,1.5, num=500) #range from where I can choose to strat my token\n",
    "    tokenstart=np.random.choice(tokenstartrange)\n",
    "    \n",
    "    "
   ]
  },
  {
   "cell_type": "code",
   "execution_count": 49,
   "id": "62e3bc30",
   "metadata": {},
   "outputs": [
    {
     "data": {
      "text/plain": [
       "[array([200.        , 229.739671  , 263.90158215, 303.1433133 ]),\n",
       " array([400.        , 459.479342  , 527.80316431, 606.2866266 ]),\n",
       " array([ 800.        ,  918.958684  , 1055.60632862, 1212.57325321]),\n",
       " array([1600.        , 1837.917368  , 2111.21265724, 2425.14650642]),\n",
       " array([3200.        , 3675.83473599, 4222.42531447, 4850.29301283]),\n",
       " array([6400.        , 7351.66947198, 8444.85062895, 9700.58602567]),\n",
       " array([12800.])]"
      ]
     },
     "execution_count": 49,
     "metadata": {},
     "output_type": "execute_result"
    }
   ],
   "source": [
    "octavas=[]\n",
    "for i in range(0, len(freq_list), 5):\n",
    "    octava = freq_list[i:i+4]\n",
    "    octavas.append(octava)\n",
    "octavas"
   ]
  },
  {
   "cell_type": "code",
   "execution_count": 51,
   "id": "8b409b08",
   "metadata": {},
   "outputs": [
    {
     "data": {
      "text/plain": [
       "array([200.        , 229.739671  , 263.90158215, 303.1433133 ])"
      ]
     },
     "execution_count": 51,
     "metadata": {},
     "output_type": "execute_result"
    }
   ],
   "source": [
    "octavas[0]"
   ]
  },
  {
   "cell_type": "code",
   "execution_count": 50,
   "id": "62b7507d",
   "metadata": {},
   "outputs": [
    {
     "ename": "TypeError",
     "evalue": "'numpy.float64' object cannot be interpreted as an integer",
     "output_type": "error",
     "traceback": [
      "\u001b[1;31m---------------------------------------------------------------------------\u001b[0m",
      "\u001b[1;31mTypeError\u001b[0m                                 Traceback (most recent call last)",
      "\u001b[1;32mC:\\Users\\LAPTOP~1\\AppData\\Local\\Temp/ipykernel_2416/1677848286.py\u001b[0m in \u001b[0;36m<module>\u001b[1;34m\u001b[0m\n\u001b[1;32m----> 1\u001b[1;33m \u001b[0msoundmat\u001b[0m\u001b[1;33m=\u001b[0m\u001b[0mnp\u001b[0m\u001b[1;33m.\u001b[0m\u001b[0mzeros\u001b[0m\u001b[1;33m(\u001b[0m\u001b[0mtime_freq\u001b[0m\u001b[1;33m)\u001b[0m\u001b[1;33m\u001b[0m\u001b[1;33m\u001b[0m\u001b[0m\n\u001b[0m\u001b[0;32m      2\u001b[0m \u001b[0msoundmat\u001b[0m\u001b[1;33m\u001b[0m\u001b[1;33m\u001b[0m\u001b[0m\n",
      "\u001b[1;31mTypeError\u001b[0m: 'numpy.float64' object cannot be interpreted as an integer"
     ]
    }
   ],
   "source": [
    "soundmat=np.zeros(time_freq)\n",
    "soundmat"
   ]
  },
  {
   "cell_type": "code",
   "execution_count": null,
   "id": "6842a071",
   "metadata": {},
   "outputs": [],
   "source": [
    "for i in range():\n",
    "    while "
   ]
  },
  {
   "cell_type": "code",
   "execution_count": 127,
   "id": "fa957f2f",
   "metadata": {},
   "outputs": [
    {
     "data": {
      "text/plain": [
       "array([  200.        ,   237.841423  ,   282.84271247,   336.3585661 ,\n",
       "         400.        ,   475.682846  ,   565.68542495,   672.7171322 ,\n",
       "         800.        ,   951.365692  ,  1131.3708499 ,  1345.43426441,\n",
       "        1600.        ,  1902.731384  ,  2262.7416998 ,  2690.86852881,\n",
       "        3200.        ,  3805.46276801,  4525.48339959,  5381.73705762,\n",
       "        6400.        ,  7610.92553602,  9050.96679919, 10763.47411525,\n",
       "       12800.        ])"
      ]
     },
     "execution_count": 127,
     "metadata": {},
     "output_type": "execute_result"
    }
   ],
   "source": [
    "freq_list"
   ]
  },
  {
   "cell_type": "code",
   "execution_count": 37,
   "id": "22a8b4df",
   "metadata": {},
   "outputs": [],
   "source": [
    "octaves = []\n",
    "grids = []\n",
    "for f in range(0, len(freq_list)-1, 4):\n",
    "    octava_min = freq_list[f]  \n",
    "    octava_max = freq_list[f+4] if f+4 < len(freq_list) else freq_list[-1]  \n",
    "    grid = np.linspace(octava_min, octava_max, spectral_density[0], endpoint=False)\n",
    "    octaves.append((octava_min, octava_max))  \n",
    "    grids.append(grid)  "
   ]
  },
  {
   "cell_type": "code",
   "execution_count": 47,
   "id": "c65b1e33",
   "metadata": {},
   "outputs": [
    {
     "data": {
      "text/plain": [
       "[(200.00000000000003, 348.22022531844965),\n",
       " (348.22022531844965, 606.2866266041592),\n",
       " (606.2866266041592, 1055.6063286183164),\n",
       " (1055.6063286183164, 1837.9173679952573),\n",
       " (1837.9173679952573, 3200.0000000000023),\n",
       " (3200.0000000000023, 5571.523605095198),\n",
       " (5571.523605095198, 9700.586025666553),\n",
       " (9700.586025666553, 12800.000000000013)]"
      ]
     },
     "execution_count": 47,
     "metadata": {},
     "output_type": "execute_result"
    }
   ],
   "source": [
    "octaves"
   ]
  },
  {
   "cell_type": "code",
   "execution_count": 40,
   "id": "b7c79ccb",
   "metadata": {},
   "outputs": [],
   "source": [
    "i = freq_list[0] \n",
    "j = 0\n",
    "tones = []\n",
    "\n",
    "for f in range(spectral_density[0]):\n",
    "    while j < len(octaves):  \n",
    "        if i in octaves[j]:\n",
    "            tone = np.random.uniform(octaves[j][0], octaves[j][-1])\n",
    "        tones.append(tone)  \n",
    "        i += 1  \n",
    "        j += 1  \n"
   ]
  },
  {
   "cell_type": "code",
   "execution_count": 46,
   "id": "b66fb1ab",
   "metadata": {},
   "outputs": [
    {
     "name": "stdout",
     "output_type": "stream",
     "text": [
      "274.87300306723\n",
      "219.6667889879619\n",
      "244.55992747366037\n",
      "207.9781482032896\n",
      "250.3216371083465\n",
      "419.19713137930864\n",
      "511.39308527686137\n",
      "354.8235753157737\n",
      "499.6748517761622\n",
      "495.8934444501441\n",
      "763.5299160337152\n",
      "790.136615968926\n",
      "773.2035789015442\n",
      "620.3312925084872\n",
      "627.3607460589027\n",
      "1503.224177607564\n",
      "1367.8367371589893\n",
      "1289.1182853764412\n",
      "1109.6571235882984\n",
      "1088.1302891256898\n",
      "1954.8258667274783\n",
      "2421.107873888655\n",
      "1865.9706713040837\n",
      "1995.3505033316194\n",
      "1889.5200090483422\n",
      "3646.8449903225364\n",
      "4383.219097955251\n",
      "4386.685692716883\n",
      "3718.852058415869\n",
      "4266.399027879268\n",
      "6972.167003049871\n",
      "6574.17205716355\n",
      "6581.0025364735475\n",
      "6715.7626606911435\n",
      "5846.39110854829\n",
      "10354.627207792886\n",
      "11618.985965757112\n",
      "12570.473818773726\n",
      "10810.651249987659\n",
      "12494.158766576951\n"
     ]
    }
   ],
   "source": [
    "for j in range(len(octavas)):\n",
    "    for f in range(spectral_density[0]):  \n",
    "        tone = np.random.uniform(octavas[j][0], octavas[j][-1])\n",
    "        tones.append(tone)  \n",
    "        print(tone)\n",
    "        \n"
   ]
  },
  {
   "cell_type": "code",
   "execution_count": 28,
   "id": "d7e3d40b",
   "metadata": {},
   "outputs": [
    {
     "data": {
      "text/plain": [
       "array([  200.        ,   237.841423  ,   282.84271247,   336.3585661 ,\n",
       "         400.        ,   475.682846  ,   565.68542495,   672.7171322 ,\n",
       "         800.        ,   951.365692  ,  1131.3708499 ,  1345.43426441,\n",
       "        1600.        ,  1902.731384  ,  2262.7416998 ,  2690.86852881,\n",
       "        3200.        ,  3805.46276801,  4525.48339959,  5381.73705762,\n",
       "        6400.        ,  7610.92553602,  9050.96679919, 10763.47411525,\n",
       "       12800.        ])"
      ]
     },
     "execution_count": 28,
     "metadata": {},
     "output_type": "execute_result"
    }
   ],
   "source": [
    "freq_list"
   ]
  },
  {
   "cell_type": "code",
   "execution_count": 36,
   "id": "461a2d53",
   "metadata": {},
   "outputs": [
    {
     "data": {
      "text/plain": [
       "2.7990383196104363"
      ]
     },
     "execution_count": 36,
     "metadata": {},
     "output_type": "execute_result"
    }
   ],
   "source": [
    "while freq_list()"
   ]
  }
 ],
 "metadata": {
  "kernelspec": {
   "display_name": "Python 3 (ipykernel)",
   "language": "python",
   "name": "python3"
  },
  "language_info": {
   "codemirror_mode": {
    "name": "ipython",
    "version": 3
   },
   "file_extension": ".py",
   "mimetype": "text/x-python",
   "name": "python",
   "nbconvert_exporter": "python",
   "pygments_lexer": "ipython3",
   "version": "3.9.6"
  }
 },
 "nbformat": 4,
 "nbformat_minor": 5
}
